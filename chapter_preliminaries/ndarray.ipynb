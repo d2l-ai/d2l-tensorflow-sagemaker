{
 "cells": [
  {
   "cell_type": "markdown",
   "id": "f5a97b45",
   "metadata": {
    "origin_pos": 1
   },
   "source": [
    "# Data Manipulation\n",
    ":label:`sec_ndarray`\n",
    "\n",
    "In order to get anything done, \n",
    "we need some way to store and manipulate data.\n",
    "Generally, there are two important things \n",
    "we need to do with data: \n",
    "(i) acquire them; \n",
    "and (ii) process them once they are inside the computer. \n",
    "There is no point in acquiring data \n",
    "without some way to store it, \n",
    "so to start, let's get our hands dirty\n",
    "with $n$-dimensional arrays, \n",
    "which we also call *tensors*.\n",
    "If you already know the NumPy \n",
    "scientific computing package, \n",
    "this will be a breeze.\n",
    "For all modern deep learning frameworks,\n",
    "the *tensor class* (`ndarray` in MXNet, \n",
    "`Tensor` in PyTorch and TensorFlow) \n",
    "resembles NumPy's `ndarray`,\n",
    "with a few killer features added.\n",
    "First, the tensor class\n",
    "supports automatic differentiation.\n",
    "Second, it leverages GPUs\n",
    "to accelerate numerical computation,\n",
    "whereas NumPy only runs on CPUs.\n",
    "These properties make neural networks\n",
    "both easy to code and fast to run.\n",
    "\n",
    "\n",
    "\n",
    "## Getting Started\n"
   ]
  },
  {
   "cell_type": "markdown",
   "id": "9272db09",
   "metadata": {
    "origin_pos": 4,
    "tab": [
     "tensorflow"
    ]
   },
   "source": [
    "To start, we import `tensorflow`. \n",
    "For brevity, practitioners \n",
    "often assign the alias `tf`.\n"
   ]
  },
  {
   "cell_type": "code",
   "execution_count": 1,
   "id": "59dce4fc",
   "metadata": {
    "execution": {
     "iopub.execute_input": "2022-08-19T19:18:02.660647Z",
     "iopub.status.busy": "2022-08-19T19:18:02.660093Z",
     "iopub.status.idle": "2022-08-19T19:18:04.684845Z",
     "shell.execute_reply": "2022-08-19T19:18:04.683921Z"
    },
    "origin_pos": 7,
    "tab": [
     "tensorflow"
    ]
   },
   "outputs": [],
   "source": [
    "import tensorflow as tf"
   ]
  },
  {
   "cell_type": "markdown",
   "id": "185a6348",
   "metadata": {
    "origin_pos": 8
   },
   "source": [
    "[**A tensor represents a (possibly multi-dimensional) array of numerical values.**]\n",
    "With one axis, a tensor is called a *vector*.\n",
    "With two axes, a tensor is called a *matrix*.\n",
    "With $k > 2$ axes, we drop the specialized names\n",
    "and just refer to the object as a $k^\\mathrm{th}$ *order tensor*.\n"
   ]
  },
  {
   "cell_type": "markdown",
   "id": "c907e010",
   "metadata": {
    "origin_pos": 11,
    "tab": [
     "tensorflow"
    ]
   },
   "source": [
    "TensorFlow provides a variety of functions \n",
    "for creating new tensors \n",
    "prepopulated with values. \n",
    "For example, by invoking `range(n)`,\n",
    "we can create a vector of evenly spaced values,\n",
    "starting at 0 (included) \n",
    "and ending at `n` (not included).\n",
    "By default, the interval size is $1$.\n",
    "Unless otherwise specified, \n",
    "new tensors are stored in main memory \n",
    "and designated for CPU-based computation.\n"
   ]
  },
  {
   "cell_type": "code",
   "execution_count": 2,
   "id": "ceb0c2e1",
   "metadata": {
    "execution": {
     "iopub.execute_input": "2022-08-19T19:18:04.689231Z",
     "iopub.status.busy": "2022-08-19T19:18:04.688605Z",
     "iopub.status.idle": "2022-08-19T19:18:04.776163Z",
     "shell.execute_reply": "2022-08-19T19:18:04.775340Z"
    },
    "origin_pos": 14,
    "tab": [
     "tensorflow"
    ]
   },
   "outputs": [
    {
     "data": {
      "text/plain": [
       "<tf.Tensor: shape=(12,), dtype=float32, numpy=\n",
       "array([ 0.,  1.,  2.,  3.,  4.,  5.,  6.,  7.,  8.,  9., 10., 11.],\n",
       "      dtype=float32)>"
      ]
     },
     "execution_count": 2,
     "metadata": {},
     "output_type": "execute_result"
    }
   ],
   "source": [
    "x = tf.range(12, dtype=tf.float32)\n",
    "x"
   ]
  },
  {
   "cell_type": "markdown",
   "id": "0b9b478b",
   "metadata": {
    "origin_pos": 17,
    "tab": [
     "tensorflow"
    ]
   },
   "source": [
    "Each of these values is called\n",
    "an *element* of the tensor.\n",
    "The tensor `x` contains 12 elements.\n",
    "We can inspect the total number of elements \n",
    "in a tensor via the `size` function.\n"
   ]
  },
  {
   "cell_type": "code",
   "execution_count": 3,
   "id": "8e18a0cc",
   "metadata": {
    "execution": {
     "iopub.execute_input": "2022-08-19T19:18:04.779621Z",
     "iopub.status.busy": "2022-08-19T19:18:04.779337Z",
     "iopub.status.idle": "2022-08-19T19:18:04.784830Z",
     "shell.execute_reply": "2022-08-19T19:18:04.784043Z"
    },
    "origin_pos": 20,
    "tab": [
     "tensorflow"
    ]
   },
   "outputs": [
    {
     "data": {
      "text/plain": [
       "<tf.Tensor: shape=(), dtype=int32, numpy=12>"
      ]
     },
     "execution_count": 3,
     "metadata": {},
     "output_type": "execute_result"
    }
   ],
   "source": [
    "tf.size(x)"
   ]
  },
  {
   "cell_type": "markdown",
   "id": "71d21e80",
   "metadata": {
    "origin_pos": 21
   },
   "source": [
    "(**We can access a tensor's *shape***) \n",
    "(the length along each axis)\n",
    "by inspecting its `shape` attribute.\n",
    "Because we are dealing with a vector here,\n",
    "the `shape` contains just a single element\n",
    "and is identical to the size.\n"
   ]
  },
  {
   "cell_type": "code",
   "execution_count": 4,
   "id": "267bc034",
   "metadata": {
    "execution": {
     "iopub.execute_input": "2022-08-19T19:18:04.788212Z",
     "iopub.status.busy": "2022-08-19T19:18:04.787698Z",
     "iopub.status.idle": "2022-08-19T19:18:04.792580Z",
     "shell.execute_reply": "2022-08-19T19:18:04.791777Z"
    },
    "origin_pos": 22,
    "tab": [
     "tensorflow"
    ]
   },
   "outputs": [
    {
     "data": {
      "text/plain": [
       "TensorShape([12])"
      ]
     },
     "execution_count": 4,
     "metadata": {},
     "output_type": "execute_result"
    }
   ],
   "source": [
    "x.shape"
   ]
  },
  {
   "cell_type": "markdown",
   "id": "a59167f6",
   "metadata": {
    "origin_pos": 23
   },
   "source": [
    "We can [**change the shape of a tensor\n",
    "without altering its size or values**],\n",
    "by invoking `reshape`.\n",
    "For example, we can transform \n",
    "our vector `x` whose shape is (12,) \n",
    "to a matrix `X`  with shape (3, 4).\n",
    "This new tensor retains all elements\n",
    "but reconfigures them into a matrix.\n",
    "Notice that the elements of our vector\n",
    "are laid out one row at a time and thus\n",
    "`x[3] == X[0, 3]`.\n"
   ]
  },
  {
   "cell_type": "code",
   "execution_count": 5,
   "id": "b66a0d07",
   "metadata": {
    "execution": {
     "iopub.execute_input": "2022-08-19T19:18:04.796086Z",
     "iopub.status.busy": "2022-08-19T19:18:04.795417Z",
     "iopub.status.idle": "2022-08-19T19:18:04.802227Z",
     "shell.execute_reply": "2022-08-19T19:18:04.801438Z"
    },
    "origin_pos": 25,
    "tab": [
     "tensorflow"
    ]
   },
   "outputs": [
    {
     "data": {
      "text/plain": [
       "<tf.Tensor: shape=(3, 4), dtype=float32, numpy=\n",
       "array([[ 0.,  1.,  2.,  3.],\n",
       "       [ 4.,  5.,  6.,  7.],\n",
       "       [ 8.,  9., 10., 11.]], dtype=float32)>"
      ]
     },
     "execution_count": 5,
     "metadata": {},
     "output_type": "execute_result"
    }
   ],
   "source": [
    "X = tf.reshape(x, (3, 4))\n",
    "X"
   ]
  },
  {
   "cell_type": "markdown",
   "id": "dee77270",
   "metadata": {
    "origin_pos": 26
   },
   "source": [
    "Note that specifying every shape component\n",
    "to `reshape` is redundant.\n",
    "Because we already know our tensor's size,\n",
    "we can work out one component of the shape given the rest.\n",
    "For example, given a tensor of size $n$\n",
    "and target shape ($h$, $w$),\n",
    "we know that $w = n/h$.\n",
    "To automatically infer one component of the shape,\n",
    "we can place a `-1` for the shape component\n",
    "that should be inferred automatically.\n",
    "In our case, instead of calling `x.reshape(3, 4)`,\n",
    "we could have equivalently called `x.reshape(-1, 4)` or `x.reshape(3, -1)`.\n",
    "\n",
    "Practitioners often need to work with tensors\n",
    "initialized to contain all zeros or ones.\n",
    "[**We can construct a tensor with all elements set to zero**] (~~or one~~)\n",
    "and a shape of (2, 3, 4) via the `zeros` function.\n"
   ]
  },
  {
   "cell_type": "code",
   "execution_count": 6,
   "id": "390e329b",
   "metadata": {
    "execution": {
     "iopub.execute_input": "2022-08-19T19:18:04.805723Z",
     "iopub.status.busy": "2022-08-19T19:18:04.805096Z",
     "iopub.status.idle": "2022-08-19T19:18:04.810867Z",
     "shell.execute_reply": "2022-08-19T19:18:04.810071Z"
    },
    "origin_pos": 29,
    "tab": [
     "tensorflow"
    ]
   },
   "outputs": [
    {
     "data": {
      "text/plain": [
       "<tf.Tensor: shape=(2, 3, 4), dtype=float32, numpy=\n",
       "array([[[0., 0., 0., 0.],\n",
       "        [0., 0., 0., 0.],\n",
       "        [0., 0., 0., 0.]],\n",
       "\n",
       "       [[0., 0., 0., 0.],\n",
       "        [0., 0., 0., 0.],\n",
       "        [0., 0., 0., 0.]]], dtype=float32)>"
      ]
     },
     "execution_count": 6,
     "metadata": {},
     "output_type": "execute_result"
    }
   ],
   "source": [
    "tf.zeros((2, 3, 4))"
   ]
  },
  {
   "cell_type": "markdown",
   "id": "a6ec739c",
   "metadata": {
    "origin_pos": 30
   },
   "source": [
    "Similarly, we can create a tensor \n",
    "with all ones by invoking `ones`.\n"
   ]
  },
  {
   "cell_type": "code",
   "execution_count": 7,
   "id": "b8f1b7f2",
   "metadata": {
    "execution": {
     "iopub.execute_input": "2022-08-19T19:18:04.814381Z",
     "iopub.status.busy": "2022-08-19T19:18:04.813738Z",
     "iopub.status.idle": "2022-08-19T19:18:04.819697Z",
     "shell.execute_reply": "2022-08-19T19:18:04.818925Z"
    },
    "origin_pos": 33,
    "tab": [
     "tensorflow"
    ]
   },
   "outputs": [
    {
     "data": {
      "text/plain": [
       "<tf.Tensor: shape=(2, 3, 4), dtype=float32, numpy=\n",
       "array([[[1., 1., 1., 1.],\n",
       "        [1., 1., 1., 1.],\n",
       "        [1., 1., 1., 1.]],\n",
       "\n",
       "       [[1., 1., 1., 1.],\n",
       "        [1., 1., 1., 1.],\n",
       "        [1., 1., 1., 1.]]], dtype=float32)>"
      ]
     },
     "execution_count": 7,
     "metadata": {},
     "output_type": "execute_result"
    }
   ],
   "source": [
    "tf.ones((2, 3, 4))"
   ]
  },
  {
   "cell_type": "markdown",
   "id": "610009fa",
   "metadata": {
    "origin_pos": 34
   },
   "source": [
    "We often wish to \n",
    "[**sample each element randomly (and independently)**] \n",
    "from a given probability distribution.\n",
    "For example, the parameters of neural networks\n",
    "are often initialized randomly.\n",
    "The following snippet creates a tensor \n",
    "with elements drawn from \n",
    "a standard Gaussian (normal) distribution\n",
    "with mean 0 and standard deviation 1.\n"
   ]
  },
  {
   "cell_type": "code",
   "execution_count": 8,
   "id": "f02fb007",
   "metadata": {
    "execution": {
     "iopub.execute_input": "2022-08-19T19:18:04.823274Z",
     "iopub.status.busy": "2022-08-19T19:18:04.822597Z",
     "iopub.status.idle": "2022-08-19T19:18:04.828934Z",
     "shell.execute_reply": "2022-08-19T19:18:04.828160Z"
    },
    "origin_pos": 37,
    "tab": [
     "tensorflow"
    ]
   },
   "outputs": [
    {
     "data": {
      "text/plain": [
       "<tf.Tensor: shape=(3, 4), dtype=float32, numpy=\n",
       "array([[-0.45196295,  0.1266573 , -0.92787045,  1.0137445 ],\n",
       "       [ 0.746878  , -0.30795494, -0.424151  ,  1.2474772 ],\n",
       "       [-0.38360924, -2.3340077 ,  0.05333266, -1.0515082 ]],\n",
       "      dtype=float32)>"
      ]
     },
     "execution_count": 8,
     "metadata": {},
     "output_type": "execute_result"
    }
   ],
   "source": [
    "tf.random.normal(shape=[3, 4])"
   ]
  },
  {
   "cell_type": "markdown",
   "id": "7d685bce",
   "metadata": {
    "origin_pos": 38
   },
   "source": [
    "Finally, we can construct tensors by\n",
    "[**supplying the exact values for each element**] \n",
    "by supplying (possibly nested) Python list(s) \n",
    "containing numerical literals.\n",
    "Here, we construct a matrix with a list of lists,\n",
    "where the outermost list corresponds to axis 0,\n",
    "and the inner list to axis 1.\n"
   ]
  },
  {
   "cell_type": "code",
   "execution_count": 9,
   "id": "34bb675b",
   "metadata": {
    "execution": {
     "iopub.execute_input": "2022-08-19T19:18:04.832512Z",
     "iopub.status.busy": "2022-08-19T19:18:04.831876Z",
     "iopub.status.idle": "2022-08-19T19:18:04.837691Z",
     "shell.execute_reply": "2022-08-19T19:18:04.836924Z"
    },
    "origin_pos": 41,
    "tab": [
     "tensorflow"
    ]
   },
   "outputs": [
    {
     "data": {
      "text/plain": [
       "<tf.Tensor: shape=(3, 4), dtype=int32, numpy=\n",
       "array([[2, 1, 4, 3],\n",
       "       [1, 2, 3, 4],\n",
       "       [4, 3, 2, 1]], dtype=int32)>"
      ]
     },
     "execution_count": 9,
     "metadata": {},
     "output_type": "execute_result"
    }
   ],
   "source": [
    "tf.constant([[2, 1, 4, 3], [1, 2, 3, 4], [4, 3, 2, 1]])"
   ]
  },
  {
   "cell_type": "markdown",
   "id": "608364b1",
   "metadata": {
    "origin_pos": 42
   },
   "source": [
    "## Indexing and Slicing\n",
    "\n",
    "As with  Python lists,\n",
    "we can access tensor elements \n",
    "by indexing (starting with 0).\n",
    "To access an element based on its position\n",
    "relative to the end of the list,\n",
    "we can use negative indexing.\n",
    "Finally, we can access whole ranges of indices \n",
    "via slicing (e.g., `X[start:stop]`), \n",
    "where the returned value includes \n",
    "the first index (`start`) *but not the last* (`stop`).\n",
    "Finally, when only one index (or slice)\n",
    "is specified for a $k^\\mathrm{th}$ order tensor,\n",
    "it is applied along axis 0.\n",
    "Thus, in the following code,\n",
    "[**`[-1]` selects the last row and `[1:3]`\n",
    "selects the second and third rows**].\n"
   ]
  },
  {
   "cell_type": "code",
   "execution_count": 10,
   "id": "56a86ef3",
   "metadata": {
    "execution": {
     "iopub.execute_input": "2022-08-19T19:18:04.841160Z",
     "iopub.status.busy": "2022-08-19T19:18:04.840551Z",
     "iopub.status.idle": "2022-08-19T19:18:04.848471Z",
     "shell.execute_reply": "2022-08-19T19:18:04.847683Z"
    },
    "origin_pos": 43,
    "tab": [
     "tensorflow"
    ]
   },
   "outputs": [
    {
     "data": {
      "text/plain": [
       "(<tf.Tensor: shape=(4,), dtype=float32, numpy=array([ 8.,  9., 10., 11.], dtype=float32)>,\n",
       " <tf.Tensor: shape=(2, 4), dtype=float32, numpy=\n",
       " array([[ 4.,  5.,  6.,  7.],\n",
       "        [ 8.,  9., 10., 11.]], dtype=float32)>)"
      ]
     },
     "execution_count": 10,
     "metadata": {},
     "output_type": "execute_result"
    }
   ],
   "source": [
    "X[-1], X[1:3]"
   ]
  },
  {
   "cell_type": "markdown",
   "id": "54ee11aa",
   "metadata": {
    "origin_pos": 45,
    "tab": [
     "tensorflow"
    ]
   },
   "source": [
    "`Tensors` in TensorFlow are immutable, and cannot be assigned to.\n",
    "`Variables` in TensorFlow are mutable containers of state that support\n",
    "assignments. Keep in mind that gradients in TensorFlow do not flow backwards\n",
    "through `Variable` assignments.\n",
    "\n",
    "Beyond assigning a value to the entire `Variable`, we can write elements of a\n",
    "`Variable` by specifying indices.\n"
   ]
  },
  {
   "cell_type": "code",
   "execution_count": 11,
   "id": "71f5c733",
   "metadata": {
    "execution": {
     "iopub.execute_input": "2022-08-19T19:18:04.852003Z",
     "iopub.status.busy": "2022-08-19T19:18:04.851378Z",
     "iopub.status.idle": "2022-08-19T19:18:04.859290Z",
     "shell.execute_reply": "2022-08-19T19:18:04.858451Z"
    },
    "origin_pos": 47,
    "tab": [
     "tensorflow"
    ]
   },
   "outputs": [
    {
     "data": {
      "text/plain": [
       "<tf.Variable 'Variable:0' shape=(3, 4) dtype=float32, numpy=\n",
       "array([[ 0.,  1.,  2.,  3.],\n",
       "       [ 4.,  5.,  9.,  7.],\n",
       "       [ 8.,  9., 10., 11.]], dtype=float32)>"
      ]
     },
     "execution_count": 11,
     "metadata": {},
     "output_type": "execute_result"
    }
   ],
   "source": [
    "X_var = tf.Variable(X)\n",
    "X_var[1, 2].assign(9)\n",
    "X_var"
   ]
  },
  {
   "cell_type": "markdown",
   "id": "54064e5e",
   "metadata": {
    "origin_pos": 48
   },
   "source": [
    "If we want [**to assign multiple elements the same value,\n",
    "we apply the indexing on the left-hand side \n",
    "of the assignment operation.**]\n",
    "For instance, `[:2, :]`  accesses \n",
    "the first and second rows,\n",
    "where `:` takes all the elements along axis 1 (column).\n",
    "While we discussed indexing for matrices,\n",
    "this also works for vectors\n",
    "and for tensors of more than 2 dimensions.\n"
   ]
  },
  {
   "cell_type": "code",
   "execution_count": 12,
   "id": "c71014d6",
   "metadata": {
    "execution": {
     "iopub.execute_input": "2022-08-19T19:18:04.862800Z",
     "iopub.status.busy": "2022-08-19T19:18:04.862180Z",
     "iopub.status.idle": "2022-08-19T19:18:04.870163Z",
     "shell.execute_reply": "2022-08-19T19:18:04.869380Z"
    },
    "origin_pos": 50,
    "tab": [
     "tensorflow"
    ]
   },
   "outputs": [
    {
     "data": {
      "text/plain": [
       "<tf.Variable 'Variable:0' shape=(3, 4) dtype=float32, numpy=\n",
       "array([[12., 12., 12., 12.],\n",
       "       [12., 12., 12., 12.],\n",
       "       [ 8.,  9., 10., 11.]], dtype=float32)>"
      ]
     },
     "execution_count": 12,
     "metadata": {},
     "output_type": "execute_result"
    }
   ],
   "source": [
    "X_var = tf.Variable(X)\n",
    "X_var[:2, :].assign(tf.ones(X_var[:2,:].shape, dtype=tf.float32) * 12)\n",
    "X_var"
   ]
  },
  {
   "cell_type": "markdown",
   "id": "b922eb4c",
   "metadata": {
    "origin_pos": 51
   },
   "source": [
    "## Operations\n",
    "\n",
    "Now that we know how to construct tensors\n",
    "and how to read from and write to their elements,\n",
    "we can begin to manipulate them\n",
    "with various mathematical operations.\n",
    "Among the most useful tools \n",
    "are the *elementwise* operations.\n",
    "These apply a standard scalar operation\n",
    "to each element of a tensor.\n",
    "For functions that take two tensors as inputs,\n",
    "elementwise operations apply some standard binary operator\n",
    "on each pair of corresponding elements.\n",
    "We can create an elementwise function \n",
    "from any function that maps \n",
    "from a scalar to a scalar.\n",
    "\n",
    "In mathematical notation, we denote such\n",
    "*unary* scalar operators (taking one input)\n",
    "by the signature \n",
    "$f: \\mathbb{R} \\rightarrow \\mathbb{R}$.\n",
    "This just means that the function maps\n",
    "from any real number onto some other real number.\n",
    "Most standard operators can be applied elementwise\n",
    "including unary operators like $e^x$.\n"
   ]
  },
  {
   "cell_type": "code",
   "execution_count": 13,
   "id": "6f4515a0",
   "metadata": {
    "execution": {
     "iopub.execute_input": "2022-08-19T19:18:04.873728Z",
     "iopub.status.busy": "2022-08-19T19:18:04.873128Z",
     "iopub.status.idle": "2022-08-19T19:18:04.878730Z",
     "shell.execute_reply": "2022-08-19T19:18:04.877910Z"
    },
    "origin_pos": 54,
    "tab": [
     "tensorflow"
    ]
   },
   "outputs": [
    {
     "data": {
      "text/plain": [
       "<tf.Tensor: shape=(12,), dtype=float32, numpy=\n",
       "array([1.0000000e+00, 2.7182817e+00, 7.3890562e+00, 2.0085537e+01,\n",
       "       5.4598148e+01, 1.4841316e+02, 4.0342877e+02, 1.0966332e+03,\n",
       "       2.9809580e+03, 8.1030840e+03, 2.2026465e+04, 5.9874141e+04],\n",
       "      dtype=float32)>"
      ]
     },
     "execution_count": 13,
     "metadata": {},
     "output_type": "execute_result"
    }
   ],
   "source": [
    "tf.exp(x)"
   ]
  },
  {
   "cell_type": "markdown",
   "id": "1f99e0ea",
   "metadata": {
    "origin_pos": 55
   },
   "source": [
    "Likewise, we denote *binary* scalar operators,\n",
    "which map pairs of real numbers\n",
    "to a (single) real number\n",
    "via the signature \n",
    "$f: \\mathbb{R}, \\mathbb{R} \\rightarrow \\mathbb{R}$.\n",
    "Given any two vectors $\\mathbf{u}$ \n",
    "and $\\mathbf{v}$ *of the same shape*,\n",
    "and a binary operator $f$, we can produce a vector\n",
    "$\\mathbf{c} = F(\\mathbf{u},\\mathbf{v})$\n",
    "by setting $c_i \\gets f(u_i, v_i)$ for all $i$,\n",
    "where $c_i, u_i$, and $v_i$ are the $i^\\mathrm{th}$ elements\n",
    "of vectors $\\mathbf{c}, \\mathbf{u}$, and $\\mathbf{v}$.\n",
    "Here, we produced the vector-valued\n",
    "$F: \\mathbb{R}^d, \\mathbb{R}^d \\rightarrow \\mathbb{R}^d$\n",
    "by *lifting* the scalar function\n",
    "to an elementwise vector operation.\n",
    "The common standard arithmetic operators\n",
    "for addition (`+`), subtraction (`-`), \n",
    "multiplication (`*`), division (`/`), \n",
    "and exponentiation (`**`)\n",
    "have all been *lifted* to elementwise operations\n",
    "for identically-shaped tensors of arbitrary shape.\n"
   ]
  },
  {
   "cell_type": "code",
   "execution_count": 14,
   "id": "018089e2",
   "metadata": {
    "execution": {
     "iopub.execute_input": "2022-08-19T19:18:04.882278Z",
     "iopub.status.busy": "2022-08-19T19:18:04.881637Z",
     "iopub.status.idle": "2022-08-19T19:18:04.892027Z",
     "shell.execute_reply": "2022-08-19T19:18:04.891236Z"
    },
    "origin_pos": 58,
    "tab": [
     "tensorflow"
    ]
   },
   "outputs": [
    {
     "data": {
      "text/plain": [
       "(<tf.Tensor: shape=(4,), dtype=float32, numpy=array([ 3.,  4.,  6., 10.], dtype=float32)>,\n",
       " <tf.Tensor: shape=(4,), dtype=float32, numpy=array([-1.,  0.,  2.,  6.], dtype=float32)>,\n",
       " <tf.Tensor: shape=(4,), dtype=float32, numpy=array([ 2.,  4.,  8., 16.], dtype=float32)>,\n",
       " <tf.Tensor: shape=(4,), dtype=float32, numpy=array([0.5, 1. , 2. , 4. ], dtype=float32)>,\n",
       " <tf.Tensor: shape=(4,), dtype=float32, numpy=array([ 1.,  4., 16., 64.], dtype=float32)>)"
      ]
     },
     "execution_count": 14,
     "metadata": {},
     "output_type": "execute_result"
    }
   ],
   "source": [
    "x = tf.constant([1.0, 2, 4, 8])\n",
    "y = tf.constant([2.0, 2, 2, 2])\n",
    "x + y, x - y, x * y, x / y, x ** y"
   ]
  },
  {
   "cell_type": "markdown",
   "id": "c181f32c",
   "metadata": {
    "origin_pos": 59
   },
   "source": [
    "In addition to elementwise computations,\n",
    "we can also perform linear algebra operations,\n",
    "such as dot products and matrix multiplications.\n",
    "We will elaborate on these shortly\n",
    "in :numref:`sec_linear-algebra`.\n",
    "\n",
    "We can also [***concatenate* multiple tensors together,**]\n",
    "stacking them end-to-end to form a larger tensor.\n",
    "We just need to provide a list of tensors\n",
    "and tell the system along which axis to concatenate.\n",
    "The example below shows what happens when we concatenate\n",
    "two matrices along rows (axis 0)\n",
    "vs. columns (axis 1).\n",
    "We can see that the first output's axis-0 length ($6$)\n",
    "is the sum of the two input tensors' axis-0 lengths ($3 + 3$);\n",
    "while the second output's axis-1 length ($8$)\n",
    "is the sum of the two input tensors' axis-1 lengths ($4 + 4$).\n"
   ]
  },
  {
   "cell_type": "code",
   "execution_count": 15,
   "id": "37f5cdfb",
   "metadata": {
    "execution": {
     "iopub.execute_input": "2022-08-19T19:18:04.895556Z",
     "iopub.status.busy": "2022-08-19T19:18:04.894956Z",
     "iopub.status.idle": "2022-08-19T19:18:04.902991Z",
     "shell.execute_reply": "2022-08-19T19:18:04.902176Z"
    },
    "origin_pos": 62,
    "tab": [
     "tensorflow"
    ]
   },
   "outputs": [
    {
     "data": {
      "text/plain": [
       "(<tf.Tensor: shape=(6, 4), dtype=float32, numpy=\n",
       " array([[ 0.,  1.,  2.,  3.],\n",
       "        [ 4.,  5.,  6.,  7.],\n",
       "        [ 8.,  9., 10., 11.],\n",
       "        [ 2.,  1.,  4.,  3.],\n",
       "        [ 1.,  2.,  3.,  4.],\n",
       "        [ 4.,  3.,  2.,  1.]], dtype=float32)>,\n",
       " <tf.Tensor: shape=(3, 8), dtype=float32, numpy=\n",
       " array([[ 0.,  1.,  2.,  3.,  2.,  1.,  4.,  3.],\n",
       "        [ 4.,  5.,  6.,  7.,  1.,  2.,  3.,  4.],\n",
       "        [ 8.,  9., 10., 11.,  4.,  3.,  2.,  1.]], dtype=float32)>)"
      ]
     },
     "execution_count": 15,
     "metadata": {},
     "output_type": "execute_result"
    }
   ],
   "source": [
    "X = tf.reshape(tf.range(12, dtype=tf.float32), (3, 4))\n",
    "Y = tf.constant([[2.0, 1, 4, 3], [1, 2, 3, 4], [4, 3, 2, 1]])\n",
    "tf.concat([X, Y], axis=0), tf.concat([X, Y], axis=1)"
   ]
  },
  {
   "cell_type": "markdown",
   "id": "ac54aee1",
   "metadata": {
    "origin_pos": 63
   },
   "source": [
    "Sometimes, we want to \n",
    "[**construct a binary tensor via *logical statements*.**]\n",
    "Take `X == Y` as an example.\n",
    "For each position `i, j`, if `X[i, j]` and `Y[i, j]` are equal, \n",
    "then the corresponding entry in the result takes value `1`,\n",
    "otherwise it takes value `0`.\n"
   ]
  },
  {
   "cell_type": "code",
   "execution_count": 16,
   "id": "f7b9828d",
   "metadata": {
    "execution": {
     "iopub.execute_input": "2022-08-19T19:18:04.906514Z",
     "iopub.status.busy": "2022-08-19T19:18:04.905896Z",
     "iopub.status.idle": "2022-08-19T19:18:04.911762Z",
     "shell.execute_reply": "2022-08-19T19:18:04.910947Z"
    },
    "origin_pos": 64,
    "tab": [
     "tensorflow"
    ]
   },
   "outputs": [
    {
     "data": {
      "text/plain": [
       "<tf.Tensor: shape=(3, 4), dtype=bool, numpy=\n",
       "array([[False,  True, False,  True],\n",
       "       [False, False, False, False],\n",
       "       [False, False, False, False]])>"
      ]
     },
     "execution_count": 16,
     "metadata": {},
     "output_type": "execute_result"
    }
   ],
   "source": [
    "X == Y"
   ]
  },
  {
   "cell_type": "markdown",
   "id": "abf87885",
   "metadata": {
    "origin_pos": 65
   },
   "source": [
    "[**Summing all the elements in the tensor**] yields a tensor with only one element.\n"
   ]
  },
  {
   "cell_type": "code",
   "execution_count": 17,
   "id": "2c33cb3c",
   "metadata": {
    "execution": {
     "iopub.execute_input": "2022-08-19T19:18:04.915185Z",
     "iopub.status.busy": "2022-08-19T19:18:04.914562Z",
     "iopub.status.idle": "2022-08-19T19:18:04.919936Z",
     "shell.execute_reply": "2022-08-19T19:18:04.919069Z"
    },
    "origin_pos": 67,
    "tab": [
     "tensorflow"
    ]
   },
   "outputs": [
    {
     "data": {
      "text/plain": [
       "<tf.Tensor: shape=(), dtype=float32, numpy=66.0>"
      ]
     },
     "execution_count": 17,
     "metadata": {},
     "output_type": "execute_result"
    }
   ],
   "source": [
    "tf.reduce_sum(X)"
   ]
  },
  {
   "cell_type": "markdown",
   "id": "b3484c70",
   "metadata": {
    "origin_pos": 68
   },
   "source": [
    "## Broadcasting\n",
    ":label:`subsec_broadcasting`\n",
    "\n",
    "By now, you know how to perform \n",
    "elementwise binary operations\n",
    "on two tensors of the same shape. \n",
    "Under certain conditions,\n",
    "even when shapes differ, \n",
    "we can still [**perform elementwise binary operations\n",
    "by invoking the *broadcasting mechanism*.**]\n",
    "Broadcasting works according to \n",
    "the following two-step procedure:\n",
    "(i) expand one or both arrays\n",
    "by copying elements along axes with length 1\n",
    "so that after this transformation,\n",
    "the two tensors have the same shape;\n",
    "(ii) perform an elementwise operation\n",
    "on the resulting arrays.\n"
   ]
  },
  {
   "cell_type": "code",
   "execution_count": 18,
   "id": "270f76fd",
   "metadata": {
    "execution": {
     "iopub.execute_input": "2022-08-19T19:18:04.923538Z",
     "iopub.status.busy": "2022-08-19T19:18:04.922916Z",
     "iopub.status.idle": "2022-08-19T19:18:04.929966Z",
     "shell.execute_reply": "2022-08-19T19:18:04.928913Z"
    },
    "origin_pos": 71,
    "tab": [
     "tensorflow"
    ]
   },
   "outputs": [
    {
     "data": {
      "text/plain": [
       "(<tf.Tensor: shape=(3, 1), dtype=int32, numpy=\n",
       " array([[0],\n",
       "        [1],\n",
       "        [2]], dtype=int32)>,\n",
       " <tf.Tensor: shape=(1, 2), dtype=int32, numpy=array([[0, 1]], dtype=int32)>)"
      ]
     },
     "execution_count": 18,
     "metadata": {},
     "output_type": "execute_result"
    }
   ],
   "source": [
    "a = tf.reshape(tf.range(3), (3, 1))\n",
    "b = tf.reshape(tf.range(2), (1, 2))\n",
    "a, b"
   ]
  },
  {
   "cell_type": "markdown",
   "id": "d87279a3",
   "metadata": {
    "origin_pos": 72
   },
   "source": [
    "Since `a` and `b` are $3\\times1$ \n",
    "and $1\\times2$ matrices, respectively,\n",
    "their shapes do not match up.\n",
    "Broadcasting produces a larger $3\\times2$ matrix \n",
    "by replicating matrix `a` along the columns\n",
    "and matrix `b` along the rows\n",
    "before adding them elementwise.\n"
   ]
  },
  {
   "cell_type": "code",
   "execution_count": 19,
   "id": "a99a19ef",
   "metadata": {
    "execution": {
     "iopub.execute_input": "2022-08-19T19:18:04.933395Z",
     "iopub.status.busy": "2022-08-19T19:18:04.932770Z",
     "iopub.status.idle": "2022-08-19T19:18:04.939771Z",
     "shell.execute_reply": "2022-08-19T19:18:04.938998Z"
    },
    "origin_pos": 73,
    "tab": [
     "tensorflow"
    ]
   },
   "outputs": [
    {
     "data": {
      "text/plain": [
       "<tf.Tensor: shape=(3, 2), dtype=int32, numpy=\n",
       "array([[0, 1],\n",
       "       [1, 2],\n",
       "       [2, 3]], dtype=int32)>"
      ]
     },
     "execution_count": 19,
     "metadata": {},
     "output_type": "execute_result"
    }
   ],
   "source": [
    "a + b"
   ]
  },
  {
   "cell_type": "markdown",
   "id": "0459eb47",
   "metadata": {
    "origin_pos": 74
   },
   "source": [
    "## Saving Memory\n",
    "\n",
    "[**Running operations can cause new memory to be\n",
    "allocated to host results.**]\n",
    "For example, if we write `Y = X + Y`,\n",
    "we dereference the tensor that `Y` used to point to\n",
    "and instead point `Y` at the newly allocated memory.\n",
    "We can demonstrate this issue with Python's `id()` function,\n",
    "which gives us the exact address \n",
    "of the referenced object in memory.\n",
    "Note that after we run `Y = Y + X`,\n",
    "`id(Y)` points to a different location.\n",
    "That's because Python first evaluates `Y + X`,\n",
    "allocating new memory for the result \n",
    "and then points `Y` to this new location in memory.\n"
   ]
  },
  {
   "cell_type": "code",
   "execution_count": 20,
   "id": "9db37926",
   "metadata": {
    "execution": {
     "iopub.execute_input": "2022-08-19T19:18:04.943284Z",
     "iopub.status.busy": "2022-08-19T19:18:04.942625Z",
     "iopub.status.idle": "2022-08-19T19:18:04.948062Z",
     "shell.execute_reply": "2022-08-19T19:18:04.947303Z"
    },
    "origin_pos": 75,
    "tab": [
     "tensorflow"
    ]
   },
   "outputs": [
    {
     "data": {
      "text/plain": [
       "False"
      ]
     },
     "execution_count": 20,
     "metadata": {},
     "output_type": "execute_result"
    }
   ],
   "source": [
    "before = id(Y)\n",
    "Y = Y + X\n",
    "id(Y) == before"
   ]
  },
  {
   "cell_type": "markdown",
   "id": "7b742bbc",
   "metadata": {
    "origin_pos": 76
   },
   "source": [
    "This might be undesirable for two reasons.\n",
    "First, we do not want to run around\n",
    "allocating memory unnecessarily all the time.\n",
    "In machine learning, we often have\n",
    "hundreds of megabytes of parameters\n",
    "and update all of them multiple times per second.\n",
    "Whenever possible, we want to perform these updates *in place*.\n",
    "Second, we might point at the \n",
    "same parameters from multiple variables.\n",
    "If we do not update in place, \n",
    "we must be careful to update all of these references,\n",
    "lest we spring a memory leak \n",
    "or inadvertently refer to stale parameters.\n"
   ]
  },
  {
   "cell_type": "markdown",
   "id": "1f560e5b",
   "metadata": {
    "origin_pos": 78,
    "tab": [
     "tensorflow"
    ]
   },
   "source": [
    "`Variables` are mutable containers of state in TensorFlow. They provide\n",
    "a way to store your model parameters.\n",
    "We can assign the result of an operation\n",
    "to a `Variable` with `assign`.\n",
    "To illustrate this concept, \n",
    "we overwrite the values of `Variable` `Z`\n",
    "after initializing it, using `zeros_like`,\n",
    "to have the same shape as `Y`.\n"
   ]
  },
  {
   "cell_type": "code",
   "execution_count": 21,
   "id": "aeca4dc2",
   "metadata": {
    "execution": {
     "iopub.execute_input": "2022-08-19T19:18:04.951660Z",
     "iopub.status.busy": "2022-08-19T19:18:04.951043Z",
     "iopub.status.idle": "2022-08-19T19:18:04.956911Z",
     "shell.execute_reply": "2022-08-19T19:18:04.956091Z"
    },
    "origin_pos": 81,
    "tab": [
     "tensorflow"
    ]
   },
   "outputs": [
    {
     "name": "stdout",
     "output_type": "stream",
     "text": [
      "id(Z): 140574872864992\n",
      "id(Z): 140574872864992\n"
     ]
    }
   ],
   "source": [
    "Z = tf.Variable(tf.zeros_like(Y))\n",
    "print('id(Z):', id(Z))\n",
    "Z.assign(X + Y)\n",
    "print('id(Z):', id(Z))"
   ]
  },
  {
   "cell_type": "markdown",
   "id": "7ef2e470",
   "metadata": {
    "origin_pos": 83,
    "tab": [
     "tensorflow"
    ]
   },
   "source": [
    "Even once you store state persistently in a `Variable`, \n",
    "you may want to reduce your memory usage further by avoiding excess\n",
    "allocations for tensors that are not your model parameters.\n",
    "Because TensorFlow `Tensors` are immutable \n",
    "and gradients do not flow through `Variable` assignments, \n",
    "TensorFlow does not provide an explicit way to run\n",
    "an individual operation in-place.\n",
    "\n",
    "However, TensorFlow provides the `tf.function` decorator \n",
    "to wrap computation inside of a TensorFlow graph \n",
    "that gets compiled and optimized before running.\n",
    "This allows TensorFlow to prune unused values, \n",
    "and to reuse prior allocations that are no longer needed. \n",
    "This minimizes the memory overhead of TensorFlow computations.\n"
   ]
  },
  {
   "cell_type": "code",
   "execution_count": 22,
   "id": "822a2b1b",
   "metadata": {
    "execution": {
     "iopub.execute_input": "2022-08-19T19:18:04.960380Z",
     "iopub.status.busy": "2022-08-19T19:18:04.959758Z",
     "iopub.status.idle": "2022-08-19T19:18:05.038280Z",
     "shell.execute_reply": "2022-08-19T19:18:05.037409Z"
    },
    "origin_pos": 85,
    "tab": [
     "tensorflow"
    ]
   },
   "outputs": [
    {
     "data": {
      "text/plain": [
       "<tf.Tensor: shape=(3, 4), dtype=float32, numpy=\n",
       "array([[ 8.,  9., 26., 27.],\n",
       "       [24., 33., 42., 51.],\n",
       "       [56., 57., 58., 59.]], dtype=float32)>"
      ]
     },
     "execution_count": 22,
     "metadata": {},
     "output_type": "execute_result"
    }
   ],
   "source": [
    "@tf.function\n",
    "def computation(X, Y):\n",
    "    Z = tf.zeros_like(Y)  # This unused value will be pruned out\n",
    "    A = X + Y  # Allocations will be reused when no longer needed\n",
    "    B = A + Y\n",
    "    C = B + Y\n",
    "    return C + Y\n",
    "\n",
    "computation(X, Y)"
   ]
  },
  {
   "cell_type": "markdown",
   "id": "cdb489c4",
   "metadata": {
    "origin_pos": 86
   },
   "source": [
    "## Conversion to Other Python Objects\n"
   ]
  },
  {
   "cell_type": "markdown",
   "id": "76bb638c",
   "metadata": {
    "origin_pos": 87,
    "tab": [
     "tensorflow"
    ]
   },
   "source": [
    "[**Converting to a NumPy tensor (`ndarray`)**], or vice versa, is easy.\n",
    "The converted result does not share memory.\n",
    "This minor inconvenience is actually quite important:\n",
    "when you perform operations on the CPU or on GPUs,\n",
    "you do not want to halt computation, waiting to see\n",
    "whether the NumPy package of Python \n",
    "might want to be doing something else\n",
    "with the same chunk of memory.\n"
   ]
  },
  {
   "cell_type": "code",
   "execution_count": 23,
   "id": "ae719563",
   "metadata": {
    "execution": {
     "iopub.execute_input": "2022-08-19T19:18:05.041937Z",
     "iopub.status.busy": "2022-08-19T19:18:05.041492Z",
     "iopub.status.idle": "2022-08-19T19:18:05.047139Z",
     "shell.execute_reply": "2022-08-19T19:18:05.046361Z"
    },
    "origin_pos": 91,
    "tab": [
     "tensorflow"
    ]
   },
   "outputs": [
    {
     "data": {
      "text/plain": [
       "(numpy.ndarray, tensorflow.python.framework.ops.EagerTensor)"
      ]
     },
     "execution_count": 23,
     "metadata": {},
     "output_type": "execute_result"
    }
   ],
   "source": [
    "A = X.numpy()\n",
    "B = tf.constant(A)\n",
    "type(A), type(B)"
   ]
  },
  {
   "cell_type": "markdown",
   "id": "d54c6d54",
   "metadata": {
    "origin_pos": 92
   },
   "source": [
    "To (**convert a size-1 tensor to a Python scalar**),\n",
    "we can invoke the `item` function or Python's built-in functions.\n"
   ]
  },
  {
   "cell_type": "code",
   "execution_count": 24,
   "id": "dd8bb245",
   "metadata": {
    "execution": {
     "iopub.execute_input": "2022-08-19T19:18:05.050410Z",
     "iopub.status.busy": "2022-08-19T19:18:05.049989Z",
     "iopub.status.idle": "2022-08-19T19:18:05.055810Z",
     "shell.execute_reply": "2022-08-19T19:18:05.055041Z"
    },
    "origin_pos": 95,
    "tab": [
     "tensorflow"
    ]
   },
   "outputs": [
    {
     "data": {
      "text/plain": [
       "(array([3.5], dtype=float32), 3.5, 3.5, 3)"
      ]
     },
     "execution_count": 24,
     "metadata": {},
     "output_type": "execute_result"
    }
   ],
   "source": [
    "a = tf.constant([3.5]).numpy()\n",
    "a, a.item(), float(a), int(a)"
   ]
  },
  {
   "cell_type": "markdown",
   "id": "c71fedbd",
   "metadata": {
    "origin_pos": 96
   },
   "source": [
    "## Summary\n",
    "\n",
    " * The tensor class is the main interface for storing and manipulating data in deep learning libraries.\n",
    " * Tensors provide a variety of functionalities including construction routines; indexing and slicing; basic mathematics operations; broadcasting; memory-efficient assignment; and conversion to and from other Python objects.\n",
    "\n",
    "\n",
    "## Exercises\n",
    "\n",
    "1. Run the code in this section. Change the conditional statement `X == Y` to `X < Y` or `X > Y`, and then see what kind of tensor you can get.\n",
    "1. Replace the two tensors that operate by element in the broadcasting mechanism with other shapes, e.g., 3-dimensional tensors. Is the result the same as expected?\n"
   ]
  },
  {
   "cell_type": "markdown",
   "id": "74455125",
   "metadata": {
    "origin_pos": 99,
    "tab": [
     "tensorflow"
    ]
   },
   "source": [
    "[Discussions](https://discuss.d2l.ai/t/187)\n"
   ]
  }
 ],
 "metadata": {
  "kernelspec": {
   "display_name": "conda_tensorflow_p36",
   "name": "conda_tensorflow_p36"
  },
  "language_info": {
   "name": "python"
  }
 },
 "nbformat": 4,
 "nbformat_minor": 5
}