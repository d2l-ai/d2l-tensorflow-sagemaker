{
 "cells": [
  {
   "cell_type": "markdown",
   "id": "c7de893e",
   "metadata": {
    "origin_pos": 1
   },
   "source": [
    "# Linear Algebra\n",
    ":label:`sec_linear-algebra`\n",
    "\n",
    "By now, we can load datasets into tensors\n",
    "and manipulate these tensors \n",
    "with basic mathematical operations.\n",
    "To start building sophisticated models,\n",
    "we will also need a few tools from linear algebra. \n",
    "This section offers a gentle introduction \n",
    "to the most essential concepts,\n",
    "starting from scalar arithmetic\n",
    "and ramping up to matrix multiplication.\n"
   ]
  },
  {
   "cell_type": "code",
   "execution_count": 1,
   "id": "0656f87e",
   "metadata": {
    "execution": {
     "iopub.execute_input": "2023-08-14T17:02:17.626768Z",
     "iopub.status.busy": "2023-08-14T17:02:17.626262Z",
     "iopub.status.idle": "2023-08-14T17:02:20.450308Z",
     "shell.execute_reply": "2023-08-14T17:02:20.449411Z"
    },
    "origin_pos": 4,
    "tab": [
     "tensorflow"
    ]
   },
   "outputs": [],
   "source": [
    "import tensorflow as tf"
   ]
  },
  {
   "cell_type": "markdown",
   "id": "2f17cb77",
   "metadata": {
    "origin_pos": 6
   },
   "source": [
    "## Scalars\n",
    "\n",
    "\n",
    "Most everyday mathematics\n",
    "consists of manipulating \n",
    "numbers one at a time.\n",
    "Formally, we call these values *scalars*.\n",
    "For example, the temperature in Palo Alto \n",
    "is a balmy $72$ degrees Fahrenheit.\n",
    "If you wanted to convert the temperature to Celsius\n",
    "you would evaluate the expression \n",
    "$c = \\frac{5}{9}(f - 32)$, setting $f$ to $72$.\n",
    "In this equation, the values \n",
    "$5$, $9$, and $32$ are constant scalars.\n",
    "The variables $c$ and $f$ \n",
    "in general represent unknown scalars.\n",
    "\n",
    "We denote scalars\n",
    "by ordinary lower-cased letters \n",
    "(e.g., $x$, $y$, and $z$)\n",
    "and the space of all (continuous) \n",
    "*real-valued* scalars by $\\mathbb{R}$.\n",
    "For expedience, we will skip past\n",
    "rigorous definitions of *spaces*:\n",
    "just remember that the expression $x \\in \\mathbb{R}$\n",
    "is a formal way to say that $x$ is a real-valued scalar.\n",
    "The symbol $\\in$ (pronounced \"in\")\n",
    "denotes membership in a set.\n",
    "For example, $x, y \\in \\{0, 1\\}$\n",
    "indicates that $x$ and $y$ are variables\n",
    "that can only take values $0$ or $1$.\n",
    "\n",
    "(**Scalars are implemented as tensors \n",
    "that contain only one element.**)\n",
    "Below, we assign two scalars\n",
    "and perform the familiar addition, multiplication,\n",
    "division, and exponentiation operations.\n"
   ]
  },
  {
   "cell_type": "code",
   "execution_count": 2,
   "id": "fb4cdc89",
   "metadata": {
    "execution": {
     "iopub.execute_input": "2023-08-14T17:02:20.454514Z",
     "iopub.status.busy": "2023-08-14T17:02:20.453766Z",
     "iopub.status.idle": "2023-08-14T17:02:21.561199Z",
     "shell.execute_reply": "2023-08-14T17:02:21.560345Z"
    },
    "origin_pos": 9,
    "tab": [
     "tensorflow"
    ]
   },
   "outputs": [
    {
     "data": {
      "text/plain": [
       "(<tf.Tensor: shape=(), dtype=float32, numpy=5.0>,\n",
       " <tf.Tensor: shape=(), dtype=float32, numpy=6.0>,\n",
       " <tf.Tensor: shape=(), dtype=float32, numpy=1.5>,\n",
       " <tf.Tensor: shape=(), dtype=float32, numpy=9.0>)"
      ]
     },
     "execution_count": 2,
     "metadata": {},
     "output_type": "execute_result"
    }
   ],
   "source": [
    "x = tf.constant(3.0)\n",
    "y = tf.constant(2.0)\n",
    "\n",
    "x + y, x * y, x / y, x**y"
   ]
  },
  {
   "cell_type": "markdown",
   "id": "b890bfc0",
   "metadata": {
    "origin_pos": 11
   },
   "source": [
    "## Vectors\n",
    "\n",
    "For current purposes, [**you can think of a vector as a fixed-length array of scalars.**]\n",
    "As with their code counterparts,\n",
    "we call these scalars the *elements* of the vector\n",
    "(synonyms include *entries* and *components*).\n",
    "When vectors represent examples from real-world datasets,\n",
    "their values hold some real-world significance.\n",
    "For example, if we were training a model to predict\n",
    "the risk of a loan defaulting,\n",
    "we might associate each applicant with a vector\n",
    "whose components correspond to quantities\n",
    "like their income, length of employment, \n",
    "or number of previous defaults.\n",
    "If we were studying the risk of heart attack,\n",
    "each vector might represent a patient\n",
    "and its components might correspond to\n",
    "their most recent vital signs, cholesterol levels, \n",
    "minutes of exercise per day, etc.\n",
    "We denote vectors by bold lowercase letters, \n",
    "(e.g., $\\mathbf{x}$, $\\mathbf{y}$, and $\\mathbf{z}$).\n",
    "\n",
    "Vectors are implemented as $1^{\\textrm{st}}$-order tensors.\n",
    "In general, such tensors can have arbitrary lengths,\n",
    "subject to memory limitations. Caution: in Python, as in most programming languages, vector indices start at $0$, also known as *zero-based indexing*, whereas in linear algebra subscripts begin at $1$ (one-based indexing).\n"
   ]
  },
  {
   "cell_type": "code",
   "execution_count": 3,
   "id": "93c9de85",
   "metadata": {
    "execution": {
     "iopub.execute_input": "2023-08-14T17:02:21.564694Z",
     "iopub.status.busy": "2023-08-14T17:02:21.564108Z",
     "iopub.status.idle": "2023-08-14T17:02:21.571839Z",
     "shell.execute_reply": "2023-08-14T17:02:21.571005Z"
    },
    "origin_pos": 14,
    "tab": [
     "tensorflow"
    ]
   },
   "outputs": [
    {
     "data": {
      "text/plain": [
       "<tf.Tensor: shape=(3,), dtype=int32, numpy=array([0, 1, 2], dtype=int32)>"
      ]
     },
     "execution_count": 3,
     "metadata": {},
     "output_type": "execute_result"
    }
   ],
   "source": [
    "x = tf.range(3)\n",
    "x"
   ]
  },
  {
   "cell_type": "markdown",
   "id": "7de85c4a",
   "metadata": {
    "origin_pos": 16
   },
   "source": [
    "We can refer to an element of a vector by using a subscript.\n",
    "For example, $x_2$ denotes the second element of $\\mathbf{x}$. \n",
    "Since $x_2$ is a scalar, we do not bold it.\n",
    "By default, we visualize vectors \n",
    "by stacking their elements vertically.\n",
    "\n",
    "$$\\mathbf{x} =\\begin{bmatrix}x_{1}  \\\\ \\vdots  \\\\x_{n}\\end{bmatrix},$$\n",
    ":eqlabel:`eq_vec_def`\n",
    "\n",
    "Here $x_1, \\ldots, x_n$ are elements of the vector.\n",
    "Later on, we will distinguish between such *column vectors*\n",
    "and *row vectors* whose elements are stacked horizontally.\n",
    "Recall that [**we access a tensor's elements via indexing.**]\n"
   ]
  },
  {
   "cell_type": "code",
   "execution_count": 4,
   "id": "a11e92fb",
   "metadata": {
    "execution": {
     "iopub.execute_input": "2023-08-14T17:02:21.575036Z",
     "iopub.status.busy": "2023-08-14T17:02:21.574505Z",
     "iopub.status.idle": "2023-08-14T17:02:21.581738Z",
     "shell.execute_reply": "2023-08-14T17:02:21.580952Z"
    },
    "origin_pos": 17,
    "tab": [
     "tensorflow"
    ]
   },
   "outputs": [
    {
     "data": {
      "text/plain": [
       "<tf.Tensor: shape=(), dtype=int32, numpy=2>"
      ]
     },
     "execution_count": 4,
     "metadata": {},
     "output_type": "execute_result"
    }
   ],
   "source": [
    "x[2]"
   ]
  },
  {
   "cell_type": "markdown",
   "id": "9ad90f1f",
   "metadata": {
    "origin_pos": 18
   },
   "source": [
    "To indicate that a vector contains $n$ elements,\n",
    "we write $\\mathbf{x} \\in \\mathbb{R}^n$.\n",
    "Formally, we call $n$ the *dimensionality* of the vector.\n",
    "[**In code, this corresponds to the tensor's length**],\n",
    "accessible via Python's built-in `len` function.\n"
   ]
  },
  {
   "cell_type": "code",
   "execution_count": 5,
   "id": "4135d026",
   "metadata": {
    "execution": {
     "iopub.execute_input": "2023-08-14T17:02:21.584981Z",
     "iopub.status.busy": "2023-08-14T17:02:21.584450Z",
     "iopub.status.idle": "2023-08-14T17:02:21.589449Z",
     "shell.execute_reply": "2023-08-14T17:02:21.588625Z"
    },
    "origin_pos": 19,
    "tab": [
     "tensorflow"
    ]
   },
   "outputs": [
    {
     "data": {
      "text/plain": [
       "3"
      ]
     },
     "execution_count": 5,
     "metadata": {},
     "output_type": "execute_result"
    }
   ],
   "source": [
    "len(x)"
   ]
  },
  {
   "cell_type": "markdown",
   "id": "4a7d94e3",
   "metadata": {
    "origin_pos": 20
   },
   "source": [
    "We can also access the length via the `shape` attribute.\n",
    "The shape is a tuple that indicates a tensor's length along each axis.\n",
    "(**Tensors with just one axis have shapes with just one element.**)\n"
   ]
  },
  {
   "cell_type": "code",
   "execution_count": 6,
   "id": "f57c1bf1",
   "metadata": {
    "execution": {
     "iopub.execute_input": "2023-08-14T17:02:21.592869Z",
     "iopub.status.busy": "2023-08-14T17:02:21.592234Z",
     "iopub.status.idle": "2023-08-14T17:02:21.597262Z",
     "shell.execute_reply": "2023-08-14T17:02:21.596448Z"
    },
    "origin_pos": 21,
    "tab": [
     "tensorflow"
    ]
   },
   "outputs": [
    {
     "data": {
      "text/plain": [
       "TensorShape([3])"
      ]
     },
     "execution_count": 6,
     "metadata": {},
     "output_type": "execute_result"
    }
   ],
   "source": [
    "x.shape"
   ]
  },
  {
   "cell_type": "markdown",
   "id": "3d3bf15e",
   "metadata": {
    "origin_pos": 22
   },
   "source": [
    "Oftentimes, the word \"dimension\" gets overloaded\n",
    "to mean both the number of axes \n",
    "and the length along a particular axis.\n",
    "To avoid this confusion, \n",
    "we use *order* to refer to the number of axes\n",
    "and *dimensionality* exclusively to refer \n",
    "to the number of components.\n",
    "\n",
    "\n",
    "## Matrices\n",
    "\n",
    "Just as scalars are $0^{\\textrm{th}}$-order tensors\n",
    "and vectors are $1^{\\textrm{st}}$-order tensors,\n",
    "matrices are $2^{\\textrm{nd}}$-order tensors.\n",
    "We denote matrices by bold capital letters\n",
    "(e.g., $\\mathbf{X}$, $\\mathbf{Y}$, and $\\mathbf{Z}$),\n",
    "and represent them in code by tensors with two axes.\n",
    "The expression $\\mathbf{A} \\in \\mathbb{R}^{m \\times n}$\n",
    "indicates that a matrix $\\mathbf{A}$ \n",
    "contains $m \\times n$ real-valued scalars,\n",
    "arranged as $m$ rows and $n$ columns.\n",
    "When $m = n$, we say that a matrix is *square*.\n",
    "Visually, we can illustrate any matrix as a table.\n",
    "To refer to an individual element,\n",
    "we subscript both the row and column indices, e.g.,\n",
    "$a_{ij}$ is the value that belongs to $\\mathbf{A}$'s\n",
    "$i^{\\textrm{th}}$ row and $j^{\\textrm{th}}$ column:\n",
    "\n",
    "$$\\mathbf{A}=\\begin{bmatrix} a_{11} & a_{12} & \\cdots & a_{1n} \\\\ a_{21} & a_{22} & \\cdots & a_{2n} \\\\ \\vdots & \\vdots & \\ddots & \\vdots \\\\ a_{m1} & a_{m2} & \\cdots & a_{mn} \\\\ \\end{bmatrix}.$$\n",
    ":eqlabel:`eq_matrix_def`\n",
    "\n",
    "\n",
    "In code, we represent a matrix $\\mathbf{A} \\in \\mathbb{R}^{m \\times n}$\n",
    "by a $2^{\\textrm{nd}}$-order tensor with shape ($m$, $n$).\n",
    "[**We can convert any appropriately sized $m \\times n$ tensor \n",
    "into an $m \\times n$ matrix**] \n",
    "by passing the desired shape to `reshape`:\n"
   ]
  },
  {
   "cell_type": "code",
   "execution_count": 7,
   "id": "8f4048d1",
   "metadata": {
    "execution": {
     "iopub.execute_input": "2023-08-14T17:02:21.600558Z",
     "iopub.status.busy": "2023-08-14T17:02:21.599935Z",
     "iopub.status.idle": "2023-08-14T17:02:21.607347Z",
     "shell.execute_reply": "2023-08-14T17:02:21.606556Z"
    },
    "origin_pos": 25,
    "tab": [
     "tensorflow"
    ]
   },
   "outputs": [
    {
     "data": {
      "text/plain": [
       "<tf.Tensor: shape=(3, 2), dtype=int32, numpy=\n",
       "array([[0, 1],\n",
       "       [2, 3],\n",
       "       [4, 5]], dtype=int32)>"
      ]
     },
     "execution_count": 7,
     "metadata": {},
     "output_type": "execute_result"
    }
   ],
   "source": [
    "A = tf.reshape(tf.range(6), (3, 2))\n",
    "A"
   ]
  },
  {
   "cell_type": "markdown",
   "id": "d356e390",
   "metadata": {
    "origin_pos": 27
   },
   "source": [
    "Sometimes we want to flip the axes.\n",
    "When we exchange a matrix's rows and columns,\n",
    "the result is called its *transpose*.\n",
    "Formally, we signify a matrix $\\mathbf{A}$'s transpose \n",
    "by $\\mathbf{A}^\\top$ and if $\\mathbf{B} = \\mathbf{A}^\\top$, \n",
    "then $b_{ij} = a_{ji}$ for all $i$ and $j$.\n",
    "Thus, the transpose of an $m \\times n$ matrix \n",
    "is an $n \\times m$ matrix:\n",
    "\n",
    "$$\n",
    "\\mathbf{A}^\\top =\n",
    "\\begin{bmatrix}\n",
    "    a_{11} & a_{21} & \\dots  & a_{m1} \\\\\n",
    "    a_{12} & a_{22} & \\dots  & a_{m2} \\\\\n",
    "    \\vdots & \\vdots & \\ddots  & \\vdots \\\\\n",
    "    a_{1n} & a_{2n} & \\dots  & a_{mn}\n",
    "\\end{bmatrix}.\n",
    "$$\n",
    "\n",
    "In code, we can access any (**matrix's transpose**) as follows:\n"
   ]
  },
  {
   "cell_type": "code",
   "execution_count": 8,
   "id": "100baefc",
   "metadata": {
    "execution": {
     "iopub.execute_input": "2023-08-14T17:02:21.610729Z",
     "iopub.status.busy": "2023-08-14T17:02:21.610081Z",
     "iopub.status.idle": "2023-08-14T17:02:21.616531Z",
     "shell.execute_reply": "2023-08-14T17:02:21.615716Z"
    },
    "origin_pos": 29,
    "tab": [
     "tensorflow"
    ]
   },
   "outputs": [
    {
     "data": {
      "text/plain": [
       "<tf.Tensor: shape=(2, 3), dtype=int32, numpy=\n",
       "array([[0, 2, 4],\n",
       "       [1, 3, 5]], dtype=int32)>"
      ]
     },
     "execution_count": 8,
     "metadata": {},
     "output_type": "execute_result"
    }
   ],
   "source": [
    "tf.transpose(A)"
   ]
  },
  {
   "cell_type": "markdown",
   "id": "9d1e7038",
   "metadata": {
    "origin_pos": 30
   },
   "source": [
    "[**Symmetric matrices are the subset of square matrices\n",
    "that are equal to their own transposes:\n",
    "$\\mathbf{A} = \\mathbf{A}^\\top$.**]\n",
    "The following matrix is symmetric:\n"
   ]
  },
  {
   "cell_type": "code",
   "execution_count": 9,
   "id": "fbd7a76e",
   "metadata": {
    "execution": {
     "iopub.execute_input": "2023-08-14T17:02:21.619845Z",
     "iopub.status.busy": "2023-08-14T17:02:21.619213Z",
     "iopub.status.idle": "2023-08-14T17:02:21.626191Z",
     "shell.execute_reply": "2023-08-14T17:02:21.625375Z"
    },
    "origin_pos": 33,
    "tab": [
     "tensorflow"
    ]
   },
   "outputs": [
    {
     "data": {
      "text/plain": [
       "<tf.Tensor: shape=(3, 3), dtype=bool, numpy=\n",
       "array([[ True,  True,  True],\n",
       "       [ True,  True,  True],\n",
       "       [ True,  True,  True]])>"
      ]
     },
     "execution_count": 9,
     "metadata": {},
     "output_type": "execute_result"
    }
   ],
   "source": [
    "A = tf.constant([[1, 2, 3], [2, 0, 4], [3, 4, 5]])\n",
    "A == tf.transpose(A)"
   ]
  },
  {
   "cell_type": "markdown",
   "id": "4c994046",
   "metadata": {
    "origin_pos": 35
   },
   "source": [
    "Matrices are useful for representing datasets. \n",
    "Typically, rows correspond to individual records\n",
    "and columns correspond to distinct attributes.\n",
    "\n",
    "\n",
    "\n",
    "## Tensors\n",
    "\n",
    "While you can go far in your machine learning journey\n",
    "with only scalars, vectors, and matrices,\n",
    "eventually you may need to work with \n",
    "higher-order [**tensors**].\n",
    "Tensors (**give us a generic way of describing \n",
    "extensions to $n^{\\textrm{th}}$-order arrays.**)\n",
    "We call software objects of the *tensor class* \"tensors\"\n",
    "precisely because they too can have arbitrary numbers of axes.\n",
    "While it may be confusing to use the word\n",
    "*tensor* for both the mathematical object\n",
    "and its realization in code,\n",
    "our meaning should usually be clear from context.\n",
    "We denote general tensors by capital letters \n",
    "with a special font face\n",
    "(e.g., $\\mathsf{X}$, $\\mathsf{Y}$, and $\\mathsf{Z}$)\n",
    "and their indexing mechanism \n",
    "(e.g., $x_{ijk}$ and $[\\mathsf{X}]_{1, 2i-1, 3}$) \n",
    "follows naturally from that of matrices.\n",
    "\n",
    "Tensors will become more important \n",
    "when we start working with images.\n",
    "Each image arrives as a $3^{\\textrm{rd}}$-order tensor\n",
    "with axes corresponding to the height, width, and *channel*.\n",
    "At each spatial location, the intensities \n",
    "of each color (red, green, and blue)\n",
    "are stacked along the channel. \n",
    "Furthermore, a collection of images is represented \n",
    "in code by a $4^{\\textrm{th}}$-order tensor,\n",
    "where distinct images are indexed\n",
    "along the first axis.\n",
    "Higher-order tensors are constructed, as were vectors and matrices,\n",
    "by growing the number of shape components.\n"
   ]
  },
  {
   "cell_type": "code",
   "execution_count": 10,
   "id": "d54353f1",
   "metadata": {
    "execution": {
     "iopub.execute_input": "2023-08-14T17:02:21.629558Z",
     "iopub.status.busy": "2023-08-14T17:02:21.628947Z",
     "iopub.status.idle": "2023-08-14T17:02:21.634997Z",
     "shell.execute_reply": "2023-08-14T17:02:21.634224Z"
    },
    "origin_pos": 38,
    "tab": [
     "tensorflow"
    ]
   },
   "outputs": [
    {
     "data": {
      "text/plain": [
       "<tf.Tensor: shape=(2, 3, 4), dtype=int32, numpy=\n",
       "array([[[ 0,  1,  2,  3],\n",
       "        [ 4,  5,  6,  7],\n",
       "        [ 8,  9, 10, 11]],\n",
       "\n",
       "       [[12, 13, 14, 15],\n",
       "        [16, 17, 18, 19],\n",
       "        [20, 21, 22, 23]]], dtype=int32)>"
      ]
     },
     "execution_count": 10,
     "metadata": {},
     "output_type": "execute_result"
    }
   ],
   "source": [
    "tf.reshape(tf.range(24), (2, 3, 4))"
   ]
  },
  {
   "cell_type": "markdown",
   "id": "3e9578cf",
   "metadata": {
    "origin_pos": 40
   },
   "source": [
    "## Basic Properties of Tensor Arithmetic\n",
    "\n",
    "Scalars, vectors, matrices, \n",
    "and higher-order tensors\n",
    "all have some handy properties. \n",
    "For example, elementwise operations\n",
    "produce outputs that have the \n",
    "same shape as their operands.\n"
   ]
  },
  {
   "cell_type": "code",
   "execution_count": 11,
   "id": "0343bbef",
   "metadata": {
    "execution": {
     "iopub.execute_input": "2023-08-14T17:02:21.638264Z",
     "iopub.status.busy": "2023-08-14T17:02:21.637644Z",
     "iopub.status.idle": "2023-08-14T17:02:21.646425Z",
     "shell.execute_reply": "2023-08-14T17:02:21.645643Z"
    },
    "origin_pos": 43,
    "tab": [
     "tensorflow"
    ]
   },
   "outputs": [
    {
     "data": {
      "text/plain": [
       "(<tf.Tensor: shape=(2, 3), dtype=float32, numpy=\n",
       " array([[0., 1., 2.],\n",
       "        [3., 4., 5.]], dtype=float32)>,\n",
       " <tf.Tensor: shape=(2, 3), dtype=float32, numpy=\n",
       " array([[ 0.,  2.,  4.],\n",
       "        [ 6.,  8., 10.]], dtype=float32)>)"
      ]
     },
     "execution_count": 11,
     "metadata": {},
     "output_type": "execute_result"
    }
   ],
   "source": [
    "A = tf.reshape(tf.range(6, dtype=tf.float32), (2, 3))\n",
    "B = A  # No cloning of A to B by allocating new memory\n",
    "A, A + B"
   ]
  },
  {
   "cell_type": "markdown",
   "id": "0d2ea218",
   "metadata": {
    "origin_pos": 45
   },
   "source": [
    "The [**elementwise product of two matrices\n",
    "is called their *Hadamard product***] (denoted $\\odot$).\n",
    "We can spell out the entries \n",
    "of the Hadamard product of two matrices \n",
    "$\\mathbf{A}, \\mathbf{B} \\in \\mathbb{R}^{m \\times n}$:\n",
    "\n",
    "\n",
    "\n",
    "$$\n",
    "\\mathbf{A} \\odot \\mathbf{B} =\n",
    "\\begin{bmatrix}\n",
    "    a_{11}  b_{11} & a_{12}  b_{12} & \\dots  & a_{1n}  b_{1n} \\\\\n",
    "    a_{21}  b_{21} & a_{22}  b_{22} & \\dots  & a_{2n}  b_{2n} \\\\\n",
    "    \\vdots & \\vdots & \\ddots & \\vdots \\\\\n",
    "    a_{m1}  b_{m1} & a_{m2}  b_{m2} & \\dots  & a_{mn}  b_{mn}\n",
    "\\end{bmatrix}.\n",
    "$$\n"
   ]
  },
  {
   "cell_type": "code",
   "execution_count": 12,
   "id": "e62cd5fb",
   "metadata": {
    "execution": {
     "iopub.execute_input": "2023-08-14T17:02:21.649854Z",
     "iopub.status.busy": "2023-08-14T17:02:21.649195Z",
     "iopub.status.idle": "2023-08-14T17:02:21.654627Z",
     "shell.execute_reply": "2023-08-14T17:02:21.653846Z"
    },
    "origin_pos": 46,
    "tab": [
     "tensorflow"
    ]
   },
   "outputs": [
    {
     "data": {
      "text/plain": [
       "<tf.Tensor: shape=(2, 3), dtype=float32, numpy=\n",
       "array([[ 0.,  1.,  4.],\n",
       "       [ 9., 16., 25.]], dtype=float32)>"
      ]
     },
     "execution_count": 12,
     "metadata": {},
     "output_type": "execute_result"
    }
   ],
   "source": [
    "A * B"
   ]
  },
  {
   "cell_type": "markdown",
   "id": "1490a5fd",
   "metadata": {
    "origin_pos": 47
   },
   "source": [
    "[**Adding or multiplying a scalar and a tensor**] produces a result\n",
    "with the same shape as the original tensor.\n",
    "Here, each element of the tensor is added to (or multiplied by) the scalar.\n"
   ]
  },
  {
   "cell_type": "code",
   "execution_count": 13,
   "id": "fc21ac70",
   "metadata": {
    "execution": {
     "iopub.execute_input": "2023-08-14T17:02:21.657996Z",
     "iopub.status.busy": "2023-08-14T17:02:21.657381Z",
     "iopub.status.idle": "2023-08-14T17:02:21.666028Z",
     "shell.execute_reply": "2023-08-14T17:02:21.665247Z"
    },
    "origin_pos": 50,
    "tab": [
     "tensorflow"
    ]
   },
   "outputs": [
    {
     "data": {
      "text/plain": [
       "(<tf.Tensor: shape=(2, 3, 4), dtype=int32, numpy=\n",
       " array([[[ 2,  3,  4,  5],\n",
       "         [ 6,  7,  8,  9],\n",
       "         [10, 11, 12, 13]],\n",
       " \n",
       "        [[14, 15, 16, 17],\n",
       "         [18, 19, 20, 21],\n",
       "         [22, 23, 24, 25]]], dtype=int32)>,\n",
       " TensorShape([2, 3, 4]))"
      ]
     },
     "execution_count": 13,
     "metadata": {},
     "output_type": "execute_result"
    }
   ],
   "source": [
    "a = 2\n",
    "X = tf.reshape(tf.range(24), (2, 3, 4))\n",
    "a + X, (a * X).shape"
   ]
  },
  {
   "cell_type": "markdown",
   "id": "39ec47b4",
   "metadata": {
    "origin_pos": 52
   },
   "source": [
    "## Reduction\n",
    ":label:`subsec_lin-alg-reduction`\n",
    "\n",
    "Often, we wish to calculate [**the sum of a tensor's elements.**]\n",
    "To express the sum of the elements in a vector $\\mathbf{x}$ of length $n$,\n",
    "we write $\\sum_{i=1}^n x_i$. There is a simple function for it:\n"
   ]
  },
  {
   "cell_type": "code",
   "execution_count": 14,
   "id": "407895fe",
   "metadata": {
    "execution": {
     "iopub.execute_input": "2023-08-14T17:02:21.669488Z",
     "iopub.status.busy": "2023-08-14T17:02:21.668858Z",
     "iopub.status.idle": "2023-08-14T17:02:21.676127Z",
     "shell.execute_reply": "2023-08-14T17:02:21.675312Z"
    },
    "origin_pos": 55,
    "tab": [
     "tensorflow"
    ]
   },
   "outputs": [
    {
     "data": {
      "text/plain": [
       "(<tf.Tensor: shape=(3,), dtype=float32, numpy=array([0., 1., 2.], dtype=float32)>,\n",
       " <tf.Tensor: shape=(), dtype=float32, numpy=3.0>)"
      ]
     },
     "execution_count": 14,
     "metadata": {},
     "output_type": "execute_result"
    }
   ],
   "source": [
    "x = tf.range(3, dtype=tf.float32)\n",
    "x, tf.reduce_sum(x)"
   ]
  },
  {
   "cell_type": "markdown",
   "id": "e857e516",
   "metadata": {
    "origin_pos": 57
   },
   "source": [
    "To express [**sums over the elements of tensors of arbitrary shape**],\n",
    "we simply sum over all its axes. \n",
    "For example, the sum of the elements \n",
    "of an $m \\times n$ matrix $\\mathbf{A}$ \n",
    "could be written $\\sum_{i=1}^{m} \\sum_{j=1}^{n} a_{ij}$.\n"
   ]
  },
  {
   "cell_type": "code",
   "execution_count": 15,
   "id": "4fce2512",
   "metadata": {
    "execution": {
     "iopub.execute_input": "2023-08-14T17:02:21.679500Z",
     "iopub.status.busy": "2023-08-14T17:02:21.678819Z",
     "iopub.status.idle": "2023-08-14T17:02:21.684199Z",
     "shell.execute_reply": "2023-08-14T17:02:21.683416Z"
    },
    "origin_pos": 59,
    "tab": [
     "tensorflow"
    ]
   },
   "outputs": [
    {
     "data": {
      "text/plain": [
       "(TensorShape([2, 3]), <tf.Tensor: shape=(), dtype=float32, numpy=15.0>)"
      ]
     },
     "execution_count": 15,
     "metadata": {},
     "output_type": "execute_result"
    }
   ],
   "source": [
    "A.shape, tf.reduce_sum(A)"
   ]
  },
  {
   "cell_type": "markdown",
   "id": "c3188efa",
   "metadata": {
    "origin_pos": 60
   },
   "source": [
    "By default, invoking the sum function\n",
    "*reduces* a tensor along all of its axes,\n",
    "eventually producing a scalar.\n",
    "Our libraries also allow us to [**specify the axes \n",
    "along which the tensor should be reduced.**]\n",
    "To sum over all elements along the rows (axis 0),\n",
    "we specify `axis=0` in `sum`.\n",
    "Since the input matrix reduces along axis 0\n",
    "to generate the output vector,\n",
    "this axis is missing from the shape of the output.\n"
   ]
  },
  {
   "cell_type": "code",
   "execution_count": 16,
   "id": "66c94242",
   "metadata": {
    "execution": {
     "iopub.execute_input": "2023-08-14T17:02:21.687453Z",
     "iopub.status.busy": "2023-08-14T17:02:21.686819Z",
     "iopub.status.idle": "2023-08-14T17:02:21.692164Z",
     "shell.execute_reply": "2023-08-14T17:02:21.691382Z"
    },
    "origin_pos": 62,
    "tab": [
     "tensorflow"
    ]
   },
   "outputs": [
    {
     "data": {
      "text/plain": [
       "(TensorShape([2, 3]), TensorShape([3]))"
      ]
     },
     "execution_count": 16,
     "metadata": {},
     "output_type": "execute_result"
    }
   ],
   "source": [
    "A.shape, tf.reduce_sum(A, axis=0).shape"
   ]
  },
  {
   "cell_type": "markdown",
   "id": "59e08b6b",
   "metadata": {
    "origin_pos": 63
   },
   "source": [
    "Specifying `axis=1` will reduce the column dimension (axis 1) by summing up elements of all the columns.\n"
   ]
  },
  {
   "cell_type": "code",
   "execution_count": 17,
   "id": "f68d57f8",
   "metadata": {
    "execution": {
     "iopub.execute_input": "2023-08-14T17:02:21.695517Z",
     "iopub.status.busy": "2023-08-14T17:02:21.694852Z",
     "iopub.status.idle": "2023-08-14T17:02:21.700320Z",
     "shell.execute_reply": "2023-08-14T17:02:21.699530Z"
    },
    "origin_pos": 65,
    "tab": [
     "tensorflow"
    ]
   },
   "outputs": [
    {
     "data": {
      "text/plain": [
       "(TensorShape([2, 3]), TensorShape([2]))"
      ]
     },
     "execution_count": 17,
     "metadata": {},
     "output_type": "execute_result"
    }
   ],
   "source": [
    "A.shape, tf.reduce_sum(A, axis=1).shape"
   ]
  },
  {
   "cell_type": "markdown",
   "id": "18e294a9",
   "metadata": {
    "origin_pos": 66
   },
   "source": [
    "Reducing a matrix along both rows and columns via summation\n",
    "is equivalent to summing up all the elements of the matrix.\n"
   ]
  },
  {
   "cell_type": "code",
   "execution_count": 18,
   "id": "ce973b5f",
   "metadata": {
    "execution": {
     "iopub.execute_input": "2023-08-14T17:02:21.703612Z",
     "iopub.status.busy": "2023-08-14T17:02:21.702986Z",
     "iopub.status.idle": "2023-08-14T17:02:21.708848Z",
     "shell.execute_reply": "2023-08-14T17:02:21.708065Z"
    },
    "origin_pos": 68,
    "tab": [
     "tensorflow"
    ]
   },
   "outputs": [
    {
     "data": {
      "text/plain": [
       "(<tf.Tensor: shape=(), dtype=float32, numpy=15.0>,\n",
       " <tf.Tensor: shape=(), dtype=float32, numpy=15.0>)"
      ]
     },
     "execution_count": 18,
     "metadata": {},
     "output_type": "execute_result"
    }
   ],
   "source": [
    "tf.reduce_sum(A, axis=[0, 1]), tf.reduce_sum(A)  # Same as tf.reduce_sum(A)"
   ]
  },
  {
   "cell_type": "markdown",
   "id": "89c9f1ed",
   "metadata": {
    "origin_pos": 69
   },
   "source": [
    "[**A related quantity is the *mean*, also called the *average*.**]\n",
    "We calculate the mean by dividing the sum \n",
    "by the total number of elements.\n",
    "Because computing the mean is so common,\n",
    "it gets a dedicated library function \n",
    "that works analogously to `sum`.\n"
   ]
  },
  {
   "cell_type": "code",
   "execution_count": 19,
   "id": "40281458",
   "metadata": {
    "execution": {
     "iopub.execute_input": "2023-08-14T17:02:21.712172Z",
     "iopub.status.busy": "2023-08-14T17:02:21.711527Z",
     "iopub.status.idle": "2023-08-14T17:02:21.719001Z",
     "shell.execute_reply": "2023-08-14T17:02:21.718181Z"
    },
    "origin_pos": 72,
    "tab": [
     "tensorflow"
    ]
   },
   "outputs": [
    {
     "data": {
      "text/plain": [
       "(<tf.Tensor: shape=(), dtype=float32, numpy=2.5>,\n",
       " <tf.Tensor: shape=(), dtype=float32, numpy=2.5>)"
      ]
     },
     "execution_count": 19,
     "metadata": {},
     "output_type": "execute_result"
    }
   ],
   "source": [
    "tf.reduce_mean(A), tf.reduce_sum(A) / tf.size(A).numpy()"
   ]
  },
  {
   "cell_type": "markdown",
   "id": "c990a6e3",
   "metadata": {
    "origin_pos": 73
   },
   "source": [
    "Likewise, the function for calculating the mean \n",
    "can also reduce a tensor along specific axes.\n"
   ]
  },
  {
   "cell_type": "code",
   "execution_count": 20,
   "id": "0e78e297",
   "metadata": {
    "execution": {
     "iopub.execute_input": "2023-08-14T17:02:21.722371Z",
     "iopub.status.busy": "2023-08-14T17:02:21.721715Z",
     "iopub.status.idle": "2023-08-14T17:02:21.728042Z",
     "shell.execute_reply": "2023-08-14T17:02:21.727232Z"
    },
    "origin_pos": 75,
    "tab": [
     "tensorflow"
    ]
   },
   "outputs": [
    {
     "data": {
      "text/plain": [
       "(<tf.Tensor: shape=(3,), dtype=float32, numpy=array([1.5, 2.5, 3.5], dtype=float32)>,\n",
       " <tf.Tensor: shape=(3,), dtype=float32, numpy=array([1.5, 2.5, 3.5], dtype=float32)>)"
      ]
     },
     "execution_count": 20,
     "metadata": {},
     "output_type": "execute_result"
    }
   ],
   "source": [
    "tf.reduce_mean(A, axis=0), tf.reduce_sum(A, axis=0) / A.shape[0]"
   ]
  },
  {
   "cell_type": "markdown",
   "id": "fb6b1b5e",
   "metadata": {
    "origin_pos": 76
   },
   "source": [
    "## Non-Reduction Sum\n",
    ":label:`subsec_lin-alg-non-reduction`\n",
    "\n",
    "Sometimes it can be useful to [**keep the number of axes unchanged**]\n",
    "when invoking the function for calculating the sum or mean. \n",
    "This matters when we want to use the broadcast mechanism.\n"
   ]
  },
  {
   "cell_type": "code",
   "execution_count": 21,
   "id": "a05fb33e",
   "metadata": {
    "execution": {
     "iopub.execute_input": "2023-08-14T17:02:21.731234Z",
     "iopub.status.busy": "2023-08-14T17:02:21.730716Z",
     "iopub.status.idle": "2023-08-14T17:02:21.737167Z",
     "shell.execute_reply": "2023-08-14T17:02:21.736352Z"
    },
    "origin_pos": 78,
    "tab": [
     "tensorflow"
    ]
   },
   "outputs": [
    {
     "data": {
      "text/plain": [
       "(<tf.Tensor: shape=(2, 1), dtype=float32, numpy=\n",
       " array([[ 3.],\n",
       "        [12.]], dtype=float32)>,\n",
       " TensorShape([2, 1]))"
      ]
     },
     "execution_count": 21,
     "metadata": {},
     "output_type": "execute_result"
    }
   ],
   "source": [
    "sum_A = tf.reduce_sum(A, axis=1, keepdims=True)\n",
    "sum_A, sum_A.shape"
   ]
  },
  {
   "cell_type": "markdown",
   "id": "4117e002",
   "metadata": {
    "origin_pos": 79
   },
   "source": [
    "For instance, since `sum_A` keeps its two axes after summing each row,\n",
    "we can (**divide `A` by `sum_A` with broadcasting**) \n",
    "to create a matrix where each row sums up to $1$.\n"
   ]
  },
  {
   "cell_type": "code",
   "execution_count": 22,
   "id": "edeb428c",
   "metadata": {
    "execution": {
     "iopub.execute_input": "2023-08-14T17:02:21.740558Z",
     "iopub.status.busy": "2023-08-14T17:02:21.739916Z",
     "iopub.status.idle": "2023-08-14T17:02:21.745418Z",
     "shell.execute_reply": "2023-08-14T17:02:21.744635Z"
    },
    "origin_pos": 80,
    "tab": [
     "tensorflow"
    ]
   },
   "outputs": [
    {
     "data": {
      "text/plain": [
       "<tf.Tensor: shape=(2, 3), dtype=float32, numpy=\n",
       "array([[0.        , 0.33333334, 0.6666667 ],\n",
       "       [0.25      , 0.33333334, 0.41666666]], dtype=float32)>"
      ]
     },
     "execution_count": 22,
     "metadata": {},
     "output_type": "execute_result"
    }
   ],
   "source": [
    "A / sum_A"
   ]
  },
  {
   "cell_type": "markdown",
   "id": "e75f43fb",
   "metadata": {
    "origin_pos": 81
   },
   "source": [
    "If we want to calculate [**the cumulative sum of elements of `A` along some axis**],\n",
    "say `axis=0` (row by row), we can call the `cumsum` function.\n",
    "By design, this function does not reduce the input tensor along any axis.\n"
   ]
  },
  {
   "cell_type": "code",
   "execution_count": 23,
   "id": "cd32c417",
   "metadata": {
    "execution": {
     "iopub.execute_input": "2023-08-14T17:02:21.748810Z",
     "iopub.status.busy": "2023-08-14T17:02:21.748192Z",
     "iopub.status.idle": "2023-08-14T17:02:21.754929Z",
     "shell.execute_reply": "2023-08-14T17:02:21.754111Z"
    },
    "origin_pos": 83,
    "tab": [
     "tensorflow"
    ]
   },
   "outputs": [
    {
     "data": {
      "text/plain": [
       "<tf.Tensor: shape=(2, 3), dtype=float32, numpy=\n",
       "array([[0., 1., 2.],\n",
       "       [3., 5., 7.]], dtype=float32)>"
      ]
     },
     "execution_count": 23,
     "metadata": {},
     "output_type": "execute_result"
    }
   ],
   "source": [
    "tf.cumsum(A, axis=0)"
   ]
  },
  {
   "cell_type": "markdown",
   "id": "979bfd71",
   "metadata": {
    "origin_pos": 84
   },
   "source": [
    "## Dot Products\n",
    "\n",
    "So far, we have only performed elementwise operations, sums, and averages. \n",
    "And if this was all we could do, linear algebra \n",
    "would not deserve its own section.\n",
    "Fortunately, this is where things get more interesting.\n",
    "One of the most fundamental operations is the dot product.\n",
    "Given two vectors $\\mathbf{x}, \\mathbf{y} \\in \\mathbb{R}^d$,\n",
    "their *dot product* $\\mathbf{x}^\\top \\mathbf{y}$ (also known as *inner product*, $\\langle \\mathbf{x}, \\mathbf{y}  \\rangle$) \n",
    "is a sum over the products of the elements at the same position: \n",
    "$\\mathbf{x}^\\top \\mathbf{y} = \\sum_{i=1}^{d} x_i y_i$.\n",
    "\n",
    "[~~The *dot product* of two vectors is a sum over the products of the elements at the same position~~]\n"
   ]
  },
  {
   "cell_type": "code",
   "execution_count": 24,
   "id": "13ef572b",
   "metadata": {
    "execution": {
     "iopub.execute_input": "2023-08-14T17:02:21.758232Z",
     "iopub.status.busy": "2023-08-14T17:02:21.757623Z",
     "iopub.status.idle": "2023-08-14T17:02:21.767246Z",
     "shell.execute_reply": "2023-08-14T17:02:21.766460Z"
    },
    "origin_pos": 87,
    "tab": [
     "tensorflow"
    ]
   },
   "outputs": [
    {
     "data": {
      "text/plain": [
       "(<tf.Tensor: shape=(3,), dtype=float32, numpy=array([0., 1., 2.], dtype=float32)>,\n",
       " <tf.Tensor: shape=(3,), dtype=float32, numpy=array([1., 1., 1.], dtype=float32)>,\n",
       " <tf.Tensor: shape=(), dtype=float32, numpy=3.0>)"
      ]
     },
     "execution_count": 24,
     "metadata": {},
     "output_type": "execute_result"
    }
   ],
   "source": [
    "y = tf.ones(3, dtype=tf.float32)\n",
    "x, y, tf.tensordot(x, y, axes=1)"
   ]
  },
  {
   "cell_type": "markdown",
   "id": "8c322f8b",
   "metadata": {
    "origin_pos": 89
   },
   "source": [
    "Equivalently, (**we can calculate the dot product of two vectors \n",
    "by performing an elementwise multiplication followed by a sum:**)\n"
   ]
  },
  {
   "cell_type": "code",
   "execution_count": 25,
   "id": "e8f3c8f3",
   "metadata": {
    "execution": {
     "iopub.execute_input": "2023-08-14T17:02:21.770654Z",
     "iopub.status.busy": "2023-08-14T17:02:21.770028Z",
     "iopub.status.idle": "2023-08-14T17:02:21.775531Z",
     "shell.execute_reply": "2023-08-14T17:02:21.774733Z"
    },
    "origin_pos": 92,
    "tab": [
     "tensorflow"
    ]
   },
   "outputs": [
    {
     "data": {
      "text/plain": [
       "<tf.Tensor: shape=(), dtype=float32, numpy=3.0>"
      ]
     },
     "execution_count": 25,
     "metadata": {},
     "output_type": "execute_result"
    }
   ],
   "source": [
    "tf.reduce_sum(x * y)"
   ]
  },
  {
   "cell_type": "markdown",
   "id": "3e5ef0ad",
   "metadata": {
    "origin_pos": 94
   },
   "source": [
    "Dot products are useful in a wide range of contexts.\n",
    "For example, given some set of values,\n",
    "denoted by a vector $\\mathbf{x}  \\in \\mathbb{R}^n$,\n",
    "and a set of weights, denoted by $\\mathbf{w} \\in \\mathbb{R}^n$,\n",
    "the weighted sum of the values in $\\mathbf{x}$\n",
    "according to the weights $\\mathbf{w}$\n",
    "could be expressed as the dot product $\\mathbf{x}^\\top \\mathbf{w}$.\n",
    "When the weights are nonnegative\n",
    "and sum to $1$, i.e., $\\left(\\sum_{i=1}^{n} {w_i} = 1\\right)$,\n",
    "the dot product expresses a *weighted average*.\n",
    "After normalizing two vectors to have unit length,\n",
    "the dot products express the cosine of the angle between them.\n",
    "Later in this section, we will formally introduce this notion of *length*.\n",
    "\n",
    "\n",
    "## Matrix--Vector Products\n",
    "\n",
    "Now that we know how to calculate dot products,\n",
    "we can begin to understand the *product*\n",
    "between an $m \\times n$ matrix $\\mathbf{A}$ \n",
    "and an $n$-dimensional vector $\\mathbf{x}$.\n",
    "To start off, we visualize our matrix\n",
    "in terms of its row vectors\n",
    "\n",
    "$$\\mathbf{A}=\n",
    "\\begin{bmatrix}\n",
    "\\mathbf{a}^\\top_{1} \\\\\n",
    "\\mathbf{a}^\\top_{2} \\\\\n",
    "\\vdots \\\\\n",
    "\\mathbf{a}^\\top_m \\\\\n",
    "\\end{bmatrix},$$\n",
    "\n",
    "where each $\\mathbf{a}^\\top_{i} \\in \\mathbb{R}^n$\n",
    "is a row vector representing the $i^\\textrm{th}$ row \n",
    "of the matrix $\\mathbf{A}$.\n",
    "\n",
    "[**The matrix--vector product $\\mathbf{A}\\mathbf{x}$\n",
    "is simply a column vector of length $m$,\n",
    "whose $i^\\textrm{th}$ element is the dot product \n",
    "$\\mathbf{a}^\\top_i \\mathbf{x}$:**]\n",
    "\n",
    "$$\n",
    "\\mathbf{A}\\mathbf{x}\n",
    "= \\begin{bmatrix}\n",
    "\\mathbf{a}^\\top_{1} \\\\\n",
    "\\mathbf{a}^\\top_{2} \\\\\n",
    "\\vdots \\\\\n",
    "\\mathbf{a}^\\top_m \\\\\n",
    "\\end{bmatrix}\\mathbf{x}\n",
    "= \\begin{bmatrix}\n",
    " \\mathbf{a}^\\top_{1} \\mathbf{x}  \\\\\n",
    " \\mathbf{a}^\\top_{2} \\mathbf{x} \\\\\n",
    "\\vdots\\\\\n",
    " \\mathbf{a}^\\top_{m} \\mathbf{x}\\\\\n",
    "\\end{bmatrix}.\n",
    "$$\n",
    "\n",
    "We can think of multiplication with a matrix\n",
    "$\\mathbf{A}\\in \\mathbb{R}^{m \\times n}$\n",
    "as a transformation that projects vectors\n",
    "from $\\mathbb{R}^{n}$ to $\\mathbb{R}^{m}$.\n",
    "These transformations are remarkably useful.\n",
    "For example, we can represent rotations\n",
    "as multiplications by certain square matrices.\n",
    "Matrix--vector products also describe \n",
    "the key calculation involved in computing\n",
    "the outputs of each layer in a neural network\n",
    "given the outputs from the previous layer.\n"
   ]
  },
  {
   "cell_type": "markdown",
   "id": "30fdfc86",
   "metadata": {
    "origin_pos": 97,
    "tab": [
     "tensorflow"
    ]
   },
   "source": [
    "To express a matrix--vector product in code,\n",
    "we use the `matvec` function. \n",
    "Note that the column dimension of `A` \n",
    "(its length along axis 1)\n",
    "must be the same as the dimension of `x` (its length).\n"
   ]
  },
  {
   "cell_type": "code",
   "execution_count": 26,
   "id": "2a028401",
   "metadata": {
    "execution": {
     "iopub.execute_input": "2023-08-14T17:02:21.778871Z",
     "iopub.status.busy": "2023-08-14T17:02:21.778250Z",
     "iopub.status.idle": "2023-08-14T17:02:21.785992Z",
     "shell.execute_reply": "2023-08-14T17:02:21.785210Z"
    },
    "origin_pos": 100,
    "tab": [
     "tensorflow"
    ]
   },
   "outputs": [
    {
     "data": {
      "text/plain": [
       "(TensorShape([2, 3]),\n",
       " TensorShape([3]),\n",
       " <tf.Tensor: shape=(2,), dtype=float32, numpy=array([ 5., 14.], dtype=float32)>)"
      ]
     },
     "execution_count": 26,
     "metadata": {},
     "output_type": "execute_result"
    }
   ],
   "source": [
    "A.shape, x.shape, tf.linalg.matvec(A, x)"
   ]
  },
  {
   "cell_type": "markdown",
   "id": "1e7c38cd",
   "metadata": {
    "origin_pos": 102
   },
   "source": [
    "## Matrix--Matrix Multiplication\n",
    "\n",
    "Once you have gotten the hang of dot products and matrix--vector products,\n",
    "then *matrix--matrix multiplication* should be straightforward.\n",
    "\n",
    "Say that we have two matrices \n",
    "$\\mathbf{A} \\in \\mathbb{R}^{n \\times k}$ \n",
    "and $\\mathbf{B} \\in \\mathbb{R}^{k \\times m}$:\n",
    "\n",
    "$$\\mathbf{A}=\\begin{bmatrix}\n",
    " a_{11} & a_{12} & \\cdots & a_{1k} \\\\\n",
    " a_{21} & a_{22} & \\cdots & a_{2k} \\\\\n",
    "\\vdots & \\vdots & \\ddots & \\vdots \\\\\n",
    " a_{n1} & a_{n2} & \\cdots & a_{nk} \\\\\n",
    "\\end{bmatrix},\\quad\n",
    "\\mathbf{B}=\\begin{bmatrix}\n",
    " b_{11} & b_{12} & \\cdots & b_{1m} \\\\\n",
    " b_{21} & b_{22} & \\cdots & b_{2m} \\\\\n",
    "\\vdots & \\vdots & \\ddots & \\vdots \\\\\n",
    " b_{k1} & b_{k2} & \\cdots & b_{km} \\\\\n",
    "\\end{bmatrix}.$$\n",
    "\n",
    "\n",
    "Let $\\mathbf{a}^\\top_{i} \\in \\mathbb{R}^k$ denote \n",
    "the row vector representing the $i^\\textrm{th}$ row \n",
    "of the matrix $\\mathbf{A}$\n",
    "and let $\\mathbf{b}_{j} \\in \\mathbb{R}^k$ denote \n",
    "the column vector from the $j^\\textrm{th}$ column \n",
    "of the matrix $\\mathbf{B}$:\n",
    "\n",
    "$$\\mathbf{A}=\n",
    "\\begin{bmatrix}\n",
    "\\mathbf{a}^\\top_{1} \\\\\n",
    "\\mathbf{a}^\\top_{2} \\\\\n",
    "\\vdots \\\\\n",
    "\\mathbf{a}^\\top_n \\\\\n",
    "\\end{bmatrix},\n",
    "\\quad \\mathbf{B}=\\begin{bmatrix}\n",
    " \\mathbf{b}_{1} & \\mathbf{b}_{2} & \\cdots & \\mathbf{b}_{m} \\\\\n",
    "\\end{bmatrix}.\n",
    "$$\n",
    "\n",
    "\n",
    "To form the matrix product $\\mathbf{C} \\in \\mathbb{R}^{n \\times m}$,\n",
    "we simply compute each element $c_{ij}$\n",
    "as the dot product between \n",
    "the $i^{\\textrm{th}}$ row of $\\mathbf{A}$\n",
    "and the $j^{\\textrm{th}}$ column of $\\mathbf{B}$,\n",
    "i.e., $\\mathbf{a}^\\top_i \\mathbf{b}_j$:\n",
    "\n",
    "$$\\mathbf{C} = \\mathbf{AB} = \\begin{bmatrix}\n",
    "\\mathbf{a}^\\top_{1} \\\\\n",
    "\\mathbf{a}^\\top_{2} \\\\\n",
    "\\vdots \\\\\n",
    "\\mathbf{a}^\\top_n \\\\\n",
    "\\end{bmatrix}\n",
    "\\begin{bmatrix}\n",
    " \\mathbf{b}_{1} & \\mathbf{b}_{2} & \\cdots & \\mathbf{b}_{m} \\\\\n",
    "\\end{bmatrix}\n",
    "= \\begin{bmatrix}\n",
    "\\mathbf{a}^\\top_{1} \\mathbf{b}_1 & \\mathbf{a}^\\top_{1}\\mathbf{b}_2& \\cdots & \\mathbf{a}^\\top_{1} \\mathbf{b}_m \\\\\n",
    " \\mathbf{a}^\\top_{2}\\mathbf{b}_1 & \\mathbf{a}^\\top_{2} \\mathbf{b}_2 & \\cdots & \\mathbf{a}^\\top_{2} \\mathbf{b}_m \\\\\n",
    " \\vdots & \\vdots & \\ddots &\\vdots\\\\\n",
    "\\mathbf{a}^\\top_{n} \\mathbf{b}_1 & \\mathbf{a}^\\top_{n}\\mathbf{b}_2& \\cdots& \\mathbf{a}^\\top_{n} \\mathbf{b}_m\n",
    "\\end{bmatrix}.\n",
    "$$\n",
    "\n",
    "[**We can think of the matrix--matrix multiplication $\\mathbf{AB}$\n",
    "as performing $m$ matrix--vector products \n",
    "or $m \\times n$ dot products \n",
    "and stitching the results together \n",
    "to form an $n \\times m$ matrix.**]\n",
    "In the following snippet, \n",
    "we perform matrix multiplication on `A` and `B`.\n",
    "Here, `A` is a matrix with two rows and three columns,\n",
    "and `B` is a matrix with three rows and four columns.\n",
    "After multiplication, we obtain a matrix with two rows and four columns.\n"
   ]
  },
  {
   "cell_type": "code",
   "execution_count": 27,
   "id": "009bcc5c",
   "metadata": {
    "execution": {
     "iopub.execute_input": "2023-08-14T17:02:21.789280Z",
     "iopub.status.busy": "2023-08-14T17:02:21.788748Z",
     "iopub.status.idle": "2023-08-14T17:02:21.816451Z",
     "shell.execute_reply": "2023-08-14T17:02:21.815621Z"
    },
    "origin_pos": 105,
    "tab": [
     "tensorflow"
    ]
   },
   "outputs": [
    {
     "data": {
      "text/plain": [
       "<tf.Tensor: shape=(2, 4), dtype=float32, numpy=\n",
       "array([[ 3.,  3.,  3.,  3.],\n",
       "       [12., 12., 12., 12.]], dtype=float32)>"
      ]
     },
     "execution_count": 27,
     "metadata": {},
     "output_type": "execute_result"
    }
   ],
   "source": [
    "B = tf.ones((3, 4), tf.float32)\n",
    "tf.matmul(A, B)"
   ]
  },
  {
   "cell_type": "markdown",
   "id": "c27d7c97",
   "metadata": {
    "origin_pos": 107
   },
   "source": [
    "The term *matrix--matrix multiplication* is \n",
    "often simplified to *matrix multiplication*,\n",
    "and should not be confused with the Hadamard product.\n",
    "\n",
    "\n",
    "## Norms\n",
    ":label:`subsec_lin-algebra-norms`\n",
    "\n",
    "Some of the most useful operators in linear algebra are *norms*.\n",
    "Informally, the norm of a vector tells us how *big* it is. \n",
    "For instance, the $\\ell_2$ norm measures\n",
    "the (Euclidean) length of a vector.\n",
    "Here, we are employing a notion of *size* that concerns the magnitude of a vector's components\n",
    "(not its dimensionality). \n",
    "\n",
    "A norm is a function $\\| \\cdot \\|$ that maps a vector\n",
    "to a scalar and satisfies the following three properties:\n",
    "\n",
    "1. Given any vector $\\mathbf{x}$, if we scale (all elements of) the vector \n",
    "   by a scalar $\\alpha \\in \\mathbb{R}$, its norm scales accordingly:\n",
    "   $$\\|\\alpha \\mathbf{x}\\| = |\\alpha| \\|\\mathbf{x}\\|.$$\n",
    "2. For any vectors $\\mathbf{x}$ and $\\mathbf{y}$:\n",
    "   norms satisfy the triangle inequality:\n",
    "   $$\\|\\mathbf{x} + \\mathbf{y}\\| \\leq \\|\\mathbf{x}\\| + \\|\\mathbf{y}\\|.$$\n",
    "3. The norm of a vector is nonnegative and it only vanishes if the vector is zero:\n",
    "   $$\\|\\mathbf{x}\\| > 0 \\textrm{ for all } \\mathbf{x} \\neq 0.$$\n",
    "\n",
    "Many functions are valid norms and different norms \n",
    "encode different notions of size. \n",
    "The Euclidean norm that we all learned in elementary school geometry\n",
    "when calculating the hypotenuse of a right triangle\n",
    "is the square root of the sum of squares of a vector's elements.\n",
    "Formally, this is called [**the $\\ell_2$ *norm***] and expressed as\n",
    "\n",
    "(**$$\\|\\mathbf{x}\\|_2 = \\sqrt{\\sum_{i=1}^n x_i^2}.$$**)\n",
    "\n",
    "The method `norm` calculates the $\\ell_2$ norm.\n"
   ]
  },
  {
   "cell_type": "code",
   "execution_count": 28,
   "id": "b13dd373",
   "metadata": {
    "execution": {
     "iopub.execute_input": "2023-08-14T17:02:21.819683Z",
     "iopub.status.busy": "2023-08-14T17:02:21.819143Z",
     "iopub.status.idle": "2023-08-14T17:02:21.827046Z",
     "shell.execute_reply": "2023-08-14T17:02:21.826261Z"
    },
    "origin_pos": 110,
    "tab": [
     "tensorflow"
    ]
   },
   "outputs": [
    {
     "data": {
      "text/plain": [
       "<tf.Tensor: shape=(), dtype=float32, numpy=5.0>"
      ]
     },
     "execution_count": 28,
     "metadata": {},
     "output_type": "execute_result"
    }
   ],
   "source": [
    "u = tf.constant([3.0, -4.0])\n",
    "tf.norm(u)"
   ]
  },
  {
   "cell_type": "markdown",
   "id": "b076311e",
   "metadata": {
    "origin_pos": 112
   },
   "source": [
    "[**The $\\ell_1$ norm**] is also common \n",
    "and the associated measure is called the Manhattan distance. \n",
    "By definition, the $\\ell_1$ norm sums \n",
    "the absolute values of a vector's elements:\n",
    "\n",
    "(**$$\\|\\mathbf{x}\\|_1 = \\sum_{i=1}^n \\left|x_i \\right|.$$**)\n",
    "\n",
    "Compared to the $\\ell_2$ norm, it is less sensitive to outliers.\n",
    "To compute the $\\ell_1$ norm, \n",
    "we compose the absolute value\n",
    "with the sum operation.\n"
   ]
  },
  {
   "cell_type": "code",
   "execution_count": 29,
   "id": "07f43492",
   "metadata": {
    "execution": {
     "iopub.execute_input": "2023-08-14T17:02:21.830408Z",
     "iopub.status.busy": "2023-08-14T17:02:21.829756Z",
     "iopub.status.idle": "2023-08-14T17:02:21.836122Z",
     "shell.execute_reply": "2023-08-14T17:02:21.835272Z"
    },
    "origin_pos": 115,
    "tab": [
     "tensorflow"
    ]
   },
   "outputs": [
    {
     "data": {
      "text/plain": [
       "<tf.Tensor: shape=(), dtype=float32, numpy=7.0>"
      ]
     },
     "execution_count": 29,
     "metadata": {},
     "output_type": "execute_result"
    }
   ],
   "source": [
    "tf.reduce_sum(tf.abs(u))"
   ]
  },
  {
   "cell_type": "markdown",
   "id": "4bbdc57e",
   "metadata": {
    "origin_pos": 117
   },
   "source": [
    "Both the $\\ell_2$ and $\\ell_1$ norms are special cases\n",
    "of the more general $\\ell_p$ *norms*:\n",
    "\n",
    "$$\\|\\mathbf{x}\\|_p = \\left(\\sum_{i=1}^n \\left|x_i \\right|^p \\right)^{1/p}.$$\n",
    "\n",
    "In the case of matrices, matters are more complicated. \n",
    "After all, matrices can be viewed both as collections of individual entries \n",
    "*and* as objects that operate on vectors and transform them into other vectors. \n",
    "For instance, we can ask by how much longer \n",
    "the matrix--vector product $\\mathbf{X} \\mathbf{v}$ \n",
    "could be relative to $\\mathbf{v}$. \n",
    "This line of thought leads to what is called the *spectral* norm. \n",
    "For now, we introduce [**the *Frobenius norm*, \n",
    "which is much easier to compute**] and defined as\n",
    "the square root of the sum of the squares \n",
    "of a matrix's elements:\n",
    "\n",
    "[**$$\\|\\mathbf{X}\\|_\\textrm{F} = \\sqrt{\\sum_{i=1}^m \\sum_{j=1}^n x_{ij}^2}.$$**]\n",
    "\n",
    "The Frobenius norm behaves as if it were \n",
    "an $\\ell_2$ norm of a matrix-shaped vector.\n",
    "Invoking the following function will calculate \n",
    "the Frobenius norm of a matrix.\n"
   ]
  },
  {
   "cell_type": "code",
   "execution_count": 30,
   "id": "05b317ec",
   "metadata": {
    "execution": {
     "iopub.execute_input": "2023-08-14T17:02:21.839544Z",
     "iopub.status.busy": "2023-08-14T17:02:21.838887Z",
     "iopub.status.idle": "2023-08-14T17:02:21.844940Z",
     "shell.execute_reply": "2023-08-14T17:02:21.844155Z"
    },
    "origin_pos": 120,
    "tab": [
     "tensorflow"
    ]
   },
   "outputs": [
    {
     "data": {
      "text/plain": [
       "<tf.Tensor: shape=(), dtype=float32, numpy=6.0>"
      ]
     },
     "execution_count": 30,
     "metadata": {},
     "output_type": "execute_result"
    }
   ],
   "source": [
    "tf.norm(tf.ones((4, 9)))"
   ]
  },
  {
   "cell_type": "markdown",
   "id": "4bd64547",
   "metadata": {
    "origin_pos": 122
   },
   "source": [
    "While we do not want to get too far ahead of ourselves,\n",
    "we already can plant some intuition about why these concepts are useful.\n",
    "In deep learning, we are often trying to solve optimization problems:\n",
    "*maximize* the probability assigned to observed data;\n",
    "*maximize* the revenue associated with a recommender model; \n",
    "*minimize* the distance between predictions\n",
    "and the ground-truth observations; \n",
    "*minimize* the distance between representations \n",
    "of photos of the same person \n",
    "while *maximizing* the distance between representations \n",
    "of photos of different people. \n",
    "These distances, which constitute \n",
    "the objectives of deep learning algorithms, \n",
    "are often expressed as norms. \n",
    "\n",
    "\n",
    "## Discussion\n",
    "\n",
    "In this section, we have reviewed all the linear algebra\n",
    "that you will need to understand\n",
    "a significant chunk of modern deep learning.\n",
    "There is a lot more to linear algebra, though,\n",
    "and much of it is useful for machine learning.\n",
    "For example, matrices can be decomposed into factors,\n",
    "and these decompositions can reveal\n",
    "low-dimensional structure in real-world datasets.\n",
    "There are entire subfields of machine learning\n",
    "that focus on using matrix decompositions\n",
    "and their generalizations to high-order tensors\n",
    "to discover structure in datasets \n",
    "and solve prediction problems.\n",
    "But this book focuses on deep learning.\n",
    "And we believe you will be more inclined \n",
    "to learn more mathematics\n",
    "once you have gotten your hands dirty\n",
    "applying machine learning to real datasets.\n",
    "So while we reserve the right \n",
    "to introduce more mathematics later on,\n",
    "we wrap up this section here.\n",
    "\n",
    "If you are eager to learn more linear algebra,\n",
    "there are many excellent books and online resources.\n",
    "For a more advanced crash course, consider checking out\n",
    ":citet:`Strang.1993`, :citet:`Kolter.2008`, and :citet:`Petersen.Pedersen.ea.2008`.\n",
    "\n",
    "To recap:\n",
    "\n",
    "* Scalars, vectors, matrices, and tensors are \n",
    "  the basic mathematical objects used in linear algebra \n",
    "  and have zero, one, two, and an arbitrary number of axes, respectively.\n",
    "* Tensors can be sliced or reduced along specified axes \n",
    "  via indexing, or operations such as `sum` and `mean`, respectively.\n",
    "* Elementwise products are called Hadamard products. \n",
    "  By contrast, dot products, matrix--vector products, and matrix--matrix products \n",
    "  are not elementwise operations and in general return objects \n",
    "  having shapes that are different from the the operands. \n",
    "* Compared to Hadamard products, matrix--matrix products \n",
    "  take considerably longer to compute (cubic rather than quadratic time).\n",
    "* Norms capture various notions of the magnitude of a vector (or matrix), \n",
    "  and are commonly applied to the difference of two vectors \n",
    "  to measure their distance apart.\n",
    "* Common vector norms include the $\\ell_1$ and $\\ell_2$ norms, \n",
    "   and common matrix norms include the *spectral* and *Frobenius* norms.\n",
    "\n",
    "\n",
    "## Exercises\n",
    "\n",
    "1. Prove that the transpose of the transpose of a matrix is the matrix itself: $(\\mathbf{A}^\\top)^\\top = \\mathbf{A}$.\n",
    "1. Given two matrices $\\mathbf{A}$ and $\\mathbf{B}$, show that sum and transposition commute: $\\mathbf{A}^\\top + \\mathbf{B}^\\top = (\\mathbf{A} + \\mathbf{B})^\\top$.\n",
    "1. Given any square matrix $\\mathbf{A}$, is $\\mathbf{A} + \\mathbf{A}^\\top$ always symmetric? Can you prove the result by using only the results of the previous two exercises?\n",
    "1. We defined the tensor `X` of shape (2, 3, 4) in this section. What is the output of `len(X)`? Write your answer without implementing any code, then check your answer using code. \n",
    "1. For a tensor `X` of arbitrary shape, does `len(X)` always correspond to the length of a certain axis of `X`? What is that axis?\n",
    "1. Run `A / A.sum(axis=1)` and see what happens. Can you analyze the results?\n",
    "1. When traveling between two points in downtown Manhattan, what is the distance that you need to cover in terms of the coordinates, i.e., in terms of avenues and streets? Can you travel diagonally?\n",
    "1. Consider a tensor of shape (2, 3, 4). What are the shapes of the summation outputs along axes 0, 1, and 2?\n",
    "1. Feed a tensor with three or more axes to the `linalg.norm` function and observe its output. What does this function compute for tensors of arbitrary shape?\n",
    "1. Consider three large matrices, say $\\mathbf{A} \\in \\mathbb{R}^{2^{10} \\times 2^{16}}$, $\\mathbf{B} \\in \\mathbb{R}^{2^{16} \\times 2^{5}}$ and $\\mathbf{C} \\in \\mathbb{R}^{2^{5} \\times 2^{14}}$, initialized with Gaussian random variables. You want to compute the product $\\mathbf{A} \\mathbf{B} \\mathbf{C}$. Is there any difference in memory footprint and speed, depending on whether you compute $(\\mathbf{A} \\mathbf{B}) \\mathbf{C}$ or $\\mathbf{A} (\\mathbf{B} \\mathbf{C})$. Why?\n",
    "1. Consider three large matrices, say $\\mathbf{A} \\in \\mathbb{R}^{2^{10} \\times 2^{16}}$, $\\mathbf{B} \\in \\mathbb{R}^{2^{16} \\times 2^{5}}$ and $\\mathbf{C} \\in \\mathbb{R}^{2^{5} \\times 2^{16}}$. Is there any difference in speed depending on whether you compute $\\mathbf{A} \\mathbf{B}$ or $\\mathbf{A} \\mathbf{C}^\\top$? Why? What changes if you initialize $\\mathbf{C} = \\mathbf{B}^\\top$ without cloning memory? Why?\n",
    "1. Consider three matrices, say $\\mathbf{A}, \\mathbf{B}, \\mathbf{C} \\in \\mathbb{R}^{100 \\times 200}$. Construct a tensor with three axes by stacking $[\\mathbf{A}, \\mathbf{B}, \\mathbf{C}]$. What is the dimensionality? Slice out the second coordinate of the third axis to recover $\\mathbf{B}$. Check that your answer is correct.\n"
   ]
  },
  {
   "cell_type": "markdown",
   "id": "8d684047",
   "metadata": {
    "origin_pos": 125,
    "tab": [
     "tensorflow"
    ]
   },
   "source": [
    "[Discussions](https://discuss.d2l.ai/t/196)\n"
   ]
  }
 ],
 "metadata": {
  "kernelspec": {
   "display_name": "conda_tensorflow_p36",
   "name": "conda_tensorflow_p36"
  },
  "language_info": {
   "name": "python"
  },
  "required_libs": []
 },
 "nbformat": 4,
 "nbformat_minor": 5
}