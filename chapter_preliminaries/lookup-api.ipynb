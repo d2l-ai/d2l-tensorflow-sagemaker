{
 "cells": [
  {
   "cell_type": "markdown",
   "id": "55eec343",
   "metadata": {
    "origin_pos": 1
   },
   "source": [
    "# Documentation\n"
   ]
  },
  {
   "cell_type": "markdown",
   "id": "bbbeb98c",
   "metadata": {
    "origin_pos": 4,
    "tab": [
     "tensorflow"
    ]
   },
   "source": [
    "While we cannot possibly introduce every single TensorFlow function and class \n",
    "(and the information might become outdated quickly), \n",
    "the [API documentation](https://www.tensorflow.org/api_docs) and additional [tutorials](https://www.tensorflow.org/tutorials) and examples \n",
    "provide such documentation. \n",
    "This section provides some guidance for how to explore the TensorFlow API.\n"
   ]
  },
  {
   "cell_type": "code",
   "execution_count": 1,
   "id": "5b9b91a2",
   "metadata": {
    "execution": {
     "iopub.execute_input": "2023-02-10T06:43:06.698381Z",
     "iopub.status.busy": "2023-02-10T06:43:06.698082Z",
     "iopub.status.idle": "2023-02-10T06:43:10.208709Z",
     "shell.execute_reply": "2023-02-10T06:43:10.207665Z"
    },
    "origin_pos": 7,
    "tab": [
     "tensorflow"
    ]
   },
   "outputs": [],
   "source": [
    "import tensorflow as tf"
   ]
  },
  {
   "cell_type": "markdown",
   "id": "e08c684c",
   "metadata": {
    "origin_pos": 9
   },
   "source": [
    "## Functions and Classes in a Module\n",
    "\n",
    "In order to know which functions and classes can be called in a module,\n",
    "we invoke the `dir` function. For instance, we can\n",
    "(**query all properties in the module for generating random numbers**):\n"
   ]
  },
  {
   "cell_type": "code",
   "execution_count": 2,
   "id": "b36e048c",
   "metadata": {
    "attributes": {
     "classes": [],
     "id": "",
     "n": "1"
    },
    "execution": {
     "iopub.execute_input": "2023-02-10T06:43:10.213232Z",
     "iopub.status.busy": "2023-02-10T06:43:10.212792Z",
     "iopub.status.idle": "2023-02-10T06:43:10.217598Z",
     "shell.execute_reply": "2023-02-10T06:43:10.216895Z"
    },
    "origin_pos": 12,
    "tab": [
     "tensorflow"
    ]
   },
   "outputs": [
    {
     "name": "stdout",
     "output_type": "stream",
     "text": [
      "['Algorithm', 'Generator', '__builtins__', '__cached__', '__doc__', '__file__', '__loader__', '__name__', '__package__', '__path__', '__spec__', '_sys', 'all_candidate_sampler', 'categorical', 'create_rng_state', 'experimental', 'fixed_unigram_candidate_sampler', 'gamma', 'get_global_generator', 'learned_unigram_candidate_sampler', 'log_uniform_candidate_sampler', 'normal', 'poisson', 'set_global_generator', 'set_seed', 'shuffle', 'stateless_binomial', 'stateless_categorical', 'stateless_gamma', 'stateless_normal', 'stateless_parameterized_truncated_normal', 'stateless_poisson', 'stateless_truncated_normal', 'stateless_uniform', 'truncated_normal', 'uniform', 'uniform_candidate_sampler']\n"
     ]
    }
   ],
   "source": [
    "print(dir(tf.random))"
   ]
  },
  {
   "cell_type": "markdown",
   "id": "bf909d16",
   "metadata": {
    "origin_pos": 14
   },
   "source": [
    "Generally, we can ignore functions that start and end with `__` (special objects in Python) \n",
    "or functions that start with a single `_`(usually internal functions). \n",
    "Based on the remaining function or attribute names, \n",
    "we might hazard a guess that this module offers \n",
    "various methods for generating random numbers, \n",
    "including sampling from the uniform distribution (`uniform`), \n",
    "normal distribution (`normal`), and multinomial distribution (`multinomial`).\n",
    "\n",
    "## Specific Functions and Classes\n",
    "\n",
    "For more specific instructions on how to use a given function or class,\n",
    "we can invoke the  `help` function. As an example, let's\n",
    "[**explore the usage instructions for tensors' `ones` function**].\n"
   ]
  },
  {
   "cell_type": "code",
   "execution_count": 3,
   "id": "67459a98",
   "metadata": {
    "execution": {
     "iopub.execute_input": "2023-02-10T06:43:10.221889Z",
     "iopub.status.busy": "2023-02-10T06:43:10.221641Z",
     "iopub.status.idle": "2023-02-10T06:43:10.225902Z",
     "shell.execute_reply": "2023-02-10T06:43:10.225209Z"
    },
    "origin_pos": 17,
    "tab": [
     "tensorflow"
    ]
   },
   "outputs": [
    {
     "name": "stdout",
     "output_type": "stream",
     "text": [
      "Help on function ones in module tensorflow.python.ops.array_ops:\n",
      "\n",
      "ones(shape, dtype=tf.float32, name=None)\n",
      "    Creates a tensor with all elements set to one (1).\n",
      "    \n",
      "    See also `tf.ones_like`, `tf.zeros`, `tf.fill`, `tf.eye`.\n",
      "    \n",
      "    This operation returns a tensor of type `dtype` with shape `shape` and\n",
      "    all elements set to one.\n",
      "    \n",
      "    >>> tf.ones([3, 4], tf.int32)\n",
      "    <tf.Tensor: shape=(3, 4), dtype=int32, numpy=\n",
      "    array([[1, 1, 1, 1],\n",
      "           [1, 1, 1, 1],\n",
      "           [1, 1, 1, 1]], dtype=int32)>\n",
      "    \n",
      "    Args:\n",
      "      shape: A `list` of integers, a `tuple` of integers, or\n",
      "        a 1-D `Tensor` of type `int32`.\n",
      "      dtype: Optional DType of an element in the resulting `Tensor`. Default is\n",
      "        `tf.float32`.\n",
      "      name: Optional string. A name for the operation.\n",
      "    \n",
      "    Returns:\n",
      "      A `Tensor` with all elements set to one (1).\n",
      "\n"
     ]
    }
   ],
   "source": [
    "help(tf.ones)"
   ]
  },
  {
   "cell_type": "markdown",
   "id": "20d2d897",
   "metadata": {
    "origin_pos": 19
   },
   "source": [
    "From the documentation, we can see that the `ones` function \n",
    "creates a new tensor with the specified shape \n",
    "and sets all the elements to the value of 1. \n",
    "Whenever possible, you should (**run a quick test**) \n",
    "to confirm your interpretation:\n"
   ]
  },
  {
   "cell_type": "code",
   "execution_count": 4,
   "id": "02bc9f1a",
   "metadata": {
    "execution": {
     "iopub.execute_input": "2023-02-10T06:43:10.229335Z",
     "iopub.status.busy": "2023-02-10T06:43:10.229014Z",
     "iopub.status.idle": "2023-02-10T06:43:11.630727Z",
     "shell.execute_reply": "2023-02-10T06:43:11.629805Z"
    },
    "origin_pos": 22,
    "tab": [
     "tensorflow"
    ]
   },
   "outputs": [
    {
     "data": {
      "text/plain": [
       "<tf.Tensor: shape=(4,), dtype=float32, numpy=array([1., 1., 1., 1.], dtype=float32)>"
      ]
     },
     "execution_count": 4,
     "metadata": {},
     "output_type": "execute_result"
    }
   ],
   "source": [
    "tf.ones(4)"
   ]
  },
  {
   "cell_type": "markdown",
   "id": "126fa8d0",
   "metadata": {
    "origin_pos": 24
   },
   "source": [
    "In the Jupyter notebook, we can use `?` to display the document in another\n",
    "window. For example, `list?` will create content\n",
    "that is almost identical to `help(list)`,\n",
    "displaying it in a new browser window.\n",
    "In addition, if we use two question marks, such as `list??`,\n",
    "the Python code implementing the function will also be displayed.\n",
    "\n",
    "The official documentation provides plenty of descriptions and examples that are beyond this book. \n",
    "Our emphasis lies on covering important use cases \n",
    "that will allow you to get started quickly with practical problems, \n",
    "rather than completeness of coverage. \n",
    "We also encourage you to study the source code of the libraries \n",
    "to see examples of high quality implementations for production code. \n",
    "By doing this you will become a better engineer \n",
    "in addition to becoming a better scientist.\n"
   ]
  },
  {
   "cell_type": "markdown",
   "id": "3b104ab8",
   "metadata": {
    "origin_pos": 27,
    "tab": [
     "tensorflow"
    ]
   },
   "source": [
    "[Discussions](https://discuss.d2l.ai/t/199)\n"
   ]
  }
 ],
 "metadata": {
  "kernelspec": {
   "display_name": "conda_tensorflow_p36",
   "name": "conda_tensorflow_p36"
  },
  "language_info": {
   "name": "python"
  }
 },
 "nbformat": 4,
 "nbformat_minor": 5
}