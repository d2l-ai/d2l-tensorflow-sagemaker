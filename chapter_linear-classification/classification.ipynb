{
 "cells": [
  {
   "cell_type": "markdown",
   "id": "4bca8fcf",
   "metadata": {},
   "source": [
    "Installing (updating) the following libraries for your Sagemaker\n",
    "instance."
   ]
  },
  {
   "cell_type": "code",
   "execution_count": null,
   "id": "9b3010fa",
   "metadata": {},
   "outputs": [],
   "source": [
    "!pip install .. # installing d2l\n"
   ]
  },
  {
   "cell_type": "markdown",
   "id": "4c4422d1",
   "metadata": {
    "origin_pos": 1
   },
   "source": [
    "# The Base Classification Model\n",
    ":label:`sec_classification`\n",
    "\n",
    "You may have noticed that the implementations from scratch and the concise implementation using framework functionality were quite similar in the case of regression. The same is true for classification. Since many models in this book deal with classification, it is worth adding functionalities to support this setting specifically. This section provides a base class for classification models to simplify future code.\n"
   ]
  },
  {
   "cell_type": "code",
   "execution_count": 1,
   "id": "197fd345",
   "metadata": {
    "execution": {
     "iopub.execute_input": "2023-02-10T06:56:54.610259Z",
     "iopub.status.busy": "2023-02-10T06:56:54.609965Z",
     "iopub.status.idle": "2023-02-10T06:56:57.837678Z",
     "shell.execute_reply": "2023-02-10T06:56:57.836840Z"
    },
    "origin_pos": 4,
    "tab": [
     "tensorflow"
    ]
   },
   "outputs": [],
   "source": [
    "import tensorflow as tf\n",
    "from d2l import tensorflow as d2l"
   ]
  },
  {
   "cell_type": "markdown",
   "id": "01046b8e",
   "metadata": {
    "origin_pos": 6
   },
   "source": [
    "## The `Classifier` Class\n"
   ]
  },
  {
   "cell_type": "markdown",
   "id": "7ee16467",
   "metadata": {
    "origin_pos": 7,
    "tab": [
     "tensorflow"
    ]
   },
   "source": [
    "We define the `Classifier` class below. In the `validation_step` we report both the loss value and the classification accuracy on a validation batch. We draw an update for every `num_val_batches` batches. This has the benefit of generating the averaged loss and accuracy on the whole validation data. These average numbers are not exactly correct if the last batch contains fewer examples, but we ignore this minor difference to keep the code simple.\n"
   ]
  },
  {
   "cell_type": "code",
   "execution_count": 2,
   "id": "10753839",
   "metadata": {
    "execution": {
     "iopub.execute_input": "2023-02-10T06:56:57.841815Z",
     "iopub.status.busy": "2023-02-10T06:56:57.841301Z",
     "iopub.status.idle": "2023-02-10T06:56:57.846820Z",
     "shell.execute_reply": "2023-02-10T06:56:57.846121Z"
    },
    "origin_pos": 9,
    "tab": [
     "tensorflow"
    ]
   },
   "outputs": [],
   "source": [
    "class Classifier(d2l.Module):  #@save\n",
    "    \"\"\"The base class of classification models.\"\"\"\n",
    "    def validation_step(self, batch):\n",
    "        Y_hat = self(*batch[:-1])\n",
    "        self.plot('loss', self.loss(Y_hat, batch[-1]), train=False)\n",
    "        self.plot('acc', self.accuracy(Y_hat, batch[-1]), train=False)"
   ]
  },
  {
   "cell_type": "markdown",
   "id": "cb3bf761",
   "metadata": {
    "origin_pos": 11
   },
   "source": [
    "By default we use a stochastic gradient descent optimizer, operating on minibatches, just as we did in the context of linear regression.\n"
   ]
  },
  {
   "cell_type": "code",
   "execution_count": 3,
   "id": "7ff5a728",
   "metadata": {
    "execution": {
     "iopub.execute_input": "2023-02-10T06:56:57.849597Z",
     "iopub.status.busy": "2023-02-10T06:56:57.849311Z",
     "iopub.status.idle": "2023-02-10T06:56:57.853336Z",
     "shell.execute_reply": "2023-02-10T06:56:57.852463Z"
    },
    "origin_pos": 14,
    "tab": [
     "tensorflow"
    ]
   },
   "outputs": [],
   "source": [
    "@d2l.add_to_class(d2l.Module)  #@save\n",
    "def configure_optimizers(self):\n",
    "    return tf.keras.optimizers.SGD(self.lr)"
   ]
  },
  {
   "cell_type": "markdown",
   "id": "8f99a08c",
   "metadata": {
    "origin_pos": 16
   },
   "source": [
    "## Accuracy\n",
    "\n",
    "Given the predicted probability distribution `y_hat`,\n",
    "we typically choose the class with the highest predicted probability\n",
    "whenever we must output a hard prediction.\n",
    "Indeed, many applications require that we make a choice.\n",
    "For instance, Gmail must categorize an email into \"Primary\", \"Social\", \"Updates\", \"Forums\", or \"Spam\".\n",
    "It might estimate probabilities internally,\n",
    "but at the end of the day it has to choose one among the classes.\n",
    "\n",
    "When predictions are consistent with the label class `y`, they are correct.\n",
    "The classification accuracy is the fraction of all predictions that are correct.\n",
    "Although it can be difficult to optimize accuracy directly (it is not differentiable),\n",
    "it is often the performance measure that we care about the most. It is often *the*\n",
    "relevant quantity in benchmarks. As such, we will nearly always report it when training classifiers.\n",
    "\n",
    "Accuracy is computed as follows.\n",
    "First, if `y_hat` is a matrix,\n",
    "we assume that the second dimension stores prediction scores for each class.\n",
    "We use `argmax` to obtain the predicted class by the index for the largest entry in each row.\n",
    "Then we [**compare the predicted class with the ground-truth `y` elementwise.**]\n",
    "Since the equality operator `==` is sensitive to data types,\n",
    "we convert `y_hat`'s data type to match that of `y`.\n",
    "The result is a tensor containing entries of 0 (false) and 1 (true).\n",
    "Taking the sum yields the number of correct predictions.\n"
   ]
  },
  {
   "cell_type": "code",
   "execution_count": 4,
   "id": "b802f332",
   "metadata": {
    "attributes": {
     "classes": [],
     "id": "",
     "n": "9"
    },
    "execution": {
     "iopub.execute_input": "2023-02-10T06:56:57.856493Z",
     "iopub.status.busy": "2023-02-10T06:56:57.856172Z",
     "iopub.status.idle": "2023-02-10T06:56:57.861101Z",
     "shell.execute_reply": "2023-02-10T06:56:57.860494Z"
    },
    "origin_pos": 17,
    "tab": [
     "tensorflow"
    ]
   },
   "outputs": [],
   "source": [
    "@d2l.add_to_class(Classifier)  #@save\n",
    "def accuracy(self, Y_hat, Y, averaged=True):\n",
    "    \"\"\"Compute the number of correct predictions.\"\"\"\n",
    "    Y_hat = tf.reshape(Y_hat, (-1, Y_hat.shape[-1]))\n",
    "    preds = tf.cast(tf.argmax(Y_hat, axis=1), Y.dtype)\n",
    "    compare = tf.cast(preds == tf.reshape(Y, -1), tf.float32)\n",
    "    return tf.reduce_mean(compare) if averaged else compare"
   ]
  },
  {
   "cell_type": "markdown",
   "id": "9f2b68b7",
   "metadata": {
    "origin_pos": 20
   },
   "source": [
    "## Summary\n",
    "\n",
    "Classification is a sufficiently common problem that it warrants its own convenience functions. Of central importance in classification is the *accuracy* of the classifier. Note that while we often care primarily about accuracy, we train classifiers to optimize a variety of other objectives for statistical and computational reasons. However, regardless of which loss function was minimized during training, it is useful to have a convenience method for assessing the accuracy of our classifier empirically. \n",
    "\n",
    "\n",
    "## Exercises\n",
    "\n",
    "1. Denote by $L_v$ the validation loss, and let $L_v^q$ be its quick and dirty estimate computed by the loss function averaging in this section. Lastly, denote by $l_v^b$ the loss on the last minibatch. Express $L_v$ in terms of $L_v^q$, $l_v^b$, and the sample and minibatch sizes.\n",
    "1. Show that the quick and dirty estimate $L_v^q$ is unbiased. That is, show that $E[L_v] = E[L_v^q]$. Why would you still want to use $L_v$ instead?\n",
    "1. Given a multiclass classification loss, denoting by $l(y,y')$ the penalty of estimating $y'$ when we see $y$ and given a probabilty $p(y \\mid x)$, formulate the rule for an optimal selection of $y'$. Hint: express the expected loss, using $l$ and $p(y \\mid x)$.\n"
   ]
  },
  {
   "cell_type": "markdown",
   "id": "7191ba3f",
   "metadata": {
    "origin_pos": 23,
    "tab": [
     "tensorflow"
    ]
   },
   "source": [
    "[Discussions](https://discuss.d2l.ai/t/6810)\n"
   ]
  }
 ],
 "metadata": {
  "kernelspec": {
   "display_name": "conda_tensorflow_p36",
   "name": "conda_tensorflow_p36"
  },
  "language_info": {
   "name": "python"
  }
 },
 "nbformat": 4,
 "nbformat_minor": 5
}