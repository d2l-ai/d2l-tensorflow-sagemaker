{
 "cells": [
  {
   "cell_type": "markdown",
   "id": "715650fe",
   "metadata": {},
   "source": [
    "Installing (updating) the following libraries for your Sagemaker\n",
    "instance."
   ]
  },
  {
   "cell_type": "code",
   "execution_count": null,
   "id": "d61402cf",
   "metadata": {},
   "outputs": [],
   "source": [
    "!pip install .. # installing d2l\n"
   ]
  },
  {
   "cell_type": "markdown",
   "id": "74012041",
   "metadata": {
    "origin_pos": 1
   },
   "source": [
    "# The Base Classification Model\n",
    ":label:`sec_classification`\n",
    "\n",
    "You may have noticed that the implementations from scratch and the concise implementation using framework functionality were quite similar in the case of regression. The same is true for classification. Since a great many models in this book deal with classification, it is worth adding some functionality to support this setting specifically. This section provides a base class for classification models to simplify future code.\n"
   ]
  },
  {
   "cell_type": "code",
   "execution_count": 1,
   "id": "9ab6a6c8",
   "metadata": {
    "attributes": {
     "classes": [],
     "id": "",
     "n": "4"
    },
    "execution": {
     "iopub.execute_input": "2022-07-13T11:34:56.613150Z",
     "iopub.status.busy": "2022-07-13T11:34:56.612489Z",
     "iopub.status.idle": "2022-07-13T11:34:59.315245Z",
     "shell.execute_reply": "2022-07-13T11:34:59.314325Z"
    },
    "origin_pos": 4,
    "tab": [
     "tensorflow"
    ]
   },
   "outputs": [],
   "source": [
    "import tensorflow as tf\n",
    "from IPython import display\n",
    "from d2l import tensorflow as d2l"
   ]
  },
  {
   "cell_type": "markdown",
   "id": "3eeb5168",
   "metadata": {
    "origin_pos": 5
   },
   "source": [
    "## The `Classifier` Class\n",
    "\n",
    "We define the `Classifier` class below. In the `validation_step` we report both the loss value and the classification accuracy on a validation batch. We draw an update for every `num_val_batches` batches. This has the benefit of generating the averaged loss and accuracy on the whole validation data. These average numbers are not exactly correct if the last batch contains fewer examples, but we ignore this minor difference to keep the code simple.\n"
   ]
  },
  {
   "cell_type": "code",
   "execution_count": 2,
   "id": "8eda87f5",
   "metadata": {
    "attributes": {
     "classes": [],
     "id": "",
     "n": "5"
    },
    "execution": {
     "iopub.execute_input": "2022-07-13T11:34:59.349527Z",
     "iopub.status.busy": "2022-07-13T11:34:59.348589Z",
     "iopub.status.idle": "2022-07-13T11:34:59.354177Z",
     "shell.execute_reply": "2022-07-13T11:34:59.353382Z"
    },
    "origin_pos": 6,
    "tab": [
     "tensorflow"
    ]
   },
   "outputs": [],
   "source": [
    "class Classifier(d2l.Module):  #@save\n",
    "    def validation_step(self, batch):\n",
    "        Y_hat = self(*batch[:-1])\n",
    "        self.plot('loss', self.loss(Y_hat, batch[-1]), train=False)\n",
    "        self.plot('acc', self.accuracy(Y_hat, batch[-1]), train=False)"
   ]
  },
  {
   "cell_type": "markdown",
   "id": "46da97fb",
   "metadata": {
    "origin_pos": 7
   },
   "source": [
    "By default we use a stochastic gradient descent optimizer, operating on minibatches, just as we did in the context of linear regression.\n"
   ]
  },
  {
   "cell_type": "code",
   "execution_count": 3,
   "id": "110ef248",
   "metadata": {
    "attributes": {
     "classes": [],
     "id": "",
     "n": "8"
    },
    "execution": {
     "iopub.execute_input": "2022-07-13T11:34:59.358343Z",
     "iopub.status.busy": "2022-07-13T11:34:59.357800Z",
     "iopub.status.idle": "2022-07-13T11:34:59.361862Z",
     "shell.execute_reply": "2022-07-13T11:34:59.361093Z"
    },
    "origin_pos": 10,
    "tab": [
     "tensorflow"
    ]
   },
   "outputs": [],
   "source": [
    "@d2l.add_to_class(d2l.Module)  #@save\n",
    "def configure_optimizers(self):\n",
    "    return tf.keras.optimizers.SGD(self.lr)"
   ]
  },
  {
   "cell_type": "markdown",
   "id": "248994d4",
   "metadata": {
    "origin_pos": 11
   },
   "source": [
    "## Accuracy\n",
    "\n",
    "Given the predicted probability distribution `y_hat`,\n",
    "we typically choose the class with the highest predicted probability\n",
    "whenever we must output a hard prediction.\n",
    "Indeed, many applications require that we make a choice.\n",
    "For instance, Gmail must categorize an email into \"Primary\", \"Social\", \"Updates\", \"Forums\", or \"Spam\".\n",
    "It might estimate probabilities internally,\n",
    "but at the end of the day it has to choose one among the classes.\n",
    "\n",
    "When predictions are consistent with the label class `y`, they are correct.\n",
    "The classification accuracy is the fraction of all predictions that are correct.\n",
    "Although it can be difficult to optimize accuracy directly (it is not differentiable),\n",
    "it is often the performance measure that we care about the most. It is often *the*\n",
    "relevant quantity in benchmarks. As such, we will nearly always report it when training classifiers.\n",
    "\n",
    "Accuracy is computed as follows.\n",
    "First, if `y_hat` is a matrix,\n",
    "we assume that the second dimension stores prediction scores for each class.\n",
    "We use `argmax` to obtain the predicted class by the index for the largest entry in each row.\n",
    "Then we [**compare the predicted class with the ground-truth `y` elementwise.**]\n",
    "Since the equality operator `==` is sensitive to data types,\n",
    "we convert `y_hat`'s data type to match that of `y`.\n",
    "The result is a tensor containing entries of 0 (false) and 1 (true).\n",
    "Taking the sum yields the number of correct predictions.\n"
   ]
  },
  {
   "cell_type": "code",
   "execution_count": 4,
   "id": "5ff1a39d",
   "metadata": {
    "attributes": {
     "classes": [],
     "id": "",
     "n": "9"
    },
    "execution": {
     "iopub.execute_input": "2022-07-13T11:34:59.365284Z",
     "iopub.status.busy": "2022-07-13T11:34:59.364779Z",
     "iopub.status.idle": "2022-07-13T11:34:59.370453Z",
     "shell.execute_reply": "2022-07-13T11:34:59.369576Z"
    },
    "origin_pos": 12,
    "tab": [
     "tensorflow"
    ]
   },
   "outputs": [],
   "source": [
    "@d2l.add_to_class(Classifier)  #@save\n",
    "def accuracy(self, Y_hat, Y, averaged=True):\n",
    "    \"\"\"Compute the number of correct predictions.\"\"\"\n",
    "    Y_hat = tf.reshape(Y_hat, (-1, Y_hat.shape[-1]))\n",
    "    preds = tf.cast(tf.argmax(Y_hat, axis=1), Y.dtype)\n",
    "    compare = tf.cast(preds == tf.reshape(Y, -1), tf.float32)\n",
    "    return tf.reduce_mean(compare) if averaged else compare"
   ]
  },
  {
   "cell_type": "markdown",
   "id": "726c63c3",
   "metadata": {
    "origin_pos": 14
   },
   "source": [
    "## Summary\n",
    "\n",
    "Classification is a sufficiently common problem that it warrants its own convenience functions. Of central importance in classification is the *accuracy* of the classifier. Note that while we often care primarily about accuracy, we train classifiers to optimize a variety of other objectives for statistical and computational reasons. However, regardless of which loss function was minimized during training, it's useful to have a convenience method for assessing the accuracy of our classifier empirically. \n",
    "\n",
    "\n",
    "## Exercises\n",
    "\n",
    "1. Denote by $L_v$ the validation loss, and let $L_v^q$ be its quick and dirty estimate computed by the loss function averaging in this section. Lastly, denote by $l_v^b$ the loss on the last minibatch. Express $L_v$ in terms of $L_v^q$, $l_v^b$, and the sample and minibatch sizes.\n",
    "1. Show that the quick and dirty estimate $L_v^q$ is unbiased. That is, show that $E[L_v] = E[L_v^q]$. Why would you still want to use $L_v$ instead?\n",
    "1. Given a multiclass classification loss, denoting by $l(y,y')$ the penalty of estimating $y'$ when we see $y$ and given a probabilty $p(y|x)$, formulate the rule for an optimal selection of $y'$. Hint: express the expected loss, using $l$ and $p(y|x)$.\n"
   ]
  },
  {
   "cell_type": "markdown",
   "id": "64afd6c7",
   "metadata": {
    "origin_pos": 17,
    "tab": [
     "tensorflow"
    ]
   },
   "source": [
    "[Discussions](https://discuss.d2l.ai/t/6810)\n"
   ]
  }
 ],
 "metadata": {
  "kernelspec": {
   "display_name": "conda_tensorflow_p36",
   "name": "conda_tensorflow_p36"
  },
  "language_info": {
   "name": "python"
  }
 },
 "nbformat": 4,
 "nbformat_minor": 5
}