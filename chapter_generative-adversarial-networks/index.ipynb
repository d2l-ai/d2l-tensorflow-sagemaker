{
 "cells": [
  {
   "cell_type": "markdown",
   "id": "56388b62",
   "metadata": {
    "origin_pos": 0
   },
   "source": [
    "# Generative Adversarial Networks\n",
    ":label:`chap_gans`\n",
    "\n",
    ":begin_tab:toc\n",
    " - [gan](gan.ipynb)\n",
    " - [dcgan](dcgan.ipynb)\n",
    ":end_tab:\n"
   ]
  }
 ],
 "metadata": {
  "kernelspec": {
   "display_name": "conda_tensorflow_p36",
   "name": "conda_tensorflow_p36"
  },
  "language_info": {
   "name": "python"
  }
 },
 "nbformat": 4,
 "nbformat_minor": 5
}