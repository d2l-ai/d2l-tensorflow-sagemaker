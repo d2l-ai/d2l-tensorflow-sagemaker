{
 "cells": [
  {
   "cell_type": "markdown",
   "id": "23839c16",
   "metadata": {
    "origin_pos": 0
   },
   "source": [
    "# Layers and Blocks\n",
    ":label:`sec_model_construction`\n",
    "\n",
    "When we first introduced neural networks,\n",
    "we focused on linear models with a single output.\n",
    "Here, the entire model consists of just a single neuron.\n",
    "Note that a single neuron\n",
    "(i) takes some set of inputs;\n",
    "(ii) generates a corresponding scalar output;\n",
    "and (iii) has a set of associated parameters that can be updated\n",
    "to optimize some objective function of interest.\n",
    "Then, once we started thinking about networks with multiple outputs,\n",
    "we leveraged vectorized arithmetic\n",
    "to characterize an entire layer of neurons.\n",
    "Just like individual neurons,\n",
    "layers (i) take a set of inputs,\n",
    "(ii) generate corresponding outputs,\n",
    "and (iii) are described by a set of tunable parameters.\n",
    "When we worked through softmax regression,\n",
    "a single layer was itself the model.\n",
    "However, even when we subsequently\n",
    "introduced MLPs,\n",
    "we could still think of the model as\n",
    "retaining this same basic structure.\n",
    "\n",
    "Interestingly, for MLPs,\n",
    "both the entire model and its constituent layers\n",
    "share this structure.\n",
    "The entire model takes in raw inputs (the features),\n",
    "generates outputs (the predictions),\n",
    "and possesses parameters\n",
    "(the combined parameters from all constituent layers).\n",
    "Likewise, each individual layer ingests inputs\n",
    "(supplied by the previous layer)\n",
    "generates outputs (the inputs to the subsequent layer),\n",
    "and possesses a set of tunable parameters that are updated\n",
    "according to the signal that flows backwards\n",
    "from the subsequent layer.\n",
    "\n",
    "\n",
    "While you might think that neurons, layers, and models\n",
    "give us enough abstractions to go about our business,\n",
    "it turns out that we often find it convenient\n",
    "to speak about components that are\n",
    "larger than an individual layer\n",
    "but smaller than the entire model.\n",
    "For example, the ResNet-152 architecture,\n",
    "which is wildly popular in computer vision,\n",
    "possesses hundreds of layers.\n",
    "These layers consist of repeating patterns of *groups of layers*. Implementing such a network one layer at a time can grow tedious.\n",
    "This concern is not just hypothetical---such\n",
    "design patterns are common in practice.\n",
    "The ResNet architecture mentioned above\n",
    "won the 2015 ImageNet and COCO computer vision competitions\n",
    "for both recognition and detection :cite:`He.Zhang.Ren.ea.2016`\n",
    "and remains a go-to architecture for many vision tasks.\n",
    "Similar architectures in which layers are arranged\n",
    "in various repeating patterns\n",
    "are now ubiquitous in other domains,\n",
    "including natural language processing and speech.\n",
    "\n",
    "To implement these complex networks,\n",
    "we introduce the concept of a neural network *block*.\n",
    "A block could describe a single layer,\n",
    "a component consisting of multiple layers,\n",
    "or the entire model itself!\n",
    "One benefit of working with the block abstraction\n",
    "is that they can be combined into larger artifacts,\n",
    "often recursively. This is illustrated in :numref:`fig_blocks`. By defining code to generate blocks\n",
    "of arbitrary complexity on demand,\n",
    "we can write surprisingly compact code\n",
    "and still implement complex neural networks.\n",
    "\n",
    "![Multiple layers are combined into blocks, forming repeating patterns of larger models.](../img/blocks.svg)\n",
    ":label:`fig_blocks`\n",
    "\n",
    "\n",
    "From a programing standpoint, a block is represented by a *class*.\n",
    "Any subclass of it must define a forward propagation function\n",
    "that transforms its input into output\n",
    "and must store any necessary parameters.\n",
    "Note that some blocks do not require any parameters at all.\n",
    "Finally a block must possess a backpropagation function,\n",
    "for purposes of calculating gradients.\n",
    "Fortunately, due to some behind-the-scenes magic\n",
    "supplied by the auto differentiation\n",
    "(introduced in :numref:`sec_autograd`)\n",
    "when defining our own block,\n",
    "we only need to worry about parameters\n",
    "and the forward propagation function.\n",
    "\n",
    "[**To begin, we revisit the code\n",
    "that we used to implement MLPs**]\n",
    "(:numref:`sec_mlp_concise`).\n",
    "The following code generates a network\n",
    "with one fully-connected hidden layer\n",
    "with 256 units and ReLU activation,\n",
    "followed by a fully-connected output layer\n",
    "with 10 units (no activation function).\n"
   ]
  },
  {
   "cell_type": "code",
   "execution_count": 1,
   "id": "df685af6",
   "metadata": {
    "execution": {
     "iopub.execute_input": "2022-07-10T04:54:46.489059Z",
     "iopub.status.busy": "2022-07-10T04:54:46.488485Z",
     "iopub.status.idle": "2022-07-10T04:54:51.533530Z",
     "shell.execute_reply": "2022-07-10T04:54:51.532638Z"
    },
    "origin_pos": 3,
    "tab": [
     "tensorflow"
    ]
   },
   "outputs": [
    {
     "data": {
      "text/plain": [
       "<tf.Tensor: shape=(2, 10), dtype=float32, numpy=\n",
       "array([[-0.212019  ,  0.05036315,  0.3296631 , -0.01026313, -0.2568564 ,\n",
       "         0.1923783 , -0.35820788,  0.05224533,  0.04585377,  0.02698352],\n",
       "       [-0.4340528 , -0.02389404,  0.18857746,  0.03726218, -0.39760667,\n",
       "         0.15481499, -0.3552008 ,  0.22332932,  0.00310421, -0.00474989]],\n",
       "      dtype=float32)>"
      ]
     },
     "execution_count": 1,
     "metadata": {},
     "output_type": "execute_result"
    }
   ],
   "source": [
    "import tensorflow as tf\n",
    "\n",
    "net = tf.keras.models.Sequential([\n",
    "    tf.keras.layers.Dense(256, activation=tf.nn.relu),\n",
    "    tf.keras.layers.Dense(10),\n",
    "])\n",
    "\n",
    "X = tf.random.uniform((2, 20))\n",
    "net(X)"
   ]
  },
  {
   "cell_type": "markdown",
   "id": "a332a763",
   "metadata": {
    "origin_pos": 6,
    "tab": [
     "tensorflow"
    ]
   },
   "source": [
    "In this example, we constructed\n",
    "our model by instantiating an `keras.models.Sequential`, with layers in the order\n",
    "that they should be executed passed as arguments.\n",
    "In short, `Sequential` defines a special kind of `keras.Model`,\n",
    "the class that presents a block in Keras.\n",
    "It maintains an ordered list of constituent `Model`s.\n",
    "Note that each of the two fully-connected layers is an instance of the `Dense` class\n",
    "which is itself a subclass of `Model`.\n",
    "The forward propagation (`call`) function is also remarkably simple:\n",
    "it chains each block in the list together,\n",
    "passing the output of each as the input to the next.\n",
    "Note that until now, we have been invoking our models\n",
    "via the construction `net(X)` to obtain their outputs.\n",
    "This is actually just shorthand for `net.call(X)`,\n",
    "a slick Python trick achieved via\n",
    "the Block class's `__call__` function.\n"
   ]
  },
  {
   "cell_type": "markdown",
   "id": "b70fc0d5",
   "metadata": {
    "origin_pos": 7
   },
   "source": [
    "## [**A Custom Block**]\n",
    "\n",
    "Perhaps the easiest way to develop intuition\n",
    "about how a block works\n",
    "is to implement one ourselves.\n",
    "Before we implement our own custom block,\n",
    "we briefly summarize the basic functionality\n",
    "that each block must provide:\n"
   ]
  },
  {
   "cell_type": "markdown",
   "id": "24da929c",
   "metadata": {
    "origin_pos": 8,
    "tab": [
     "tensorflow"
    ]
   },
   "source": [
    "1. Ingest input data as arguments to its forward propagation function.\n",
    "1. Generate an output by having the forward propagation function return a value. Note that the output may have a different shape from the input. For example, the first fully-connected layer in our model above ingests an input of arbitrary dimension but returns an output of dimension 256.\n",
    "1. Calculate the gradient of its output with respect to its input, which can be accessed via its backpropagation function. Typically this happens automatically.\n",
    "1. Store and provide access to those parameters necessary\n",
    "   to execute the forward propagation computation.\n",
    "1. Initialize model parameters as needed.\n"
   ]
  },
  {
   "cell_type": "markdown",
   "id": "996f6c33",
   "metadata": {
    "origin_pos": 10
   },
   "source": [
    "In the following snippet,\n",
    "we code up a block from scratch\n",
    "corresponding to an MLP\n",
    "with one hidden layer with 256 hidden units,\n",
    "and a 10-dimensional output layer.\n",
    "Note that the `MLP` class below inherits the class that represents a block.\n",
    "We will heavily rely on the parent class's functions,\n",
    "supplying only our own constructor (the `__init__` function in Python) and the forward propagation function.\n"
   ]
  },
  {
   "cell_type": "code",
   "execution_count": 2,
   "id": "c010d638",
   "metadata": {
    "execution": {
     "iopub.execute_input": "2022-07-10T04:54:51.537867Z",
     "iopub.status.busy": "2022-07-10T04:54:51.537265Z",
     "iopub.status.idle": "2022-07-10T04:54:51.543929Z",
     "shell.execute_reply": "2022-07-10T04:54:51.543097Z"
    },
    "origin_pos": 13,
    "tab": [
     "tensorflow"
    ]
   },
   "outputs": [],
   "source": [
    "class MLP(tf.keras.Model):\n",
    "    # Declare a layer with model parameters. Here, we declare two fully\n",
    "    # connected layers\n",
    "    def __init__(self):\n",
    "        # Call the constructor of the `MLP` parent class `Model` to perform\n",
    "        # the necessary initialization. In this way, other function arguments\n",
    "        # can also be specified during class instantiation, such as the model\n",
    "        # parameters, `params` (to be described later)\n",
    "        super().__init__()\n",
    "        # Hidden layer\n",
    "        self.hidden = tf.keras.layers.Dense(units=256, activation=tf.nn.relu)\n",
    "        self.out = tf.keras.layers.Dense(units=10)  # Output layer\n",
    "\n",
    "    # Define the forward propagation of the model, that is, how to return the\n",
    "    # required model output based on the input `X`\n",
    "    def call(self, X):\n",
    "        return self.out(self.hidden((X)))"
   ]
  },
  {
   "cell_type": "markdown",
   "id": "0a178e26",
   "metadata": {
    "origin_pos": 14
   },
   "source": [
    "Let us first focus on the forward propagation function.\n",
    "Note that it takes `X` as the input,\n",
    "calculates the hidden representation\n",
    "with the activation function applied,\n",
    "and outputs its logits.\n",
    "In this `MLP` implementation,\n",
    "both layers are instance variables.\n",
    "To see why this is reasonable, imagine\n",
    "instantiating two MLPs, `net1` and `net2`,\n",
    "and training them on different data.\n",
    "Naturally, we would expect them\n",
    "to represent two different learned models.\n",
    "\n",
    "We [**instantiate the MLP's layers**]\n",
    "in the constructor\n",
    "(**and subsequently invoke these layers**)\n",
    "on each call to the forward propagation function.\n",
    "Note a few key details.\n",
    "First, our customized `__init__` function\n",
    "invokes the parent class's `__init__` function\n",
    "via `super().__init__()`\n",
    "sparing us the pain of restating\n",
    "boilerplate code applicable to most blocks.\n",
    "We then instantiate our two fully-connected layers,\n",
    "assigning them to `self.hidden` and `self.out`.\n",
    "Note that unless we implement a new operator,\n",
    "we need not worry about the backpropagation function\n",
    "or parameter initialization.\n",
    "The system will generate these functions automatically.\n",
    "Let us try this out.\n"
   ]
  },
  {
   "cell_type": "code",
   "execution_count": 3,
   "id": "7c14e129",
   "metadata": {
    "execution": {
     "iopub.execute_input": "2022-07-10T04:54:51.547377Z",
     "iopub.status.busy": "2022-07-10T04:54:51.546830Z",
     "iopub.status.idle": "2022-07-10T04:54:51.561968Z",
     "shell.execute_reply": "2022-07-10T04:54:51.561169Z"
    },
    "origin_pos": 17,
    "tab": [
     "tensorflow"
    ]
   },
   "outputs": [
    {
     "data": {
      "text/plain": [
       "<tf.Tensor: shape=(2, 10), dtype=float32, numpy=\n",
       "array([[ 0.10801072, -0.12109289,  0.24371535,  0.1975168 ,  0.02747584,\n",
       "        -0.17355724, -0.02875401,  0.10921614,  0.13412975, -0.08905197],\n",
       "       [-0.14106813, -0.2055859 ,  0.1931495 ,  0.16812131, -0.01665307,\n",
       "         0.0465411 , -0.20066898, -0.00371435,  0.13318177, -0.0773879 ]],\n",
       "      dtype=float32)>"
      ]
     },
     "execution_count": 3,
     "metadata": {},
     "output_type": "execute_result"
    }
   ],
   "source": [
    "net = MLP()\n",
    "net(X)"
   ]
  },
  {
   "cell_type": "markdown",
   "id": "fba628d1",
   "metadata": {
    "origin_pos": 18
   },
   "source": [
    "A key virtue of the block abstraction is its versatility.\n",
    "We can subclass a block to create layers\n",
    "(such as the fully-connected layer class),\n",
    "entire models (such as the `MLP` class above),\n",
    "or various components of intermediate complexity.\n",
    "We exploit this versatility\n",
    "throughout the following chapters,\n",
    "such as when addressing\n",
    "convolutional neural networks.\n",
    "\n",
    "\n",
    "## [**The Sequential Block**]\n",
    "\n",
    "We can now take a closer look\n",
    "at how the `Sequential` class works.\n",
    "Recall that `Sequential` was designed\n",
    "to daisy-chain other blocks together.\n",
    "To build our own simplified `MySequential`,\n",
    "we just need to define two key function:\n",
    "1. A function to append blocks one by one to a list.\n",
    "2. A forward propagation function to pass an input through the chain of blocks, in the same order as they were appended.\n",
    "\n",
    "The following `MySequential` class delivers the same\n",
    "functionality of the default `Sequential` class.\n"
   ]
  },
  {
   "cell_type": "code",
   "execution_count": 4,
   "id": "70c24a00",
   "metadata": {
    "execution": {
     "iopub.execute_input": "2022-07-10T04:54:51.565292Z",
     "iopub.status.busy": "2022-07-10T04:54:51.564855Z",
     "iopub.status.idle": "2022-07-10T04:54:51.570020Z",
     "shell.execute_reply": "2022-07-10T04:54:51.569212Z"
    },
    "origin_pos": 21,
    "tab": [
     "tensorflow"
    ]
   },
   "outputs": [],
   "source": [
    "class MySequential(tf.keras.Model):\n",
    "    def __init__(self, *args):\n",
    "        super().__init__()\n",
    "        self.modules = []\n",
    "        for block in args:\n",
    "            # Here, `block` is an instance of a `tf.keras.layers.Layer`\n",
    "            # subclass\n",
    "            self.modules.append(block)\n",
    "\n",
    "    def call(self, X):\n",
    "        for module in self.modules:\n",
    "            X = module(X)\n",
    "        return X"
   ]
  },
  {
   "cell_type": "markdown",
   "id": "353327f2",
   "metadata": {
    "origin_pos": 24
   },
   "source": [
    "When our `MySequential`'s forward propagation function is invoked,\n",
    "each added block is executed\n",
    "in the order in which they were added.\n",
    "We can now reimplement an MLP\n",
    "using our `MySequential` class.\n"
   ]
  },
  {
   "cell_type": "code",
   "execution_count": 5,
   "id": "7b7b32c3",
   "metadata": {
    "execution": {
     "iopub.execute_input": "2022-07-10T04:54:51.573428Z",
     "iopub.status.busy": "2022-07-10T04:54:51.572996Z",
     "iopub.status.idle": "2022-07-10T04:54:51.588549Z",
     "shell.execute_reply": "2022-07-10T04:54:51.587737Z"
    },
    "origin_pos": 27,
    "tab": [
     "tensorflow"
    ]
   },
   "outputs": [
    {
     "data": {
      "text/plain": [
       "<tf.Tensor: shape=(2, 10), dtype=float32, numpy=\n",
       "array([[ 0.02118664, -0.01845799,  0.16829419,  0.09491868,  0.01683624,\n",
       "         0.21106523,  0.15889527, -0.04018323,  0.0346348 , -0.23105738],\n",
       "       [ 0.00323919, -0.11484583,  0.4420174 ,  0.07158233, -0.01657554,\n",
       "         0.16976178,  0.35424477,  0.08208234, -0.02737918, -0.20284446]],\n",
       "      dtype=float32)>"
      ]
     },
     "execution_count": 5,
     "metadata": {},
     "output_type": "execute_result"
    }
   ],
   "source": [
    "net = MySequential(\n",
    "    tf.keras.layers.Dense(units=256, activation=tf.nn.relu),\n",
    "    tf.keras.layers.Dense(10))\n",
    "net(X)"
   ]
  },
  {
   "cell_type": "markdown",
   "id": "587dcb94",
   "metadata": {
    "origin_pos": 28
   },
   "source": [
    "Note that this use of `MySequential`\n",
    "is identical to the code we previously wrote\n",
    "for the `Sequential` class\n",
    "(as described in :numref:`sec_mlp_concise`).\n",
    "\n",
    "\n",
    "## [**Executing Code in the Forward Propagation Function**]\n",
    "\n",
    "The `Sequential` class makes model construction easy,\n",
    "allowing us to assemble new architectures\n",
    "without having to define our own class.\n",
    "However, not all architectures are simple daisy chains.\n",
    "When greater flexibility is required,\n",
    "we will want to define our own blocks.\n",
    "For example, we might want to execute\n",
    "Python's control flow within the forward propagation function.\n",
    "Moreover, we might want to perform\n",
    "arbitrary mathematical operations,\n",
    "not simply relying on predefined neural network layers.\n",
    "\n",
    "You might have noticed that until now,\n",
    "all of the operations in our networks\n",
    "have acted upon our network's activations\n",
    "and its parameters.\n",
    "Sometimes, however, we might want to\n",
    "incorporate terms\n",
    "that are neither the result of previous layers\n",
    "nor updatable parameters.\n",
    "We call these *constant parameters*.\n",
    "Say for example that we want a layer\n",
    "that calculates the function\n",
    "$f(\\mathbf{x},\\mathbf{w}) = c \\cdot \\mathbf{w}^\\top \\mathbf{x}$,\n",
    "where $\\mathbf{x}$ is the input, $\\mathbf{w}$ is our parameter,\n",
    "and $c$ is some specified constant\n",
    "that is not updated during optimization.\n",
    "So we implement a `FixedHiddenMLP` class as follows.\n"
   ]
  },
  {
   "cell_type": "code",
   "execution_count": 6,
   "id": "457d8503",
   "metadata": {
    "execution": {
     "iopub.execute_input": "2022-07-10T04:54:51.591913Z",
     "iopub.status.busy": "2022-07-10T04:54:51.591466Z",
     "iopub.status.idle": "2022-07-10T04:54:51.597910Z",
     "shell.execute_reply": "2022-07-10T04:54:51.597094Z"
    },
    "origin_pos": 31,
    "tab": [
     "tensorflow"
    ]
   },
   "outputs": [],
   "source": [
    "class FixedHiddenMLP(tf.keras.Model):\n",
    "    def __init__(self):\n",
    "        super().__init__()\n",
    "        self.flatten = tf.keras.layers.Flatten()\n",
    "        # Random weight parameters created with `tf.constant` are not updated\n",
    "        # during training (i.e., constant parameters)\n",
    "        self.rand_weight = tf.constant(tf.random.uniform((20, 20)))\n",
    "        self.dense = tf.keras.layers.Dense(20, activation=tf.nn.relu)\n",
    "\n",
    "    def call(self, inputs):\n",
    "        X = self.flatten(inputs)\n",
    "        # Use the created constant parameters, as well as the `relu` and\n",
    "        # `matmul` functions\n",
    "        X = tf.nn.relu(tf.matmul(X, self.rand_weight) + 1)\n",
    "        # Reuse the fully-connected layer. This is equivalent to sharing\n",
    "        # parameters with two fully-connected layers\n",
    "        X = self.dense(X)\n",
    "        # Control flow\n",
    "        while tf.reduce_sum(tf.math.abs(X)) > 1:\n",
    "            X /= 2\n",
    "        return tf.reduce_sum(X)"
   ]
  },
  {
   "cell_type": "markdown",
   "id": "2dc327ce",
   "metadata": {
    "origin_pos": 32
   },
   "source": [
    "In this `FixedHiddenMLP` model,\n",
    "we implement a hidden layer whose weights\n",
    "(`self.rand_weight`) are initialized randomly\n",
    "at instantiation and are thereafter constant.\n",
    "This weight is not a model parameter\n",
    "and thus it is never updated by backpropagation.\n",
    "The network then passes the output of this \"fixed\" layer\n",
    "through a fully-connected layer.\n",
    "\n",
    "Note that before returning the output,\n",
    "our model did something unusual.\n",
    "We ran a while-loop, testing\n",
    "on the condition its $L_1$ norm is larger than $1$,\n",
    "and dividing our output vector by $2$\n",
    "until it satisfied the condition.\n",
    "Finally, we returned the sum of the entries in `X`.\n",
    "To our knowledge, no standard neural network\n",
    "performs this operation.\n",
    "Note that this particular operation may not be useful\n",
    "in any real-world task.\n",
    "Our point is only to show you how to integrate\n",
    "arbitrary code into the flow of your\n",
    "neural network computations.\n"
   ]
  },
  {
   "cell_type": "code",
   "execution_count": 7,
   "id": "2b9928ec",
   "metadata": {
    "execution": {
     "iopub.execute_input": "2022-07-10T04:54:51.601149Z",
     "iopub.status.busy": "2022-07-10T04:54:51.600719Z",
     "iopub.status.idle": "2022-07-10T04:54:51.616588Z",
     "shell.execute_reply": "2022-07-10T04:54:51.615775Z"
    },
    "origin_pos": 34,
    "tab": [
     "tensorflow"
    ]
   },
   "outputs": [
    {
     "data": {
      "text/plain": [
       "<tf.Tensor: shape=(), dtype=float32, numpy=0.7291361>"
      ]
     },
     "execution_count": 7,
     "metadata": {},
     "output_type": "execute_result"
    }
   ],
   "source": [
    "net = FixedHiddenMLP()\n",
    "net(X)"
   ]
  },
  {
   "cell_type": "markdown",
   "id": "4231b03a",
   "metadata": {
    "origin_pos": 35
   },
   "source": [
    "We can [**mix and match various\n",
    "ways of assembling blocks together.**]\n",
    "In the following example, we nest blocks\n",
    "in some creative ways.\n"
   ]
  },
  {
   "cell_type": "code",
   "execution_count": 8,
   "id": "8677e085",
   "metadata": {
    "execution": {
     "iopub.execute_input": "2022-07-10T04:54:51.619930Z",
     "iopub.status.busy": "2022-07-10T04:54:51.619500Z",
     "iopub.status.idle": "2022-07-10T04:54:51.810833Z",
     "shell.execute_reply": "2022-07-10T04:54:51.809976Z"
    },
    "origin_pos": 38,
    "tab": [
     "tensorflow"
    ]
   },
   "outputs": [
    {
     "data": {
      "text/plain": [
       "<tf.Tensor: shape=(), dtype=float32, numpy=0.89352053>"
      ]
     },
     "execution_count": 8,
     "metadata": {},
     "output_type": "execute_result"
    }
   ],
   "source": [
    "class NestMLP(tf.keras.Model):\n",
    "    def __init__(self):\n",
    "        super().__init__()\n",
    "        self.net = tf.keras.Sequential()\n",
    "        self.net.add(tf.keras.layers.Dense(64, activation=tf.nn.relu))\n",
    "        self.net.add(tf.keras.layers.Dense(32, activation=tf.nn.relu))\n",
    "        self.dense = tf.keras.layers.Dense(16, activation=tf.nn.relu)\n",
    "\n",
    "    def call(self, inputs):\n",
    "        return self.dense(self.net(inputs))\n",
    "\n",
    "chimera = tf.keras.Sequential()\n",
    "chimera.add(NestMLP())\n",
    "chimera.add(tf.keras.layers.Dense(20))\n",
    "chimera.add(FixedHiddenMLP())\n",
    "chimera(X)"
   ]
  },
  {
   "cell_type": "markdown",
   "id": "42a83d65",
   "metadata": {
    "origin_pos": 39
   },
   "source": [
    "## Efficiency\n"
   ]
  },
  {
   "cell_type": "markdown",
   "id": "edc1aeb4",
   "metadata": {
    "origin_pos": 42,
    "tab": [
     "tensorflow"
    ]
   },
   "source": [
    "The avid reader might start to worry\n",
    "about the efficiency of some of these operations.\n",
    "After all, we have lots of dictionary lookups,\n",
    "code execution, and lots of other Pythonic things\n",
    "taking place in what is supposed to be\n",
    "a high-performance deep learning library.\n",
    "The problems of Python's [global interpreter lock](https://wiki.python.org/moin/GlobalInterpreterLock) are well known. \n",
    "In the context of deep learning,\n",
    "we may worry that our extremely fast GPU(s)\n",
    "might have to wait until a puny CPU\n",
    "runs Python code before it gets another job to run.\n",
    "The best way to speed up Python is by avoiding it altogether.\n"
   ]
  },
  {
   "cell_type": "markdown",
   "id": "c4fce467",
   "metadata": {
    "origin_pos": 43
   },
   "source": [
    "## Summary\n",
    "\n",
    "* Layers are blocks.\n",
    "* Many layers can comprise a block.\n",
    "* Many blocks can comprise a block.\n",
    "* A block can contain code.\n",
    "* Blocks take care of lots of housekeeping, including parameter initialization and backpropagation.\n",
    "* Sequential concatenations of layers and blocks are handled by the `Sequential` block.\n",
    "\n",
    "\n",
    "## Exercises\n",
    "\n",
    "1. What kinds of problems will occur if you change `MySequential` to store blocks in a Python list?\n",
    "1. Implement a block that takes two blocks as an argument, say `net1` and `net2` and returns the concatenated output of both networks in the forward propagation. This is also called a parallel block.\n",
    "1. Assume that you want to concatenate multiple instances of the same network. Implement a factory function that generates multiple instances of the same block and build a larger network from it.\n"
   ]
  },
  {
   "cell_type": "markdown",
   "id": "f8e32fe5",
   "metadata": {
    "origin_pos": 46,
    "tab": [
     "tensorflow"
    ]
   },
   "source": [
    "[Discussions](https://discuss.d2l.ai/t/264)\n"
   ]
  }
 ],
 "metadata": {
  "kernelspec": {
   "display_name": "conda_tensorflow_p36",
   "name": "conda_tensorflow_p36"
  },
  "language_info": {
   "name": "python"
  }
 },
 "nbformat": 4,
 "nbformat_minor": 5
}