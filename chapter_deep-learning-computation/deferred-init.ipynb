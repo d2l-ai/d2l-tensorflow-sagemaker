{
 "cells": [
  {
   "cell_type": "markdown",
   "metadata": {
    "origin_pos": 0
   },
   "source": [
    "# Deferred Initialization\n",
    ":label:`sec_deferred_init`\n",
    "\n",
    "Até agora, pode parecer que escapamos\n",
    "por ser descuidados na configuração de nossas redes.\n",
    "Especificamente, fizemos as seguintes coisas não intuitivas,\n",
    "que podem não parecer que deveriam funcionar:\n",
    "\n",
    "* Definimos as arquiteturas de rede\n",
    "   sem especificar a dimensionalidade de entrada.\n",
    "* Adicionamos camadas sem especificar\n",
    "   a dimensão de saída da camada anterior.\n",
    "* Nós até \"inicializamos\" esses parâmetros\n",
    "   antes de fornecer informações suficientes para determinar\n",
    "   quantos parâmetros nossos modelos devem conter.\n",
    "\n",
    "Você pode se surpreender com o fato de nosso código ser executado.\n",
    "Afinal, não há como o *framework* de *Deep Learning*\n",
    "poderia dizer qual seria a dimensionalidade de entrada de uma rede.\n",
    "O truque aqui é que o *framework* adia a inicialização,\n",
    "esperando até a primeira vez que passamos os dados pelo modelo,\n",
    "para inferir os tamanhos de cada camada na hora.\n",
    "\n",
    "Mais tarde, ao trabalhar com redes neurais convolucionais,\n",
    "esta técnica se tornará ainda mais conveniente\n",
    "desde a dimensionalidade de entrada\n",
    "(ou seja, a resolução de uma imagem)\n",
    "afetará a dimensionalidade\n",
    "de cada camada subsequente.\n",
    "Consequentemente, a capacidade de definir parâmetros\n",
    "sem a necessidade de saber,\n",
    "no momento de escrever o código,\n",
    "qual é a dimensionalidade\n",
    "pode simplificar muito a tarefa de especificar\n",
    "e subsequentemente modificando nossos modelos.\n",
    "A seguir, vamos nos aprofundar na mecânica da inicialização.\n",
    "\n",
    "\n",
    "## Instanciando a Rede\n",
    "\n",
    "Para começar, vamos instanciar um MLP.\n"
   ]
  },
  {
   "cell_type": "code",
   "execution_count": 1,
   "metadata": {
    "origin_pos": 2,
    "tab": [
     "tensorflow"
    ]
   },
   "outputs": [],
   "source": [
    "import tensorflow as tf\n",
    "\n",
    "net = tf.keras.models.Sequential([\n",
    "    tf.keras.layers.Dense(256, activation=tf.nn.relu),\n",
    "    tf.keras.layers.Dense(10),\n",
    "])"
   ]
  },
  {
   "cell_type": "markdown",
   "metadata": {
    "origin_pos": 3
   },
   "source": [
    "Neste ponto, a rede não pode saber\n",
    "as dimensões dos pesos da camada de entrada\n",
    "porque a dimensão de entrada permanece desconhecida.\n",
    "Consequentemente, a estrutura ainda não inicializou nenhum parâmetro.\n",
    "Confirmamos tentando acessar os parâmetros abaixo.\n"
   ]
  },
  {
   "cell_type": "code",
   "execution_count": 2,
   "metadata": {
    "origin_pos": 5,
    "tab": [
     "tensorflow"
    ]
   },
   "outputs": [
    {
     "data": {
      "text/plain": [
       "[[], []]"
      ]
     },
     "execution_count": 2,
     "metadata": {},
     "output_type": "execute_result"
    }
   ],
   "source": [
    "[net.layers[i].get_weights() for i in range(len(net.layers))]"
   ]
  },
  {
   "cell_type": "markdown",
   "metadata": {
    "origin_pos": 7,
    "tab": [
     "tensorflow"
    ]
   },
   "source": [
    "Observe que cada objeto de camada existe, mas os pesos estão vazios.\n",
    "Usar `net.get_weights()` geraria um erro, uma vez que os pesos\n",
    "ainda não foram inicializados.\n"
   ]
  },
  {
   "cell_type": "markdown",
   "metadata": {
    "origin_pos": 10
   },
   "source": [
    "Em seguida, vamos passar os dados pela rede\n",
    "para fazer o *framework* finalmente inicializar os parâmetros.\n"
   ]
  },
  {
   "cell_type": "code",
   "execution_count": 3,
   "metadata": {
    "origin_pos": 12,
    "tab": [
     "tensorflow"
    ]
   },
   "outputs": [
    {
     "data": {
      "text/plain": [
       "[(20, 256), (256,), (256, 10), (10,)]"
      ]
     },
     "execution_count": 3,
     "metadata": {},
     "output_type": "execute_result"
    }
   ],
   "source": [
    "X = tf.random.uniform((2, 20))\n",
    "net(X)\n",
    "[w.shape for w in net.get_weights()]"
   ]
  },
  {
   "cell_type": "markdown",
   "metadata": {
    "origin_pos": 13
   },
   "source": [
    "Assim que sabemos a dimensionalidade da entrada,\n",
    "20,\n",
    "a estrutura pode identificar a forma da matriz de peso da primeira camada conectando o valor de 20.\n",
    "Tendo reconhecido a forma da primeira camada, a estrutura prossegue\n",
    "para a segunda camada,\n",
    "e assim por diante através do grafo computacional\n",
    "até que todas as formas sejam conhecidas.\n",
    "Observe que, neste caso,\n",
    "apenas a primeira camada requer inicialização adiada,\n",
    "mas a estrutura inicializa sequencialmente.\n",
    "Uma vez que todas as formas dos parâmetros são conhecidas,\n",
    "a estrutura pode finalmente inicializar os parâmetros.\n",
    "\n",
    "## Sumário\n",
    "\n",
    "* A inicialização adiada pode ser conveniente, permitindo ao *framework* inferir formas de parâmetros automaticamente, facilitando a modificação de arquiteturas e eliminando uma fonte comum de erros.\n",
    "* Podemos passar dados através do modelo para fazer o *framework* finalmente inicializar os parâmetros.\n",
    "\n",
    "\n",
    "## Exercícios\n",
    "\n",
    "1. O que acontece se você especificar as dimensões de entrada para a primeira camada, mas não para as camadas subsequentes? Você consegue inicialização imediata?\n",
    "1. O que acontece se você especificar dimensões incompatíveis?\n",
    "1. O que você precisa fazer se tiver dados de dimensionalidade variável? Dica: observe a vinculação de parâmetros.\n"
   ]
  },
  {
   "cell_type": "markdown",
   "metadata": {
    "origin_pos": 15,
    "tab": [
     "tensorflow"
    ]
   },
   "source": [
    "[Discussão](https://discuss.d2l.ai/t/281)\n"
   ]
  },
  {
   "cell_type": "markdown",
   "metadata": {
    "origin_pos": 16
   },
   "source": [
    "<!--stackedit_data:\n",
    "eyJoaXN0b3J5IjpbNzExNDA4MzAxLC0zODc0Mjc4NTEsNjQ1Nz\n",
    "g1NDQyLDExMzU1ODY3NzRdfQ==\n",
    "-->\n"
   ]
  }
 ],
 "metadata": {
  "kernelspec": {
   "display_name": "conda_tensorflow_p36",
   "name": "conda_tensorflow_p36"
  },
  "language_info": {
   "name": "python"
  }
 },
 "nbformat": 4,
 "nbformat_minor": 4
}