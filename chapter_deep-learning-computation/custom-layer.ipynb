{
 "cells": [
  {
   "cell_type": "markdown",
   "id": "13849305",
   "metadata": {
    "origin_pos": 0
   },
   "source": [
    "# Custom Layers\n",
    "\n",
    "One factor behind deep learning's success\n",
    "is the availability of a wide range of layers\n",
    "that can be composed in creative ways\n",
    "to design architectures suitable\n",
    "for a wide variety of tasks.\n",
    "For instance, researchers have invented layers\n",
    "specifically for handling images, text,\n",
    "looping over sequential data,\n",
    "and\n",
    "performing dynamic programming.\n",
    "Sooner or later, you will encounter or invent\n",
    "a layer that does not exist yet in the deep learning framework.\n",
    "In these cases, you must build a custom layer.\n",
    "In this section, we show you how.\n",
    "\n",
    "## (**Layers without Parameters**)\n",
    "\n",
    "To start, we construct a custom layer\n",
    "that does not have any parameters of its own.\n",
    "This should look familiar if you recall our\n",
    "introduction to block in :numref:`sec_model_construction`.\n",
    "The following `CenteredLayer` class simply\n",
    "subtracts the mean from its input.\n",
    "To build it, we simply need to inherit\n",
    "from the base layer class and implement the forward propagation function.\n"
   ]
  },
  {
   "cell_type": "code",
   "execution_count": 1,
   "id": "f06ca144",
   "metadata": {
    "execution": {
     "iopub.execute_input": "2022-07-10T04:55:24.477141Z",
     "iopub.status.busy": "2022-07-10T04:55:24.476453Z",
     "iopub.status.idle": "2022-07-10T04:55:26.514386Z",
     "shell.execute_reply": "2022-07-10T04:55:26.513453Z"
    },
    "origin_pos": 3,
    "tab": [
     "tensorflow"
    ]
   },
   "outputs": [],
   "source": [
    "import tensorflow as tf\n",
    "\n",
    "\n",
    "class CenteredLayer(tf.keras.Model):\n",
    "    def __init__(self):\n",
    "        super().__init__()\n",
    "\n",
    "    def call(self, inputs):\n",
    "        return inputs - tf.reduce_mean(inputs)"
   ]
  },
  {
   "cell_type": "markdown",
   "id": "72610069",
   "metadata": {
    "origin_pos": 4
   },
   "source": [
    "Let us verify that our layer works as intended by feeding some data through it.\n"
   ]
  },
  {
   "cell_type": "code",
   "execution_count": 2,
   "id": "22980e95",
   "metadata": {
    "execution": {
     "iopub.execute_input": "2022-07-10T04:55:26.518580Z",
     "iopub.status.busy": "2022-07-10T04:55:26.517979Z",
     "iopub.status.idle": "2022-07-10T04:55:27.761076Z",
     "shell.execute_reply": "2022-07-10T04:55:27.760250Z"
    },
    "origin_pos": 7,
    "tab": [
     "tensorflow"
    ]
   },
   "outputs": [
    {
     "data": {
      "text/plain": [
       "<tf.Tensor: shape=(5,), dtype=int32, numpy=array([-2, -1,  0,  1,  2], dtype=int32)>"
      ]
     },
     "execution_count": 2,
     "metadata": {},
     "output_type": "execute_result"
    }
   ],
   "source": [
    "layer = CenteredLayer()\n",
    "layer(tf.constant([1, 2, 3, 4, 5]))"
   ]
  },
  {
   "cell_type": "markdown",
   "id": "524f9acd",
   "metadata": {
    "origin_pos": 8
   },
   "source": [
    "We can now [**incorporate our layer as a component\n",
    "in constructing more complex models.**]\n"
   ]
  },
  {
   "cell_type": "code",
   "execution_count": 3,
   "id": "410b450b",
   "metadata": {
    "execution": {
     "iopub.execute_input": "2022-07-10T04:55:27.764859Z",
     "iopub.status.busy": "2022-07-10T04:55:27.764381Z",
     "iopub.status.idle": "2022-07-10T04:55:27.776034Z",
     "shell.execute_reply": "2022-07-10T04:55:27.775249Z"
    },
    "origin_pos": 11,
    "tab": [
     "tensorflow"
    ]
   },
   "outputs": [],
   "source": [
    "net = tf.keras.Sequential([tf.keras.layers.Dense(128), CenteredLayer()])"
   ]
  },
  {
   "cell_type": "markdown",
   "id": "61d3b933",
   "metadata": {
    "origin_pos": 12
   },
   "source": [
    "As an extra sanity check, we can send random data\n",
    "through the network and check that the mean is in fact 0.\n",
    "Because we are dealing with floating point numbers,\n",
    "we may still see a very small nonzero number\n",
    "due to quantization.\n"
   ]
  },
  {
   "cell_type": "code",
   "execution_count": 4,
   "id": "e47aa78c",
   "metadata": {
    "execution": {
     "iopub.execute_input": "2022-07-10T04:55:27.779560Z",
     "iopub.status.busy": "2022-07-10T04:55:27.779132Z",
     "iopub.status.idle": "2022-07-10T04:55:27.846603Z",
     "shell.execute_reply": "2022-07-10T04:55:27.845767Z"
    },
    "origin_pos": 15,
    "tab": [
     "tensorflow"
    ]
   },
   "outputs": [
    {
     "data": {
      "text/plain": [
       "<tf.Tensor: shape=(), dtype=float32, numpy=-4.8894435e-09>"
      ]
     },
     "execution_count": 4,
     "metadata": {},
     "output_type": "execute_result"
    }
   ],
   "source": [
    "Y = net(tf.random.uniform((4, 8)))\n",
    "tf.reduce_mean(Y)"
   ]
  },
  {
   "cell_type": "markdown",
   "id": "7dfd8ed4",
   "metadata": {
    "origin_pos": 16
   },
   "source": [
    "## [**Layers with Parameters**]\n",
    "\n",
    "Now that we know how to define simple layers,\n",
    "let us move on to defining layers with parameters\n",
    "that can be adjusted through training.\n",
    "We can use built-in functions to create parameters, which\n",
    "provide some basic housekeeping functionality.\n",
    "In particular, they govern access, initialization,\n",
    "sharing, saving, and loading model parameters.\n",
    "This way, among other benefits, we will not need to write\n",
    "custom serialization routines for every custom layer.\n",
    "\n",
    "Now let us implement our own version of the  fully-connected layer.\n",
    "Recall that this layer requires two parameters,\n",
    "one to represent the weight and the other for the bias.\n",
    "In this implementation, we bake in the ReLU activation as a default.\n",
    "This layer requires to input arguments: `in_units` and `units`, which\n",
    "denote the number of inputs and outputs, respectively.\n"
   ]
  },
  {
   "cell_type": "code",
   "execution_count": 5,
   "id": "78aec3e6",
   "metadata": {
    "execution": {
     "iopub.execute_input": "2022-07-10T04:55:27.850120Z",
     "iopub.status.busy": "2022-07-10T04:55:27.849597Z",
     "iopub.status.idle": "2022-07-10T04:55:27.855499Z",
     "shell.execute_reply": "2022-07-10T04:55:27.854603Z"
    },
    "origin_pos": 19,
    "tab": [
     "tensorflow"
    ]
   },
   "outputs": [],
   "source": [
    "class MyDense(tf.keras.Model):\n",
    "    def __init__(self, units):\n",
    "        super().__init__()\n",
    "        self.units = units\n",
    "\n",
    "    def build(self, X_shape):\n",
    "        self.weight = self.add_weight(name='weight',\n",
    "            shape=[X_shape[-1], self.units],\n",
    "            initializer=tf.random_normal_initializer())\n",
    "        self.bias = self.add_weight(\n",
    "            name='bias', shape=[self.units],\n",
    "            initializer=tf.zeros_initializer())\n",
    "\n",
    "    def call(self, X):\n",
    "        linear = tf.matmul(X, self.weight) + self.bias\n",
    "        return tf.nn.relu(linear)"
   ]
  },
  {
   "cell_type": "markdown",
   "id": "cd73d562",
   "metadata": {
    "origin_pos": 20,
    "tab": [
     "tensorflow"
    ]
   },
   "source": [
    "Next, we instantiate the `MyDense` class\n",
    "and access its model parameters.\n"
   ]
  },
  {
   "cell_type": "code",
   "execution_count": 6,
   "id": "4de171b8",
   "metadata": {
    "execution": {
     "iopub.execute_input": "2022-07-10T04:55:27.858885Z",
     "iopub.status.busy": "2022-07-10T04:55:27.858451Z",
     "iopub.status.idle": "2022-07-10T04:55:27.869630Z",
     "shell.execute_reply": "2022-07-10T04:55:27.868855Z"
    },
    "origin_pos": 24,
    "tab": [
     "tensorflow"
    ]
   },
   "outputs": [
    {
     "data": {
      "text/plain": [
       "[array([[ 0.03830285, -0.0510597 , -0.00761831],\n",
       "        [ 0.08041742, -0.05072642, -0.03072762],\n",
       "        [ 0.06506674, -0.03197854,  0.06104119],\n",
       "        [ 0.0069612 ,  0.02540318, -0.03331055],\n",
       "        [ 0.04737889, -0.0113701 , -0.07752097]], dtype=float32),\n",
       " array([0., 0., 0.], dtype=float32)]"
      ]
     },
     "execution_count": 6,
     "metadata": {},
     "output_type": "execute_result"
    }
   ],
   "source": [
    "dense = MyDense(3)\n",
    "dense(tf.random.uniform((2, 5)))\n",
    "dense.get_weights()"
   ]
  },
  {
   "cell_type": "markdown",
   "id": "804bc8b2",
   "metadata": {
    "origin_pos": 25
   },
   "source": [
    "We can [**directly carry out forward propagation calculations using custom layers.**]\n"
   ]
  },
  {
   "cell_type": "code",
   "execution_count": 7,
   "id": "60507f10",
   "metadata": {
    "execution": {
     "iopub.execute_input": "2022-07-10T04:55:27.872899Z",
     "iopub.status.busy": "2022-07-10T04:55:27.872471Z",
     "iopub.status.idle": "2022-07-10T04:55:27.878941Z",
     "shell.execute_reply": "2022-07-10T04:55:27.878188Z"
    },
    "origin_pos": 28,
    "tab": [
     "tensorflow"
    ]
   },
   "outputs": [
    {
     "data": {
      "text/plain": [
       "<tf.Tensor: shape=(2, 3), dtype=float32, numpy=\n",
       "array([[0.13378525, 0.        , 0.        ],\n",
       "       [0.08010384, 0.        , 0.03576082]], dtype=float32)>"
      ]
     },
     "execution_count": 7,
     "metadata": {},
     "output_type": "execute_result"
    }
   ],
   "source": [
    "dense(tf.random.uniform((2, 5)))"
   ]
  },
  {
   "cell_type": "markdown",
   "id": "17fd64d5",
   "metadata": {
    "origin_pos": 29
   },
   "source": [
    "We can also (**construct models using custom layers.**)\n",
    "Once we have that we can use it just like the built-in fully-connected layer.\n"
   ]
  },
  {
   "cell_type": "code",
   "execution_count": 8,
   "id": "1e34b7e0",
   "metadata": {
    "execution": {
     "iopub.execute_input": "2022-07-10T04:55:27.882145Z",
     "iopub.status.busy": "2022-07-10T04:55:27.881726Z",
     "iopub.status.idle": "2022-07-10T04:55:27.938163Z",
     "shell.execute_reply": "2022-07-10T04:55:27.937356Z"
    },
    "origin_pos": 32,
    "tab": [
     "tensorflow"
    ]
   },
   "outputs": [
    {
     "data": {
      "text/plain": [
       "<tf.Tensor: shape=(2, 1), dtype=float32, numpy=\n",
       "array([[0.        ],\n",
       "       [0.00369118]], dtype=float32)>"
      ]
     },
     "execution_count": 8,
     "metadata": {},
     "output_type": "execute_result"
    }
   ],
   "source": [
    "net = tf.keras.models.Sequential([MyDense(8), MyDense(1)])\n",
    "net(tf.random.uniform((2, 64)))"
   ]
  },
  {
   "cell_type": "markdown",
   "id": "71f49310",
   "metadata": {
    "origin_pos": 33
   },
   "source": [
    "## Summary\n",
    "\n",
    "* We can design custom layers via the basic layer class. This allows us to define flexible new layers that behave differently from any existing layers in the library.\n",
    "* Once defined, custom layers can be invoked in arbitrary contexts and architectures.\n",
    "* Layers can have local parameters, which can be created through built-in functions.\n",
    "\n",
    "\n",
    "## Exercises\n",
    "\n",
    "1. Design a layer that takes an input and computes a tensor reduction,\n",
    "   i.e., it returns $y_k = \\sum_{i, j} W_{ijk} x_i x_j$.\n",
    "1. Design a layer that returns the leading half of the Fourier coefficients of the data.\n"
   ]
  },
  {
   "cell_type": "markdown",
   "id": "20f89c3b",
   "metadata": {
    "origin_pos": 36,
    "tab": [
     "tensorflow"
    ]
   },
   "source": [
    "[Discussions](https://discuss.d2l.ai/t/279)\n"
   ]
  }
 ],
 "metadata": {
  "kernelspec": {
   "display_name": "conda_tensorflow_p36",
   "name": "conda_tensorflow_p36"
  },
  "language_info": {
   "name": "python"
  }
 },
 "nbformat": 4,
 "nbformat_minor": 5
}