{
 "cells": [
  {
   "cell_type": "markdown",
   "metadata": {
    "origin_pos": 0
   },
   "source": [
    "# Camadas Personalizadas\n",
    "\n",
    "Um fator por trás do sucesso do *Deep Learning*\n",
    "é a disponibilidade de uma ampla gama de camadas\n",
    "que pode ser composto de maneiras criativas\n",
    "projetar arquiteturas adequadas\n",
    "para uma ampla variedade de tarefas.\n",
    "Por exemplo, os pesquisadores inventaram camadas\n",
    "especificamente para lidar com imagens, texto,\n",
    "loop sobre dados sequenciais,\n",
    "e\n",
    "realizando programação dinâmica.\n",
    "Mais cedo ou mais tarde, você encontrará ou inventará\n",
    "uma camada que ainda não existe na estrutura de *Deep Learning*.\n",
    "Nesses casos, você deve construir uma camada personalizada.\n",
    "Nesta seção, mostramos como.\n",
    "\n",
    "## Camadas Sem Parâmetros\n",
    "\n",
    "Para começar, construímos uma camada personalizada\n",
    "que não possui parâmetros próprios.\n",
    "Isso deve parecer familiar, se você se lembra de nosso\n",
    "introdução ao bloco em :numref:`sec_model_construction`.\n",
    "A seguinte classe `CenteredLayer` simplesmente\n",
    "subtrai a média de sua entrada.\n",
    "Para construí-lo, simplesmente precisamos herdar\n",
    "da classe da camada base e implementar a função de propagação direta.\n"
   ]
  },
  {
   "cell_type": "code",
   "execution_count": 1,
   "metadata": {
    "origin_pos": 3,
    "tab": [
     "tensorflow"
    ]
   },
   "outputs": [],
   "source": [
    "import tensorflow as tf\n",
    "\n",
    "\n",
    "class CenteredLayer(tf.keras.Model):\n",
    "    def __init__(self):\n",
    "        super().__init__()\n",
    "\n",
    "    def call(self, inputs):\n",
    "        return inputs - tf.reduce_mean(inputs)"
   ]
  },
  {
   "cell_type": "markdown",
   "metadata": {
    "origin_pos": 4
   },
   "source": [
    "Vamos verificar se nossa camada funciona conforme o esperado, alimentando alguns dados por meio dela.\n"
   ]
  },
  {
   "cell_type": "code",
   "execution_count": 2,
   "metadata": {
    "origin_pos": 7,
    "tab": [
     "tensorflow"
    ]
   },
   "outputs": [
    {
     "data": {
      "text/plain": [
       "<tf.Tensor: shape=(5,), dtype=int32, numpy=array([-2, -1,  0,  1,  2], dtype=int32)>"
      ]
     },
     "execution_count": 2,
     "metadata": {},
     "output_type": "execute_result"
    }
   ],
   "source": [
    "layer = CenteredLayer()\n",
    "layer(tf.constant([1, 2, 3, 4, 5]))"
   ]
  },
  {
   "cell_type": "markdown",
   "metadata": {
    "origin_pos": 8
   },
   "source": [
    "Agora podemos incorporar nossa camada como um componente\n",
    "na construção de modelos mais complexos.\n"
   ]
  },
  {
   "cell_type": "code",
   "execution_count": 3,
   "metadata": {
    "origin_pos": 11,
    "tab": [
     "tensorflow"
    ]
   },
   "outputs": [],
   "source": [
    "net = tf.keras.Sequential([tf.keras.layers.Dense(128), CenteredLayer()])"
   ]
  },
  {
   "cell_type": "markdown",
   "metadata": {
    "origin_pos": 12
   },
   "source": [
    "Como uma verificação extra de sanidade, podemos enviar dados aleatórios\n",
    "através da rede e verificar se a média é de fato 0.\n",
    "Porque estamos lidando com números de ponto flutuante,\n",
    "ainda podemos ver um número muito pequeno diferente de zero\n",
    "devido à quantização.\n"
   ]
  },
  {
   "cell_type": "code",
   "execution_count": 4,
   "metadata": {
    "origin_pos": 15,
    "tab": [
     "tensorflow"
    ]
   },
   "outputs": [
    {
     "data": {
      "text/plain": [
       "<tf.Tensor: shape=(), dtype=float32, numpy=-1.8626451e-09>"
      ]
     },
     "execution_count": 4,
     "metadata": {},
     "output_type": "execute_result"
    }
   ],
   "source": [
    "Y = net(tf.random.uniform((4, 8)))\n",
    "tf.reduce_mean(Y)"
   ]
  },
  {
   "cell_type": "markdown",
   "metadata": {
    "origin_pos": 16
   },
   "source": [
    "## Camadas com Parâmetros\n",
    "\n",
    "Agora que sabemos como definir camadas simples,\n",
    "vamos prosseguir para a definição de camadas com parâmetros\n",
    "que pode ser ajustado por meio de treinamento.\n",
    "Podemos usar funções integradas para criar parâmetros, que\n",
    "fornecem algumas funcionalidades básicas de manutenção.\n",
    "Em particular, eles governam o acesso, inicialização,\n",
    "compartilhar, salvar e carregar parâmetros do modelo.\n",
    "Dessa forma, entre outros benefícios, não precisaremos escrever\n",
    "rotinas de serialização personalizadas para cada camada personalizada.\n",
    "\n",
    "Agora, vamos implementar nossa própria versão da camada totalmente conectada.\n",
    "Lembre-se de que esta camada requer dois parâmetros,\n",
    "um para representar o peso e outro para o viés.\n",
    "Nesta implementação, preparamos a ativação do ReLU como padrão.\n",
    "Esta camada requer a entrada de argumentos: `in_units` e `units`, que\n",
    "denotam o número de entradas e saídas, respectivamente.\n"
   ]
  },
  {
   "cell_type": "code",
   "execution_count": 5,
   "metadata": {
    "origin_pos": 19,
    "tab": [
     "tensorflow"
    ]
   },
   "outputs": [],
   "source": [
    "class MyDense(tf.keras.Model):\n",
    "    def __init__(self, units):\n",
    "        super().__init__()\n",
    "        self.units = units\n",
    "\n",
    "    def build(self, X_shape):\n",
    "        self.weight = self.add_weight(name='weight',\n",
    "            shape=[X_shape[-1], self.units],\n",
    "            initializer=tf.random_normal_initializer())\n",
    "        self.bias = self.add_weight(\n",
    "            name='bias', shape=[self.units],\n",
    "            initializer=tf.zeros_initializer())\n",
    "\n",
    "    def call(self, X):\n",
    "        linear = tf.matmul(X, self.weight) + self.bias\n",
    "        return tf.nn.relu(linear)"
   ]
  },
  {
   "cell_type": "markdown",
   "metadata": {
    "origin_pos": 20
   },
   "source": [
    "Em seguida, instanciamos a classe `MyDense`\n",
    "e acessar seus parâmetros de modelo.\n"
   ]
  },
  {
   "cell_type": "code",
   "execution_count": 6,
   "metadata": {
    "origin_pos": 23,
    "tab": [
     "tensorflow"
    ]
   },
   "outputs": [
    {
     "data": {
      "text/plain": [
       "[array([[-0.03506669,  0.01943431, -0.00358615],\n",
       "        [ 0.02064196, -0.07825888, -0.00893933],\n",
       "        [ 0.00577814,  0.0454763 ,  0.02938056],\n",
       "        [-0.03217198, -0.05240436, -0.00833275],\n",
       "        [ 0.05816463,  0.02635984, -0.05368067]], dtype=float32),\n",
       " array([0., 0., 0.], dtype=float32)]"
      ]
     },
     "execution_count": 6,
     "metadata": {},
     "output_type": "execute_result"
    }
   ],
   "source": [
    "dense = MyDense(3)\n",
    "dense(tf.random.uniform((2, 5)))\n",
    "dense.get_weights()"
   ]
  },
  {
   "cell_type": "markdown",
   "metadata": {
    "origin_pos": 24
   },
   "source": [
    "Podemos realizar cálculos de propagação direta usando camadas personalizadas.\n"
   ]
  },
  {
   "cell_type": "code",
   "execution_count": 7,
   "metadata": {
    "origin_pos": 27,
    "tab": [
     "tensorflow"
    ]
   },
   "outputs": [
    {
     "data": {
      "text/plain": [
       "<tf.Tensor: shape=(2, 3), dtype=float32, numpy=\n",
       "array([[0.01058663, 0.        , 0.        ],\n",
       "       [0.        , 0.        , 0.        ]], dtype=float32)>"
      ]
     },
     "execution_count": 7,
     "metadata": {},
     "output_type": "execute_result"
    }
   ],
   "source": [
    "dense(tf.random.uniform((2, 5)))"
   ]
  },
  {
   "cell_type": "markdown",
   "metadata": {
    "origin_pos": 28
   },
   "source": [
    "Também podemos construir modelos usando camadas personalizadas.\n",
    "Assim que tivermos isso, podemos usá-lo como a camada totalmente conectada integrada.\n"
   ]
  },
  {
   "cell_type": "code",
   "execution_count": 8,
   "metadata": {
    "origin_pos": 31,
    "tab": [
     "tensorflow"
    ]
   },
   "outputs": [
    {
     "data": {
      "text/plain": [
       "<tf.Tensor: shape=(2, 1), dtype=float32, numpy=\n",
       "array([[0.],\n",
       "       [0.]], dtype=float32)>"
      ]
     },
     "execution_count": 8,
     "metadata": {},
     "output_type": "execute_result"
    }
   ],
   "source": [
    "net = tf.keras.models.Sequential([MyDense(8), MyDense(1)])\n",
    "net(tf.random.uniform((2, 64)))"
   ]
  },
  {
   "cell_type": "markdown",
   "metadata": {
    "origin_pos": 32
   },
   "source": [
    "## Sumário\n",
    "\n",
    "* Podemos projetar camadas personalizadas por meio da classe de camada básica. Isso nos permite definir novas camadas flexíveis que se comportam de maneira diferente de quaisquer camadas existentes na biblioteca.\n",
    "* Uma vez definidas, as camadas personalizadas podem ser chamadas em contextos e arquiteturas arbitrários.\n",
    "* As camadas podem ter parâmetros locais, que podem ser criados por meio de funções integradas.\n",
    "\n",
    "\n",
    "## Exercícios\n",
    "\n",
    "3. Projete uma camada que recebe uma entrada e calcula uma redução de tensor,\n",
    "    ou seja, ele retorna $y_k = \\sum_{i, j} W_{ijk} x_i x_j$.\n",
    "4. Projete uma camada que retorne a metade anterior dos coeficientes de Fourier dos dados.\n"
   ]
  },
  {
   "cell_type": "markdown",
   "metadata": {
    "origin_pos": 35,
    "tab": [
     "tensorflow"
    ]
   },
   "source": [
    "[Discussão](https://discuss.d2l.ai/t/279)\n"
   ]
  },
  {
   "cell_type": "markdown",
   "metadata": {
    "origin_pos": 36
   },
   "source": [
    "<!--stackedit_data:\n",
    "eyJoaXN0b3J5IjpbMTE0MTM0NDQ0OSw2MzczMzk3NTZdfQ==\n",
    "-->\n"
   ]
  }
 ],
 "metadata": {
  "kernelspec": {
   "display_name": "conda_tensorflow_p36",
   "name": "conda_tensorflow_p36"
  },
  "language_info": {
   "name": "python"
  }
 },
 "nbformat": 4,
 "nbformat_minor": 4
}