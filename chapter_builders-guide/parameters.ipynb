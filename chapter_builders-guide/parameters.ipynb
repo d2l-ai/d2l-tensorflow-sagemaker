{
 "cells": [
  {
   "cell_type": "markdown",
   "id": "1e039117",
   "metadata": {
    "origin_pos": 0
   },
   "source": [
    "# Parameter Management\n",
    "\n",
    "Once we have chosen an architecture\n",
    "and set our hyperparameters,\n",
    "we proceed to the training loop,\n",
    "where our goal is to find parameter values\n",
    "that minimize our loss function.\n",
    "After training, we will need these parameters\n",
    "in order to make future predictions.\n",
    "Additionally, we will sometimes wish\n",
    "to extract the parameters\n",
    "either to reuse them in some other context,\n",
    "to save our model to disk so that\n",
    "it may be executed in other software,\n",
    "or for examination in the hope of\n",
    "gaining scientific understanding.\n",
    "\n",
    "Most of the time, we will be able\n",
    "to ignore the nitty-gritty details\n",
    "of how parameters are declared\n",
    "and manipulated, relying on deep learning frameworks\n",
    "to do the heavy lifting.\n",
    "However, when we move away from\n",
    "stacked architectures with standard layers,\n",
    "we will sometimes need to get into the weeds\n",
    "of declaring and manipulating parameters.\n",
    "In this section, we cover the following:\n",
    "\n",
    "* Accessing parameters for debugging, diagnostics, and visualizations.\n",
    "* Sharing parameters across different model components.\n",
    "\n",
    "(**We start by focusing on an MLP with one hidden layer.**)\n"
   ]
  },
  {
   "cell_type": "code",
   "execution_count": 1,
   "id": "04af1781",
   "metadata": {
    "execution": {
     "iopub.execute_input": "2022-12-14T12:21:11.702183Z",
     "iopub.status.busy": "2022-12-14T12:21:11.701585Z",
     "iopub.status.idle": "2022-12-14T12:21:16.708318Z",
     "shell.execute_reply": "2022-12-14T12:21:16.707522Z"
    },
    "origin_pos": 4,
    "tab": [
     "tensorflow"
    ]
   },
   "outputs": [
    {
     "data": {
      "text/plain": [
       "TensorShape([2, 1])"
      ]
     },
     "execution_count": 1,
     "metadata": {},
     "output_type": "execute_result"
    }
   ],
   "source": [
    "import tensorflow as tf\n",
    "\n",
    "net = tf.keras.models.Sequential([\n",
    "    tf.keras.layers.Flatten(),\n",
    "    tf.keras.layers.Dense(4, activation=tf.nn.relu),\n",
    "    tf.keras.layers.Dense(1),\n",
    "])\n",
    "\n",
    "X = tf.random.uniform((2, 4))\n",
    "net(X).shape"
   ]
  },
  {
   "cell_type": "markdown",
   "id": "b1ce352e",
   "metadata": {
    "origin_pos": 6
   },
   "source": [
    "## [**Parameter Access**]\n",
    ":label:`subsec_param-access`\n",
    "\n",
    "Let's start with how to access parameters\n",
    "from the models that you already know.\n"
   ]
  },
  {
   "cell_type": "markdown",
   "id": "869b9c83",
   "metadata": {
    "origin_pos": 7,
    "tab": [
     "tensorflow"
    ]
   },
   "source": [
    "When a model is defined via the `Sequential` class,\n",
    "we can first access any layer by indexing\n",
    "into the model as though it were a list.\n",
    "Each layer's parameters are conveniently\n",
    "located in its attribute.\n"
   ]
  },
  {
   "cell_type": "markdown",
   "id": "aab5ce54",
   "metadata": {
    "origin_pos": 9
   },
   "source": [
    "We can inspect the parameters of the second fully connected layer as follows.\n"
   ]
  },
  {
   "cell_type": "code",
   "execution_count": 2,
   "id": "88ffae2e",
   "metadata": {
    "execution": {
     "iopub.execute_input": "2022-12-14T12:21:16.712385Z",
     "iopub.status.busy": "2022-12-14T12:21:16.711834Z",
     "iopub.status.idle": "2022-12-14T12:21:16.718963Z",
     "shell.execute_reply": "2022-12-14T12:21:16.718211Z"
    },
    "origin_pos": 12,
    "tab": [
     "tensorflow"
    ]
   },
   "outputs": [
    {
     "data": {
      "text/plain": [
       "[<tf.Variable 'dense_1/kernel:0' shape=(4, 1) dtype=float32, numpy=\n",
       " array([[ 0.25764966],\n",
       "        [ 0.9583607 ],\n",
       "        [-0.28310114],\n",
       "        [-0.97377807]], dtype=float32)>,\n",
       " <tf.Variable 'dense_1/bias:0' shape=(1,) dtype=float32, numpy=array([0.], dtype=float32)>]"
      ]
     },
     "execution_count": 2,
     "metadata": {},
     "output_type": "execute_result"
    }
   ],
   "source": [
    "net.layers[2].weights"
   ]
  },
  {
   "cell_type": "markdown",
   "id": "3a2b7279",
   "metadata": {
    "origin_pos": 14
   },
   "source": [
    "We can see that this fully connected layer\n",
    "contains two parameters,\n",
    "corresponding to that layer's\n",
    "weights and biases, respectively.\n",
    "\n",
    "\n",
    "### [**Targeted Parameters**]\n",
    "\n",
    "Note that each parameter is represented\n",
    "as an instance of the parameter class.\n",
    "To do anything useful with the parameters,\n",
    "we first need to access the underlying numerical values.\n",
    "There are several ways to do this.\n",
    "Some are simpler while others are more general.\n",
    "The following code extracts the bias\n",
    "from the second neural network layer, which returns a parameter class instance, and\n",
    "further accesses that parameter's value.\n"
   ]
  },
  {
   "cell_type": "code",
   "execution_count": 3,
   "id": "3390b072",
   "metadata": {
    "execution": {
     "iopub.execute_input": "2022-12-14T12:21:16.722245Z",
     "iopub.status.busy": "2022-12-14T12:21:16.721638Z",
     "iopub.status.idle": "2022-12-14T12:21:16.727321Z",
     "shell.execute_reply": "2022-12-14T12:21:16.726573Z"
    },
    "origin_pos": 17,
    "tab": [
     "tensorflow"
    ]
   },
   "outputs": [
    {
     "data": {
      "text/plain": [
       "(tensorflow.python.ops.resource_variable_ops.ResourceVariable,\n",
       " <tf.Tensor: shape=(1,), dtype=float32, numpy=array([0.], dtype=float32)>)"
      ]
     },
     "execution_count": 3,
     "metadata": {},
     "output_type": "execute_result"
    }
   ],
   "source": [
    "type(net.layers[2].weights[1]), tf.convert_to_tensor(net.layers[2].weights[1])"
   ]
  },
  {
   "cell_type": "markdown",
   "id": "5c53552d",
   "metadata": {
    "origin_pos": 23
   },
   "source": [
    "### [**All Parameters at Once**]\n",
    "\n",
    "When we need to perform operations on all parameters,\n",
    "accessing them one-by-one can grow tedious.\n",
    "The situation can grow especially unwieldy\n",
    "when we work with more complex modules (e.g., nested modules),\n",
    "since we would need to recurse\n",
    "through the entire tree to extract\n",
    "each sub-module's parameters. Below we demonstrate accessing the parameters of all layers.\n"
   ]
  },
  {
   "cell_type": "code",
   "execution_count": 4,
   "id": "de3d4bb2",
   "metadata": {
    "execution": {
     "iopub.execute_input": "2022-12-14T12:21:16.730621Z",
     "iopub.status.busy": "2022-12-14T12:21:16.730013Z",
     "iopub.status.idle": "2022-12-14T12:21:16.736390Z",
     "shell.execute_reply": "2022-12-14T12:21:16.735673Z"
    },
    "origin_pos": 26,
    "tab": [
     "tensorflow"
    ]
   },
   "outputs": [
    {
     "data": {
      "text/plain": [
       "[array([[ 0.4128005 , -0.85673374,  0.66017634,  0.6469397 ],\n",
       "        [ 0.6043585 ,  0.75355655, -0.7044668 ,  0.07986593],\n",
       "        [-0.18803859, -0.30167812, -0.4673611 , -0.70024765],\n",
       "        [ 0.6149425 , -0.7996651 ,  0.7172343 ,  0.662155  ]],\n",
       "       dtype=float32),\n",
       " array([0., 0., 0., 0.], dtype=float32),\n",
       " array([[ 0.25764966],\n",
       "        [ 0.9583607 ],\n",
       "        [-0.28310114],\n",
       "        [-0.97377807]], dtype=float32),\n",
       " array([0.], dtype=float32)]"
      ]
     },
     "execution_count": 4,
     "metadata": {},
     "output_type": "execute_result"
    }
   ],
   "source": [
    "net.get_weights()"
   ]
  },
  {
   "cell_type": "markdown",
   "id": "de454687",
   "metadata": {
    "origin_pos": 28
   },
   "source": [
    "## [**Tied Parameters**]\n",
    "\n",
    "Often, we want to share parameters across multiple layers.\n",
    "Let's see how to do this elegantly.\n",
    "In the following we allocate a fully connected layer\n",
    "and then use its parameters specifically\n",
    "to set those of another layer.\n",
    "Here we need to run the forward propagation\n",
    "`net(X)` before accessing the parameters.\n"
   ]
  },
  {
   "cell_type": "code",
   "execution_count": 5,
   "id": "52c9552e",
   "metadata": {
    "execution": {
     "iopub.execute_input": "2022-12-14T12:21:16.739678Z",
     "iopub.status.busy": "2022-12-14T12:21:16.739064Z",
     "iopub.status.idle": "2022-12-14T12:21:16.768228Z",
     "shell.execute_reply": "2022-12-14T12:21:16.767498Z"
    },
    "origin_pos": 31,
    "tab": [
     "tensorflow"
    ]
   },
   "outputs": [
    {
     "name": "stdout",
     "output_type": "stream",
     "text": [
      "True\n"
     ]
    }
   ],
   "source": [
    "# tf.keras behaves a bit differently. It removes the duplicate layer\n",
    "# automatically\n",
    "shared = tf.keras.layers.Dense(4, activation=tf.nn.relu)\n",
    "net = tf.keras.models.Sequential([\n",
    "    tf.keras.layers.Flatten(),\n",
    "    shared,\n",
    "    shared,\n",
    "    tf.keras.layers.Dense(1),\n",
    "])\n",
    "net(X)\n",
    "# Check whether the parameters are different\n",
    "print(len(net.layers) == 3)"
   ]
  },
  {
   "cell_type": "markdown",
   "id": "289466a1",
   "metadata": {
    "origin_pos": 33
   },
   "source": [
    "This example shows that the parameters\n",
    "of the second and third layer are tied.\n",
    "They are not just equal, they are\n",
    "represented by the same exact tensor.\n",
    "Thus, if we change one of the parameters,\n",
    "the other one changes, too.\n"
   ]
  },
  {
   "cell_type": "markdown",
   "id": "dbb6facf",
   "metadata": {
    "origin_pos": 34,
    "tab": [
     "tensorflow"
    ]
   },
   "source": [
    "You might wonder,\n",
    "when parameters are tied\n",
    "what happens to the gradients?\n",
    "Since the model parameters contain gradients,\n",
    "the gradients of the second hidden layer\n",
    "and the third hidden layer are added together\n",
    "during backpropagation.\n"
   ]
  },
  {
   "cell_type": "markdown",
   "id": "22bd77aa",
   "metadata": {
    "origin_pos": 35
   },
   "source": [
    "## Summary\n",
    "\n",
    "We have several ways to access and tie model parameters.\n",
    "\n",
    "\n",
    "## Exercises\n",
    "\n",
    "1. Use the `NestMLP` model defined in :numref:`sec_model_construction` and access the parameters of the various layers.\n",
    "1. Construct an MLP containing a shared parameter layer and train it. During the training process, observe the model parameters and gradients of each layer.\n",
    "1. Why is sharing parameters a good idea?\n"
   ]
  },
  {
   "cell_type": "markdown",
   "id": "ff68ab3d",
   "metadata": {
    "origin_pos": 38,
    "tab": [
     "tensorflow"
    ]
   },
   "source": [
    "[Discussions](https://discuss.d2l.ai/t/269)\n"
   ]
  }
 ],
 "metadata": {
  "kernelspec": {
   "display_name": "conda_tensorflow_p36",
   "name": "conda_tensorflow_p36"
  },
  "language_info": {
   "name": "python"
  }
 },
 "nbformat": 4,
 "nbformat_minor": 5
}