{
 "cells": [
  {
   "cell_type": "markdown",
   "id": "d4768a17",
   "metadata": {},
   "source": [
    "Installing (updating) the following libraries for your Sagemaker\n",
    "instance."
   ]
  },
  {
   "cell_type": "code",
   "execution_count": null,
   "id": "efe73717",
   "metadata": {},
   "outputs": [],
   "source": [
    "!pip install .. # installing d2l\n"
   ]
  },
  {
   "cell_type": "markdown",
   "id": "40b32aa4",
   "metadata": {
    "origin_pos": 1
   },
   "source": [
    "# Custom Layers\n",
    "\n",
    "One factor behind deep learning's success\n",
    "is the availability of a wide range of layers\n",
    "that can be composed in creative ways\n",
    "to design architectures suitable\n",
    "for a wide variety of tasks.\n",
    "For instance, researchers have invented layers\n",
    "specifically for handling images, text,\n",
    "looping over sequential data,\n",
    "and\n",
    "performing dynamic programming.\n",
    "Sooner or later, you will need\n",
    "a layer that does not exist yet in the deep learning framework.\n",
    "In these cases, you must build a custom layer.\n",
    "In this section, we show you how.\n"
   ]
  },
  {
   "cell_type": "code",
   "execution_count": 1,
   "id": "1de52ae7",
   "metadata": {
    "execution": {
     "iopub.execute_input": "2023-08-14T17:13:48.769567Z",
     "iopub.status.busy": "2023-08-14T17:13:48.768746Z",
     "iopub.status.idle": "2023-08-14T17:13:51.953873Z",
     "shell.execute_reply": "2023-08-14T17:13:51.952949Z"
    },
    "origin_pos": 4,
    "tab": [
     "tensorflow"
    ]
   },
   "outputs": [],
   "source": [
    "import tensorflow as tf\n",
    "from d2l import tensorflow as d2l"
   ]
  },
  {
   "cell_type": "markdown",
   "id": "c1ba7119",
   "metadata": {
    "origin_pos": 6
   },
   "source": [
    "## (**Layers without Parameters**)\n",
    "\n",
    "To start, we construct a custom layer\n",
    "that does not have any parameters of its own.\n",
    "This should look familiar if you recall our\n",
    "introduction to modules in :numref:`sec_model_construction`.\n",
    "The following `CenteredLayer` class simply\n",
    "subtracts the mean from its input.\n",
    "To build it, we simply need to inherit\n",
    "from the base layer class and implement the forward propagation function.\n"
   ]
  },
  {
   "cell_type": "code",
   "execution_count": 2,
   "id": "58f0710d",
   "metadata": {
    "execution": {
     "iopub.execute_input": "2023-08-14T17:13:51.957875Z",
     "iopub.status.busy": "2023-08-14T17:13:51.957136Z",
     "iopub.status.idle": "2023-08-14T17:13:51.962266Z",
     "shell.execute_reply": "2023-08-14T17:13:51.961129Z"
    },
    "origin_pos": 9,
    "tab": [
     "tensorflow"
    ]
   },
   "outputs": [],
   "source": [
    "class CenteredLayer(tf.keras.Model):\n",
    "    def __init__(self):\n",
    "        super().__init__()\n",
    "\n",
    "    def call(self, X):\n",
    "        return X - tf.reduce_mean(X)"
   ]
  },
  {
   "cell_type": "markdown",
   "id": "6ea4f7bf",
   "metadata": {
    "origin_pos": 11
   },
   "source": [
    "Let's verify that our layer works as intended by feeding some data through it.\n"
   ]
  },
  {
   "cell_type": "code",
   "execution_count": 3,
   "id": "bbd613bd",
   "metadata": {
    "execution": {
     "iopub.execute_input": "2023-08-14T17:13:51.965685Z",
     "iopub.status.busy": "2023-08-14T17:13:51.965161Z",
     "iopub.status.idle": "2023-08-14T17:13:55.004551Z",
     "shell.execute_reply": "2023-08-14T17:13:55.003677Z"
    },
    "origin_pos": 12,
    "tab": [
     "tensorflow"
    ]
   },
   "outputs": [
    {
     "data": {
      "text/plain": [
       "<tf.Tensor: shape=(5,), dtype=float32, numpy=array([-2., -1.,  0.,  1.,  2.], dtype=float32)>"
      ]
     },
     "execution_count": 3,
     "metadata": {},
     "output_type": "execute_result"
    }
   ],
   "source": [
    "layer = CenteredLayer()\n",
    "layer(tf.constant([1.0, 2, 3, 4, 5]))"
   ]
  },
  {
   "cell_type": "markdown",
   "id": "4fa3c731",
   "metadata": {
    "origin_pos": 13
   },
   "source": [
    "We can now [**incorporate our layer as a component\n",
    "in constructing more complex models.**]\n"
   ]
  },
  {
   "cell_type": "code",
   "execution_count": 4,
   "id": "35a4d315",
   "metadata": {
    "execution": {
     "iopub.execute_input": "2023-08-14T17:13:55.008199Z",
     "iopub.status.busy": "2023-08-14T17:13:55.007616Z",
     "iopub.status.idle": "2023-08-14T17:13:55.021324Z",
     "shell.execute_reply": "2023-08-14T17:13:55.020499Z"
    },
    "origin_pos": 16,
    "tab": [
     "tensorflow"
    ]
   },
   "outputs": [],
   "source": [
    "net = tf.keras.Sequential([tf.keras.layers.Dense(128), CenteredLayer()])"
   ]
  },
  {
   "cell_type": "markdown",
   "id": "ff31fec3",
   "metadata": {
    "origin_pos": 18
   },
   "source": [
    "As an extra sanity check, we can send random data\n",
    "through the network and check that the mean is in fact 0.\n",
    "Because we are dealing with floating point numbers,\n",
    "we may still see a very small nonzero number\n",
    "due to quantization.\n"
   ]
  },
  {
   "cell_type": "code",
   "execution_count": 5,
   "id": "48bfbde6",
   "metadata": {
    "execution": {
     "iopub.execute_input": "2023-08-14T17:13:55.024693Z",
     "iopub.status.busy": "2023-08-14T17:13:55.024134Z",
     "iopub.status.idle": "2023-08-14T17:13:55.106826Z",
     "shell.execute_reply": "2023-08-14T17:13:55.105991Z"
    },
    "origin_pos": 21,
    "tab": [
     "tensorflow"
    ]
   },
   "outputs": [
    {
     "data": {
      "text/plain": [
       "<tf.Tensor: shape=(), dtype=float32, numpy=-5.5879354e-09>"
      ]
     },
     "execution_count": 5,
     "metadata": {},
     "output_type": "execute_result"
    }
   ],
   "source": [
    "Y = net(tf.random.uniform((4, 8)))\n",
    "tf.reduce_mean(Y)"
   ]
  },
  {
   "cell_type": "markdown",
   "id": "827c02f8",
   "metadata": {
    "origin_pos": 23
   },
   "source": [
    "## [**Layers with Parameters**]\n",
    "\n",
    "Now that we know how to define simple layers,\n",
    "let's move on to defining layers with parameters\n",
    "that can be adjusted through training.\n",
    "We can use built-in functions to create parameters, which\n",
    "provide some basic housekeeping functionality.\n",
    "In particular, they govern access, initialization,\n",
    "sharing, saving, and loading model parameters.\n",
    "This way, among other benefits, we will not need to write\n",
    "custom serialization routines for every custom layer.\n",
    "\n",
    "Now let's implement our own version of the  fully connected layer.\n",
    "Recall that this layer requires two parameters,\n",
    "one to represent the weight and the other for the bias.\n",
    "In this implementation, we bake in the ReLU activation as a default.\n",
    "This layer requires two input arguments: `in_units` and `units`, which\n",
    "denote the number of inputs and outputs, respectively.\n"
   ]
  },
  {
   "cell_type": "code",
   "execution_count": 6,
   "id": "62561208",
   "metadata": {
    "execution": {
     "iopub.execute_input": "2023-08-14T17:13:55.110186Z",
     "iopub.status.busy": "2023-08-14T17:13:55.109629Z",
     "iopub.status.idle": "2023-08-14T17:13:55.115315Z",
     "shell.execute_reply": "2023-08-14T17:13:55.114507Z"
    },
    "origin_pos": 26,
    "tab": [
     "tensorflow"
    ]
   },
   "outputs": [],
   "source": [
    "class MyDense(tf.keras.Model):\n",
    "    def __init__(self, units):\n",
    "        super().__init__()\n",
    "        self.units = units\n",
    "\n",
    "    def build(self, X_shape):\n",
    "        self.weight = self.add_weight(name='weight',\n",
    "            shape=[X_shape[-1], self.units],\n",
    "            initializer=tf.random_normal_initializer())\n",
    "        self.bias = self.add_weight(\n",
    "            name='bias', shape=[self.units],\n",
    "            initializer=tf.zeros_initializer())\n",
    "\n",
    "    def call(self, X):\n",
    "        linear = tf.matmul(X, self.weight) + self.bias\n",
    "        return tf.nn.relu(linear)"
   ]
  },
  {
   "cell_type": "markdown",
   "id": "fd6c5803",
   "metadata": {
    "origin_pos": 28,
    "tab": [
     "tensorflow"
    ]
   },
   "source": [
    "Next, we instantiate the `MyDense` class\n",
    "and access its model parameters.\n"
   ]
  },
  {
   "cell_type": "code",
   "execution_count": 7,
   "id": "784c554a",
   "metadata": {
    "execution": {
     "iopub.execute_input": "2023-08-14T17:13:55.118642Z",
     "iopub.status.busy": "2023-08-14T17:13:55.118087Z",
     "iopub.status.idle": "2023-08-14T17:13:55.139155Z",
     "shell.execute_reply": "2023-08-14T17:13:55.138314Z"
    },
    "origin_pos": 32,
    "tab": [
     "tensorflow"
    ]
   },
   "outputs": [
    {
     "data": {
      "text/plain": [
       "[array([[ 0.0187088 ,  0.09433906,  0.01036657],\n",
       "        [ 0.0029935 ,  0.02113922, -0.02845885],\n",
       "        [ 0.0173707 , -0.03878449, -0.08063205],\n",
       "        [-0.0716802 , -0.03362827, -0.03497111],\n",
       "        [-0.00339616, -0.05904223,  0.01169454]], dtype=float32),\n",
       " array([0., 0., 0.], dtype=float32)]"
      ]
     },
     "execution_count": 7,
     "metadata": {},
     "output_type": "execute_result"
    }
   ],
   "source": [
    "dense = MyDense(3)\n",
    "dense(tf.random.uniform((2, 5)))\n",
    "dense.get_weights()"
   ]
  },
  {
   "cell_type": "markdown",
   "id": "2977bcc5",
   "metadata": {
    "origin_pos": 34
   },
   "source": [
    "We can [**directly carry out forward propagation calculations using custom layers.**]\n"
   ]
  },
  {
   "cell_type": "code",
   "execution_count": 8,
   "id": "53c537d0",
   "metadata": {
    "execution": {
     "iopub.execute_input": "2023-08-14T17:13:55.142537Z",
     "iopub.status.busy": "2023-08-14T17:13:55.141969Z",
     "iopub.status.idle": "2023-08-14T17:13:55.148596Z",
     "shell.execute_reply": "2023-08-14T17:13:55.147780Z"
    },
    "origin_pos": 37,
    "tab": [
     "tensorflow"
    ]
   },
   "outputs": [
    {
     "data": {
      "text/plain": [
       "<tf.Tensor: shape=(2, 3), dtype=float32, numpy=\n",
       "array([[0., 0., 0.],\n",
       "       [0., 0., 0.]], dtype=float32)>"
      ]
     },
     "execution_count": 8,
     "metadata": {},
     "output_type": "execute_result"
    }
   ],
   "source": [
    "dense(tf.random.uniform((2, 5)))"
   ]
  },
  {
   "cell_type": "markdown",
   "id": "144c4ac4",
   "metadata": {
    "origin_pos": 39
   },
   "source": [
    "We can also (**construct models using custom layers.**)\n",
    "Once we have that we can use it just like the built-in fully connected layer.\n"
   ]
  },
  {
   "cell_type": "code",
   "execution_count": 9,
   "id": "a0138de1",
   "metadata": {
    "execution": {
     "iopub.execute_input": "2023-08-14T17:13:55.151866Z",
     "iopub.status.busy": "2023-08-14T17:13:55.151288Z",
     "iopub.status.idle": "2023-08-14T17:13:55.224547Z",
     "shell.execute_reply": "2023-08-14T17:13:55.223700Z"
    },
    "origin_pos": 42,
    "tab": [
     "tensorflow"
    ]
   },
   "outputs": [
    {
     "data": {
      "text/plain": [
       "<tf.Tensor: shape=(2, 1), dtype=float32, numpy=\n",
       "array([[0.00782309],\n",
       "       [0.00601957]], dtype=float32)>"
      ]
     },
     "execution_count": 9,
     "metadata": {},
     "output_type": "execute_result"
    }
   ],
   "source": [
    "net = tf.keras.models.Sequential([MyDense(8), MyDense(1)])\n",
    "net(tf.random.uniform((2, 64)))"
   ]
  },
  {
   "cell_type": "markdown",
   "id": "55483a9a",
   "metadata": {
    "origin_pos": 44
   },
   "source": [
    "## Summary\n",
    "\n",
    "We can design custom layers via the basic layer class. This allows us to define flexible new layers that behave differently from any existing layers in the library.\n",
    "Once defined, custom layers can be invoked in arbitrary contexts and architectures.\n",
    "Layers can have local parameters, which can be created through built-in functions.\n",
    "\n",
    "\n",
    "## Exercises\n",
    "\n",
    "1. Design a layer that takes an input and computes a tensor reduction,\n",
    "   i.e., it returns $y_k = \\sum_{i, j} W_{ijk} x_i x_j$.\n",
    "1. Design a layer that returns the leading half of the Fourier coefficients of the data.\n"
   ]
  },
  {
   "cell_type": "markdown",
   "id": "a42afdb9",
   "metadata": {
    "origin_pos": 47,
    "tab": [
     "tensorflow"
    ]
   },
   "source": [
    "[Discussions](https://discuss.d2l.ai/t/279)\n"
   ]
  }
 ],
 "metadata": {
  "kernelspec": {
   "display_name": "conda_tensorflow_p36",
   "name": "conda_tensorflow_p36"
  },
  "language_info": {
   "name": "python"
  },
  "required_libs": []
 },
 "nbformat": 4,
 "nbformat_minor": 5
}