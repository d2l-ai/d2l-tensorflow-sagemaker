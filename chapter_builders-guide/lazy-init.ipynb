{
 "cells": [
  {
   "cell_type": "markdown",
   "id": "6ba2871b",
   "metadata": {
    "origin_pos": 1
   },
   "source": [
    "# Lazy Initialization\n",
    ":label:`sec_lazy_init`\n",
    "\n",
    "So far, it might seem that we got away\n",
    "with being sloppy in setting up our networks.\n",
    "Specifically, we did the following unintuitive things,\n",
    "which might not seem like they should work:\n",
    "\n",
    "* We defined the network architectures\n",
    "  without specifying the input dimensionality.\n",
    "* We added layers without specifying\n",
    "  the output dimension of the previous layer.\n",
    "* We even \"initialized\" these parameters\n",
    "  before providing enough information to determine\n",
    "  how many parameters our models should contain.\n",
    "\n",
    "You might be surprised that our code runs at all.\n",
    "After all, there is no way the deep learning framework\n",
    "could tell what the input dimensionality of a network would be.\n",
    "The trick here is that the framework *defers initialization*,\n",
    "waiting until the first time we pass data through the model,\n",
    "to infer the sizes of each layer on the fly.\n",
    "\n",
    "\n",
    "Later on, when working with convolutional neural networks,\n",
    "this technique will become even more convenient\n",
    "since the input dimensionality\n",
    "(i.e., the resolution of an image)\n",
    "will affect the dimensionality\n",
    "of each subsequent layer.\n",
    "Hence, the ability to set parameters\n",
    "without the need to know,\n",
    "at the time of writing the code,\n",
    "what the dimensionality is\n",
    "can greatly simplify the task of specifying\n",
    "and subsequently modifying our models.\n",
    "Next, we go deeper into the mechanics of initialization.\n"
   ]
  },
  {
   "cell_type": "code",
   "execution_count": 1,
   "id": "e09ca390",
   "metadata": {
    "execution": {
     "iopub.execute_input": "2023-02-10T06:59:33.507329Z",
     "iopub.status.busy": "2023-02-10T06:59:33.507006Z",
     "iopub.status.idle": "2023-02-10T06:59:36.132457Z",
     "shell.execute_reply": "2023-02-10T06:59:36.131596Z"
    },
    "origin_pos": 4,
    "tab": [
     "tensorflow"
    ]
   },
   "outputs": [],
   "source": [
    "import tensorflow as tf"
   ]
  },
  {
   "cell_type": "markdown",
   "id": "3772ce45",
   "metadata": {
    "origin_pos": 6
   },
   "source": [
    "To begin, let's instantiate an MLP.\n"
   ]
  },
  {
   "cell_type": "code",
   "execution_count": 2,
   "id": "eb221c39",
   "metadata": {
    "execution": {
     "iopub.execute_input": "2023-02-10T06:59:36.136224Z",
     "iopub.status.busy": "2023-02-10T06:59:36.135723Z",
     "iopub.status.idle": "2023-02-10T06:59:39.471781Z",
     "shell.execute_reply": "2023-02-10T06:59:39.470713Z"
    },
    "origin_pos": 9,
    "tab": [
     "tensorflow"
    ]
   },
   "outputs": [],
   "source": [
    "net = tf.keras.models.Sequential([\n",
    "    tf.keras.layers.Dense(256, activation=tf.nn.relu),\n",
    "    tf.keras.layers.Dense(10),\n",
    "])"
   ]
  },
  {
   "cell_type": "markdown",
   "id": "142ba198",
   "metadata": {
    "origin_pos": 11
   },
   "source": [
    "At this point, the network cannot possibly know\n",
    "the dimensions of the input layer's weights\n",
    "because the input dimension remains unknown.\n"
   ]
  },
  {
   "cell_type": "markdown",
   "id": "34c89097",
   "metadata": {
    "origin_pos": 12,
    "tab": [
     "tensorflow"
    ]
   },
   "source": [
    "Consequently the framework has not yet initialized any parameters.\n",
    "We confirm by attempting to access the parameters below.\n"
   ]
  },
  {
   "cell_type": "code",
   "execution_count": 3,
   "id": "d54cc643",
   "metadata": {
    "execution": {
     "iopub.execute_input": "2023-02-10T06:59:39.475012Z",
     "iopub.status.busy": "2023-02-10T06:59:39.474676Z",
     "iopub.status.idle": "2023-02-10T06:59:39.483424Z",
     "shell.execute_reply": "2023-02-10T06:59:39.482607Z"
    },
    "origin_pos": 16,
    "tab": [
     "tensorflow"
    ]
   },
   "outputs": [
    {
     "data": {
      "text/plain": [
       "[[], []]"
      ]
     },
     "execution_count": 3,
     "metadata": {},
     "output_type": "execute_result"
    }
   ],
   "source": [
    "[net.layers[i].get_weights() for i in range(len(net.layers))]"
   ]
  },
  {
   "cell_type": "markdown",
   "id": "2d7380ec",
   "metadata": {
    "origin_pos": 18,
    "tab": [
     "tensorflow"
    ]
   },
   "source": [
    "Note that each layer objects exist but the weights are empty.\n",
    "Using `net.get_weights()` would throw an error since the weights\n",
    "have not been initialized yet.\n"
   ]
  },
  {
   "cell_type": "markdown",
   "id": "a50ec4fd",
   "metadata": {
    "origin_pos": 21
   },
   "source": [
    "Next let's pass data through the network\n",
    "to make the framework finally initialize parameters.\n"
   ]
  },
  {
   "cell_type": "code",
   "execution_count": 4,
   "id": "fe6cafd6",
   "metadata": {
    "execution": {
     "iopub.execute_input": "2023-02-10T06:59:39.486350Z",
     "iopub.status.busy": "2023-02-10T06:59:39.486005Z",
     "iopub.status.idle": "2023-02-10T06:59:39.561439Z",
     "shell.execute_reply": "2023-02-10T06:59:39.560510Z"
    },
    "origin_pos": 24,
    "tab": [
     "tensorflow"
    ]
   },
   "outputs": [
    {
     "data": {
      "text/plain": [
       "[(20, 256), (256,), (256, 10), (10,)]"
      ]
     },
     "execution_count": 4,
     "metadata": {},
     "output_type": "execute_result"
    }
   ],
   "source": [
    "X = tf.random.uniform((2, 20))\n",
    "net(X)\n",
    "[w.shape for w in net.get_weights()]"
   ]
  },
  {
   "cell_type": "markdown",
   "id": "189c7039",
   "metadata": {
    "origin_pos": 26
   },
   "source": [
    "As soon as we know the input dimensionality,\n",
    "20,\n",
    "the framework can identify the shape of the first layer's weight matrix by plugging in the value of 20.\n",
    "Having recognized the first layer's shape, the framework proceeds\n",
    "to the second layer,\n",
    "and so on through the computational graph\n",
    "until all shapes are known.\n",
    "Note that in this case,\n",
    "only the first layer requires lazy initialization,\n",
    "but the framework initializes sequentially.\n",
    "Once all parameter shapes are known,\n",
    "the framework can finally initialize the parameters.\n"
   ]
  },
  {
   "cell_type": "markdown",
   "id": "80a9def8",
   "metadata": {
    "origin_pos": 31
   },
   "source": [
    "## Summary\n",
    "\n",
    "Lazy initialization can be convenient, allowing the framework to infer parameter shapes automatically, making it easy to modify architectures and eliminating one common source of errors.\n",
    "We can pass data through the model to make the framework finally initialize parameters.\n",
    "\n",
    "\n",
    "## Exercises\n",
    "\n",
    "1. What happens if you specify the input dimensions to the first layer but not to subsequent layers? Do you get immediate initialization?\n",
    "1. What happens if you specify mismatching dimensions?\n",
    "1. What would you need to do if you have input of varying dimensionality? Hint: look at the parameter tying.\n"
   ]
  },
  {
   "cell_type": "markdown",
   "id": "2e43cd74",
   "metadata": {
    "origin_pos": 34,
    "tab": [
     "tensorflow"
    ]
   },
   "source": [
    "[Discussions](https://discuss.d2l.ai/t/281)\n"
   ]
  }
 ],
 "metadata": {
  "kernelspec": {
   "display_name": "conda_tensorflow_p36",
   "name": "conda_tensorflow_p36"
  },
  "language_info": {
   "name": "python"
  }
 },
 "nbformat": 4,
 "nbformat_minor": 5
}