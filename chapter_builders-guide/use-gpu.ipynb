{
 "cells": [
  {
   "cell_type": "markdown",
   "id": "4bab9518",
   "metadata": {},
   "source": [
    "Installing (updating) the following libraries for your Sagemaker\n",
    "instance."
   ]
  },
  {
   "cell_type": "code",
   "execution_count": null,
   "id": "4b96c8dd",
   "metadata": {},
   "outputs": [],
   "source": [
    "!pip install .. # installing d2l\n"
   ]
  },
  {
   "cell_type": "markdown",
   "id": "1e576cef",
   "metadata": {
    "origin_pos": 1
   },
   "source": [
    "# GPUs\n",
    ":label:`sec_use_gpu`\n",
    "\n",
    "In :numref:`tab_intro_decade`, we illustrated the rapid growth\n",
    "of computation over the past two decades.\n",
    "In a nutshell, GPU performance has increased\n",
    "by a factor of 1000 every decade since 2000.\n",
    "This offers great opportunities but it also suggests\n",
    "that there was significant demand for such performance.\n",
    "\n",
    "\n",
    "In this section, we begin to discuss how to harness\n",
    "this computational performance for your research.\n",
    "First by using a single GPU and at a later point,\n",
    "how to use multiple GPUs and multiple servers (with multiple GPUs).\n",
    "\n",
    "Specifically, we will discuss how\n",
    "to use a single NVIDIA GPU for calculations.\n",
    "First, make sure you have at least one NVIDIA GPU installed.\n",
    "Then, download the [NVIDIA driver and CUDA](https://developer.nvidia.com/cuda-downloads)\n",
    "and follow the prompts to set the appropriate path.\n",
    "Once these preparations are complete,\n",
    "the `nvidia-smi` command can be used\n",
    "to (**view the graphics card information**).\n"
   ]
  },
  {
   "cell_type": "markdown",
   "id": "0b5e212c",
   "metadata": {
    "origin_pos": 4
   },
   "source": [
    "To run the programs in this section,\n",
    "you need at least two GPUs.\n",
    "Note that this might be extravagant for most desktop computers\n",
    "but it is easily available in the cloud, e.g.,\n",
    "by using the AWS EC2 multi-GPU instances.\n",
    "Almost all other sections do *not* require multiple GPUs, but here we simply wish to illustrate data flow between different devices.\n"
   ]
  },
  {
   "cell_type": "code",
   "execution_count": 1,
   "id": "96391a2d",
   "metadata": {
    "execution": {
     "iopub.execute_input": "2023-08-14T16:27:08.016120Z",
     "iopub.status.busy": "2023-08-14T16:27:08.015475Z",
     "iopub.status.idle": "2023-08-14T16:27:11.032618Z",
     "shell.execute_reply": "2023-08-14T16:27:11.031727Z"
    },
    "origin_pos": 7,
    "tab": [
     "tensorflow"
    ]
   },
   "outputs": [],
   "source": [
    "import tensorflow as tf\n",
    "from d2l import tensorflow as d2l"
   ]
  },
  {
   "cell_type": "markdown",
   "id": "35c9092e",
   "metadata": {
    "origin_pos": 9
   },
   "source": [
    "## [**Computing Devices**]\n",
    "\n",
    "We can specify devices, such as CPUs and GPUs,\n",
    "for storage and calculation.\n",
    "By default, tensors are created in the main memory\n",
    "and then the CPU is used for calculations.\n"
   ]
  },
  {
   "cell_type": "code",
   "execution_count": 2,
   "id": "d2bfa366",
   "metadata": {
    "execution": {
     "iopub.execute_input": "2023-08-14T16:27:11.036695Z",
     "iopub.status.busy": "2023-08-14T16:27:11.035934Z",
     "iopub.status.idle": "2023-08-14T16:27:14.776089Z",
     "shell.execute_reply": "2023-08-14T16:27:14.775218Z"
    },
    "origin_pos": 13,
    "tab": [
     "tensorflow"
    ]
   },
   "outputs": [
    {
     "data": {
      "text/plain": [
       "(<tensorflow.python.eager.context._EagerDeviceContext at 0x7fe841427f80>,\n",
       " <tensorflow.python.eager.context._EagerDeviceContext at 0x7fe8415b2940>,\n",
       " <tensorflow.python.eager.context._EagerDeviceContext at 0x7fe84161f900>)"
      ]
     },
     "execution_count": 2,
     "metadata": {},
     "output_type": "execute_result"
    }
   ],
   "source": [
    "def cpu():  #@save\n",
    "    \"\"\"Get the CPU device.\"\"\"\n",
    "    return tf.device('/CPU:0')\n",
    "def gpu(i=0):  #@save\n",
    "    \"\"\"Get a GPU device.\"\"\"\n",
    "    return tf.device(f'/GPU:{i}')\n",
    "cpu(), gpu(), gpu(1)"
   ]
  },
  {
   "cell_type": "markdown",
   "id": "3b119108",
   "metadata": {
    "origin_pos": 14
   },
   "source": [
    "We can (**query the number of available GPUs.**)\n"
   ]
  },
  {
   "cell_type": "code",
   "execution_count": 3,
   "id": "be380108",
   "metadata": {
    "execution": {
     "iopub.execute_input": "2023-08-14T16:27:14.779779Z",
     "iopub.status.busy": "2023-08-14T16:27:14.779034Z",
     "iopub.status.idle": "2023-08-14T16:27:14.784597Z",
     "shell.execute_reply": "2023-08-14T16:27:14.783822Z"
    },
    "origin_pos": 16,
    "tab": [
     "tensorflow"
    ]
   },
   "outputs": [
    {
     "data": {
      "text/plain": [
       "2"
      ]
     },
     "execution_count": 3,
     "metadata": {},
     "output_type": "execute_result"
    }
   ],
   "source": [
    "def num_gpus():  #@save\n",
    "    \"\"\"Get the number of available GPUs.\"\"\"\n",
    "    return len(tf.config.experimental.list_physical_devices('GPU'))\n",
    "num_gpus()"
   ]
  },
  {
   "cell_type": "markdown",
   "id": "d68ddc27",
   "metadata": {
    "origin_pos": 17
   },
   "source": [
    "Now we [**define two convenient functions that allow us\n",
    "to run code even if the requested GPUs do not exist.**]\n"
   ]
  },
  {
   "cell_type": "code",
   "execution_count": 4,
   "id": "6581a665",
   "metadata": {
    "execution": {
     "iopub.execute_input": "2023-08-14T16:27:14.787748Z",
     "iopub.status.busy": "2023-08-14T16:27:14.787212Z",
     "iopub.status.idle": "2023-08-14T16:27:14.793564Z",
     "shell.execute_reply": "2023-08-14T16:27:14.792793Z"
    },
    "origin_pos": 18,
    "tab": [
     "tensorflow"
    ]
   },
   "outputs": [
    {
     "data": {
      "text/plain": [
       "(<tensorflow.python.eager.context._EagerDeviceContext at 0x7fe8414d47c0>,\n",
       " <tensorflow.python.eager.context._EagerDeviceContext at 0x7fe8414d4d80>,\n",
       " [<tensorflow.python.eager.context._EagerDeviceContext at 0x7fe8414d4f00>,\n",
       "  <tensorflow.python.eager.context._EagerDeviceContext at 0x7fe8414d5300>])"
      ]
     },
     "execution_count": 4,
     "metadata": {},
     "output_type": "execute_result"
    }
   ],
   "source": [
    "def try_gpu(i=0):  #@save\n",
    "    \"\"\"Return gpu(i) if exists, otherwise return cpu().\"\"\"\n",
    "    if num_gpus() >= i + 1:\n",
    "        return gpu(i)\n",
    "    return cpu()\n",
    "\n",
    "def try_all_gpus():  #@save\n",
    "    \"\"\"Return all available GPUs, or [cpu(),] if no GPU exists.\"\"\"\n",
    "    return [gpu(i) for i in range(num_gpus())]\n",
    "\n",
    "try_gpu(), try_gpu(10), try_all_gpus()"
   ]
  },
  {
   "cell_type": "markdown",
   "id": "b8da1954",
   "metadata": {
    "origin_pos": 19
   },
   "source": [
    "## Tensors and GPUs\n"
   ]
  },
  {
   "cell_type": "markdown",
   "id": "7e891c87",
   "metadata": {
    "origin_pos": 22,
    "tab": [
     "tensorflow"
    ]
   },
   "source": [
    "By default, tensors are created on the CPU.\n",
    "We can [**query the device where the tensor is located.**]\n"
   ]
  },
  {
   "cell_type": "code",
   "execution_count": 5,
   "id": "ab2e3ffb",
   "metadata": {
    "execution": {
     "iopub.execute_input": "2023-08-14T16:27:14.796930Z",
     "iopub.status.busy": "2023-08-14T16:27:14.796316Z",
     "iopub.status.idle": "2023-08-14T16:27:14.819559Z",
     "shell.execute_reply": "2023-08-14T16:27:14.818752Z"
    },
    "origin_pos": 26,
    "tab": [
     "tensorflow"
    ]
   },
   "outputs": [
    {
     "data": {
      "text/plain": [
       "'/job:localhost/replica:0/task:0/device:GPU:0'"
      ]
     },
     "execution_count": 5,
     "metadata": {},
     "output_type": "execute_result"
    }
   ],
   "source": [
    "x = tf.constant([1, 2, 3])\n",
    "x.device"
   ]
  },
  {
   "cell_type": "markdown",
   "id": "ea535f71",
   "metadata": {
    "origin_pos": 28
   },
   "source": [
    "It is important to note that whenever we want\n",
    "to operate on multiple terms,\n",
    "they need to be on the same device.\n",
    "For instance, if we sum two tensors,\n",
    "we need to make sure that both arguments\n",
    "live on the same device---otherwise the framework\n",
    "would not know where to store the result\n",
    "or even how to decide where to perform the computation.\n",
    "\n",
    "### Storage on the GPU\n",
    "\n",
    "There are several ways to [**store a tensor on the GPU.**]\n",
    "For example, we can specify a storage device when creating a tensor.\n",
    "Next, we create the tensor variable `X` on the first `gpu`.\n",
    "The tensor created on a GPU only consumes the memory of this GPU.\n",
    "We can use the `nvidia-smi` command to view GPU memory usage.\n",
    "In general, we need to make sure that we do not create data that exceeds the GPU memory limit.\n"
   ]
  },
  {
   "cell_type": "code",
   "execution_count": 6,
   "id": "8063d8f6",
   "metadata": {
    "execution": {
     "iopub.execute_input": "2023-08-14T16:27:14.822714Z",
     "iopub.status.busy": "2023-08-14T16:27:14.822200Z",
     "iopub.status.idle": "2023-08-14T16:27:14.832844Z",
     "shell.execute_reply": "2023-08-14T16:27:14.832073Z"
    },
    "origin_pos": 31,
    "tab": [
     "tensorflow"
    ]
   },
   "outputs": [
    {
     "data": {
      "text/plain": [
       "<tf.Tensor: shape=(2, 3), dtype=float32, numpy=\n",
       "array([[1., 1., 1.],\n",
       "       [1., 1., 1.]], dtype=float32)>"
      ]
     },
     "execution_count": 6,
     "metadata": {},
     "output_type": "execute_result"
    }
   ],
   "source": [
    "with try_gpu():\n",
    "    X = tf.ones((2, 3))\n",
    "X"
   ]
  },
  {
   "cell_type": "markdown",
   "id": "66cfe71b",
   "metadata": {
    "origin_pos": 33
   },
   "source": [
    "Assuming that you have at least two GPUs, the following code will (**create a random tensor, `Y`, on the second GPU.**)\n"
   ]
  },
  {
   "cell_type": "code",
   "execution_count": 7,
   "id": "68fee765",
   "metadata": {
    "execution": {
     "iopub.execute_input": "2023-08-14T16:27:14.835990Z",
     "iopub.status.busy": "2023-08-14T16:27:14.835480Z",
     "iopub.status.idle": "2023-08-14T16:27:14.845556Z",
     "shell.execute_reply": "2023-08-14T16:27:14.844778Z"
    },
    "origin_pos": 36,
    "tab": [
     "tensorflow"
    ]
   },
   "outputs": [
    {
     "data": {
      "text/plain": [
       "<tf.Tensor: shape=(2, 3), dtype=float32, numpy=\n",
       "array([[0.6517508 , 0.6148082 , 0.4037342 ],\n",
       "       [0.48581004, 0.26006508, 0.31206417]], dtype=float32)>"
      ]
     },
     "execution_count": 7,
     "metadata": {},
     "output_type": "execute_result"
    }
   ],
   "source": [
    "with try_gpu(1):\n",
    "    Y = tf.random.uniform((2, 3))\n",
    "Y"
   ]
  },
  {
   "cell_type": "markdown",
   "id": "e9ddfa42",
   "metadata": {
    "origin_pos": 38
   },
   "source": [
    "### Copying\n",
    "\n",
    "[**If we want to compute `X + Y`,\n",
    "we need to decide where to perform this operation.**]\n",
    "For instance, as shown in :numref:`fig_copyto`,\n",
    "we can transfer `X` to the second GPU\n",
    "and perform the operation there.\n",
    "*Do not* simply add `X` and `Y`,\n",
    "since this will result in an exception.\n",
    "The runtime engine would not know what to do:\n",
    "it cannot find data on the same device and it fails.\n",
    "Since `Y` lives on the second GPU,\n",
    "we need to move `X` there before we can add the two.\n",
    "\n",
    "![Copy data to perform an operation on the same device.](../img/copyto.svg)\n",
    ":label:`fig_copyto`\n"
   ]
  },
  {
   "cell_type": "code",
   "execution_count": 8,
   "id": "d5ca8bd3",
   "metadata": {
    "execution": {
     "iopub.execute_input": "2023-08-14T16:27:14.848898Z",
     "iopub.status.busy": "2023-08-14T16:27:14.848275Z",
     "iopub.status.idle": "2023-08-14T16:27:14.853331Z",
     "shell.execute_reply": "2023-08-14T16:27:14.852536Z"
    },
    "origin_pos": 41,
    "tab": [
     "tensorflow"
    ]
   },
   "outputs": [
    {
     "name": "stdout",
     "output_type": "stream",
     "text": [
      "tf.Tensor(\n",
      "[[1. 1. 1.]\n",
      " [1. 1. 1.]], shape=(2, 3), dtype=float32)\n",
      "tf.Tensor(\n",
      "[[1. 1. 1.]\n",
      " [1. 1. 1.]], shape=(2, 3), dtype=float32)\n"
     ]
    }
   ],
   "source": [
    "with try_gpu(1):\n",
    "    Z = X\n",
    "print(X)\n",
    "print(Z)"
   ]
  },
  {
   "cell_type": "markdown",
   "id": "4eede414",
   "metadata": {
    "origin_pos": 43
   },
   "source": [
    "Now that [**the data (both `Z` and `Y`) are on the same GPU), we can add them up.**]\n"
   ]
  },
  {
   "cell_type": "code",
   "execution_count": 9,
   "id": "ee5ea22f",
   "metadata": {
    "execution": {
     "iopub.execute_input": "2023-08-14T16:27:14.856438Z",
     "iopub.status.busy": "2023-08-14T16:27:14.855944Z",
     "iopub.status.idle": "2023-08-14T16:27:14.862644Z",
     "shell.execute_reply": "2023-08-14T16:27:14.861867Z"
    },
    "origin_pos": 44,
    "tab": [
     "tensorflow"
    ]
   },
   "outputs": [
    {
     "data": {
      "text/plain": [
       "<tf.Tensor: shape=(2, 3), dtype=float32, numpy=\n",
       "array([[1.6517508, 1.6148082, 1.4037342],\n",
       "       [1.48581  , 1.2600651, 1.3120642]], dtype=float32)>"
      ]
     },
     "execution_count": 9,
     "metadata": {},
     "output_type": "execute_result"
    }
   ],
   "source": [
    "Y + Z"
   ]
  },
  {
   "cell_type": "markdown",
   "id": "be21d0a8",
   "metadata": {
    "origin_pos": 47,
    "tab": [
     "tensorflow"
    ]
   },
   "source": [
    "Imagine that your variable `Z` already lives on your second GPU.\n",
    "What happens if we still call `Z2 = Z` under the same device scope?\n",
    "It will return `Z` instead of making a copy and allocating new memory.\n"
   ]
  },
  {
   "cell_type": "code",
   "execution_count": 10,
   "id": "83781218",
   "metadata": {
    "execution": {
     "iopub.execute_input": "2023-08-14T16:27:14.866050Z",
     "iopub.status.busy": "2023-08-14T16:27:14.865359Z",
     "iopub.status.idle": "2023-08-14T16:27:14.870484Z",
     "shell.execute_reply": "2023-08-14T16:27:14.869707Z"
    },
    "origin_pos": 51,
    "tab": [
     "tensorflow"
    ]
   },
   "outputs": [
    {
     "data": {
      "text/plain": [
       "True"
      ]
     },
     "execution_count": 10,
     "metadata": {},
     "output_type": "execute_result"
    }
   ],
   "source": [
    "with try_gpu(1):\n",
    "    Z2 = Z\n",
    "Z2 is Z"
   ]
  },
  {
   "cell_type": "markdown",
   "id": "facf1f51",
   "metadata": {
    "origin_pos": 53
   },
   "source": [
    "### Side Notes\n",
    "\n",
    "People use GPUs to do machine learning\n",
    "because they expect them to be fast.\n",
    "But transferring variables between devices is slow: much slower than computation.\n",
    "So we want you to be 100% certain\n",
    "that you want to do something slow before we let you do it.\n",
    "If the deep learning framework just did the copy automatically\n",
    "without crashing then you might not realize\n",
    "that you had written some slow code.\n",
    "\n",
    "Transferring data is not only slow, it also makes parallelization a lot more difficult,\n",
    "since we have to wait for data to be sent (or rather to be received)\n",
    "before we can proceed with more operations.\n",
    "This is why copy operations should be taken with great care.\n",
    "As a rule of thumb, many small operations\n",
    "are much worse than one big operation.\n",
    "Moreover, several operations at a time\n",
    "are much better than many single operations interspersed in the code\n",
    "unless you know what you are doing.\n",
    "This is the case since such operations can block if one device\n",
    "has to wait for the other before it can do something else.\n",
    "It is a bit like ordering your coffee in a queue\n",
    "rather than pre-ordering it by phone\n",
    "and finding out that it is ready when you are.\n",
    "\n",
    "Last, when we print tensors or convert tensors to the NumPy format,\n",
    "if the data is not in the main memory,\n",
    "the framework will copy it to the main memory first,\n",
    "resulting in additional transmission overhead.\n",
    "Even worse, it is now subject to the dreaded global interpreter lock\n",
    "that makes everything wait for Python to complete.\n",
    "\n",
    "\n",
    "## [**Neural Networks and GPUs**]\n",
    "\n",
    "Similarly, a neural network model can specify devices.\n",
    "The following code puts the model parameters on the GPU.\n"
   ]
  },
  {
   "cell_type": "code",
   "execution_count": 11,
   "id": "25f61a97",
   "metadata": {
    "execution": {
     "iopub.execute_input": "2023-08-14T16:27:14.873639Z",
     "iopub.status.busy": "2023-08-14T16:27:14.873365Z",
     "iopub.status.idle": "2023-08-14T16:27:14.905019Z",
     "shell.execute_reply": "2023-08-14T16:27:14.904201Z"
    },
    "origin_pos": 56,
    "tab": [
     "tensorflow"
    ]
   },
   "outputs": [
    {
     "name": "stdout",
     "output_type": "stream",
     "text": [
      "INFO:tensorflow:Using MirroredStrategy with devices ('/job:localhost/replica:0/task:0/device:GPU:0', '/job:localhost/replica:0/task:0/device:GPU:1')\n"
     ]
    }
   ],
   "source": [
    "strategy = tf.distribute.MirroredStrategy()\n",
    "with strategy.scope():\n",
    "    net = tf.keras.models.Sequential([\n",
    "        tf.keras.layers.Dense(1)])"
   ]
  },
  {
   "cell_type": "markdown",
   "id": "6f9466ed",
   "metadata": {
    "origin_pos": 58
   },
   "source": [
    "We will see many more examples of\n",
    "how to run models on GPUs in the following chapters,\n",
    "simply because the models will become somewhat more computationally intensive.\n",
    "\n",
    "For example, when the input is a tensor on the GPU, the model will calculate the result on the same GPU.\n"
   ]
  },
  {
   "cell_type": "code",
   "execution_count": 12,
   "id": "9cb71824",
   "metadata": {
    "execution": {
     "iopub.execute_input": "2023-08-14T16:27:14.908316Z",
     "iopub.status.busy": "2023-08-14T16:27:14.907759Z",
     "iopub.status.idle": "2023-08-14T16:27:14.970004Z",
     "shell.execute_reply": "2023-08-14T16:27:14.969163Z"
    },
    "origin_pos": 59,
    "tab": [
     "tensorflow"
    ]
   },
   "outputs": [
    {
     "data": {
      "text/plain": [
       "<tf.Tensor: shape=(2, 1), dtype=float32, numpy=\n",
       "array([[0.8528688],\n",
       "       [0.8528688]], dtype=float32)>"
      ]
     },
     "execution_count": 12,
     "metadata": {},
     "output_type": "execute_result"
    }
   ],
   "source": [
    "net(X)"
   ]
  },
  {
   "cell_type": "markdown",
   "id": "54ad41b8",
   "metadata": {
    "origin_pos": 61
   },
   "source": [
    "Let's (**confirm that the model parameters are stored on the same GPU.**)\n"
   ]
  },
  {
   "cell_type": "code",
   "execution_count": 13,
   "id": "28c72b73",
   "metadata": {
    "execution": {
     "iopub.execute_input": "2023-08-14T16:27:14.973529Z",
     "iopub.status.busy": "2023-08-14T16:27:14.972965Z",
     "iopub.status.idle": "2023-08-14T16:27:14.978419Z",
     "shell.execute_reply": "2023-08-14T16:27:14.977633Z"
    },
    "origin_pos": 64,
    "tab": [
     "tensorflow"
    ]
   },
   "outputs": [
    {
     "data": {
      "text/plain": [
       "('/job:localhost/replica:0/task:0/device:GPU:0',\n",
       " '/job:localhost/replica:0/task:0/device:GPU:0')"
      ]
     },
     "execution_count": 13,
     "metadata": {},
     "output_type": "execute_result"
    }
   ],
   "source": [
    "net.layers[0].weights[0].device, net.layers[0].weights[1].device"
   ]
  },
  {
   "cell_type": "markdown",
   "id": "2ca22176",
   "metadata": {
    "origin_pos": 66
   },
   "source": [
    "Let the trainer support GPU.\n"
   ]
  },
  {
   "cell_type": "markdown",
   "id": "747df653",
   "metadata": {
    "origin_pos": 70
   },
   "source": [
    "In short, as long as all data and parameters are on the same device, we can learn models efficiently. In the following chapters we will see several such examples.\n",
    "\n",
    "## Summary\n",
    "\n",
    "We can specify devices for storage and calculation, such as the CPU or GPU.\n",
    "  By default, data is created in the main memory\n",
    "  and then uses the CPU for calculations.\n",
    "The deep learning framework requires all input data for calculation\n",
    "  to be on the same device,\n",
    "  be it CPU or the same GPU.\n",
    "You can lose significant performance by moving data without care.\n",
    "  A typical mistake is as follows: computing the loss\n",
    "  for every minibatch on the GPU and reporting it back\n",
    "  to the user on the command line (or logging it in a NumPy `ndarray`)\n",
    "  will trigger a global interpreter lock which stalls all GPUs.\n",
    "  It is much better to allocate memory\n",
    "  for logging inside the GPU and only move larger logs.\n",
    "\n",
    "## Exercises\n",
    "\n",
    "1. Try a larger computation task, such as the multiplication of large matrices,\n",
    "   and see the difference in speed between the CPU and GPU.\n",
    "   What about a task with a small number of calculations?\n",
    "1. How should we read and write model parameters on the GPU?\n",
    "1. Measure the time it takes to compute 1000\n",
    "   matrix--matrix multiplications of $100 \\times 100$ matrices\n",
    "   and log the Frobenius norm of the output matrix one result at a time. Compare it with keeping a log on the GPU and transferring only the final result.\n",
    "1. Measure how much time it takes to perform two matrix--matrix multiplications\n",
    "   on two GPUs at the same time. Compare it with computing in in sequence\n",
    "   on one GPU. Hint: you should see almost linear scaling.\n"
   ]
  },
  {
   "cell_type": "markdown",
   "id": "0617d567",
   "metadata": {
    "origin_pos": 73,
    "tab": [
     "tensorflow"
    ]
   },
   "source": [
    "[Discussions](https://discuss.d2l.ai/t/270)\n"
   ]
  }
 ],
 "metadata": {
  "kernelspec": {
   "display_name": "conda_tensorflow_p36",
   "name": "conda_tensorflow_p36"
  },
  "language_info": {
   "name": "python"
  },
  "required_libs": []
 },
 "nbformat": 4,
 "nbformat_minor": 5
}