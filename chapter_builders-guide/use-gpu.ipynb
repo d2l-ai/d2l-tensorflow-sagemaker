{
 "cells": [
  {
   "cell_type": "markdown",
   "id": "8b5593c0",
   "metadata": {},
   "source": [
    "Installing (updating) the following libraries for your Sagemaker\n",
    "instance."
   ]
  },
  {
   "cell_type": "code",
   "execution_count": null,
   "id": "5b166dd9",
   "metadata": {},
   "outputs": [],
   "source": [
    "!pip install .. # installing d2l\n"
   ]
  },
  {
   "cell_type": "markdown",
   "id": "4775be8a",
   "metadata": {
    "origin_pos": 1
   },
   "source": [
    "# GPUs\n",
    ":label:`sec_use_gpu`\n",
    "\n",
    "In :numref:`tab_intro_decade`, we discussed the rapid growth\n",
    "of computation over the past two decades.\n",
    "In a nutshell, GPU performance has increased\n",
    "by a factor of 1000 every decade since 2000.\n",
    "This offers great opportunities but it also suggests\n",
    "a significant need to provide such performance.\n",
    "\n",
    "\n",
    "In this section, we begin to discuss how to harness\n",
    "this computational performance for your research.\n",
    "First by using single GPUs and at a later point,\n",
    "how to use multiple GPUs and multiple servers (with multiple GPUs).\n",
    "\n",
    "Specifically, we will discuss how\n",
    "to use a single NVIDIA GPU for calculations.\n",
    "First, make sure you have at least one NVIDIA GPU installed.\n",
    "Then, download the [NVIDIA driver and CUDA](https://developer.nvidia.com/cuda-downloads)\n",
    "and follow the prompts to set the appropriate path.\n",
    "Once these preparations are complete,\n",
    "the `nvidia-smi` command can be used\n",
    "to (**view the graphics card information**).\n"
   ]
  },
  {
   "cell_type": "code",
   "execution_count": 1,
   "id": "9a318a26",
   "metadata": {
    "execution": {
     "iopub.execute_input": "2022-08-29T23:47:01.778937Z",
     "iopub.status.busy": "2022-08-29T23:47:01.778280Z",
     "iopub.status.idle": "2022-08-29T23:47:02.675385Z",
     "shell.execute_reply": "2022-08-29T23:47:02.674354Z"
    },
    "origin_pos": 2,
    "tab": [
     "tensorflow"
    ]
   },
   "outputs": [
    {
     "name": "stdout",
     "output_type": "stream",
     "text": [
      "Mon Aug 29 23:47:02 2022       \r\n",
      "+-----------------------------------------------------------------------------+\r\n",
      "| NVIDIA-SMI 460.106.00   Driver Version: 460.106.00   CUDA Version: 11.2     |\r\n",
      "|-------------------------------+----------------------+----------------------+\r\n",
      "| GPU  Name        Persistence-M| Bus-Id        Disp.A | Volatile Uncorr. ECC |\r\n",
      "| Fan  Temp  Perf  Pwr:Usage/Cap|         Memory-Usage | GPU-Util  Compute M. |\r\n",
      "|                               |                      |               MIG M. |\r\n",
      "|===============================+======================+======================|\r\n",
      "|   0  Tesla V100-SXM2...  Off  | 00000000:00:1B.0 Off |                    0 |\r\n",
      "| N/A   48C    P0    52W / 300W |   1760MiB / 16160MiB |      0%      Default |\r\n",
      "|                               |                      |                  N/A |\r\n",
      "+-------------------------------+----------------------+----------------------+\r\n"
     ]
    },
    {
     "name": "stdout",
     "output_type": "stream",
     "text": [
      "|   1  Tesla V100-SXM2...  Off  | 00000000:00:1C.0 Off |                    0 |\r\n",
      "| N/A   58C    P0    66W / 300W |      3MiB / 16160MiB |      0%      Default |\r\n",
      "|                               |                      |                  N/A |\r\n",
      "+-------------------------------+----------------------+----------------------+\r\n",
      "|   2  Tesla V100-SXM2...  Off  | 00000000:00:1D.0 Off |                    0 |\r\n",
      "| N/A   39C    P0    37W / 300W |      3MiB / 16160MiB |      0%      Default |\r\n",
      "|                               |                      |                  N/A |\r\n",
      "+-------------------------------+----------------------+----------------------+\r\n",
      "|   3  Tesla V100-SXM2...  Off  | 00000000:00:1E.0 Off |                    0 |\r\n",
      "| N/A   37C    P0    38W / 300W |      3MiB / 16160MiB |      0%      Default |\r\n",
      "|                               |                      |                  N/A |\r\n",
      "+-------------------------------+----------------------+----------------------+\r\n",
      "                                                                               \r\n",
      "+-----------------------------------------------------------------------------+\r\n",
      "| Processes:                                                                  |\r\n",
      "|  GPU   GI   CI        PID   Type   Process name                  GPU Memory |\r\n",
      "|        ID   ID                                                   Usage      |\r\n",
      "|=============================================================================|\r\n",
      "+-----------------------------------------------------------------------------+\r\n"
     ]
    }
   ],
   "source": [
    "!nvidia-smi"
   ]
  },
  {
   "cell_type": "markdown",
   "id": "fd694cd3",
   "metadata": {
    "origin_pos": 5
   },
   "source": [
    "To run the programs in this section,\n",
    "you need at least two GPUs.\n",
    "Note that this might be extravagant for most desktop computers\n",
    "but it is easily available in the cloud, e.g.,\n",
    "by using the AWS EC2 multi-GPU instances.\n",
    "Almost all other sections do *not* require multiple GPUs.\n",
    "Instead, this is simply to illustrate\n",
    "how data flow between different devices.\n",
    "\n",
    "## [**Computing Devices**]\n",
    "\n",
    "We can specify devices, such as CPUs and GPUs,\n",
    "for storage and calculation.\n",
    "By default, tensors are created in the main memory\n",
    "and then use the CPU to calculate it.\n"
   ]
  },
  {
   "cell_type": "code",
   "execution_count": 2,
   "id": "01a1aeee",
   "metadata": {
    "execution": {
     "iopub.execute_input": "2022-08-29T23:47:02.679687Z",
     "iopub.status.busy": "2022-08-29T23:47:02.679105Z",
     "iopub.status.idle": "2022-08-29T23:47:05.346992Z",
     "shell.execute_reply": "2022-08-29T23:47:05.345956Z"
    },
    "origin_pos": 10,
    "tab": [
     "tensorflow"
    ]
   },
   "outputs": [],
   "source": [
    "import tensorflow as tf\n",
    "from d2l import tensorflow as d2l"
   ]
  },
  {
   "cell_type": "code",
   "execution_count": 3,
   "id": "2ecfdb24",
   "metadata": {
    "execution": {
     "iopub.execute_input": "2022-08-29T23:47:05.352322Z",
     "iopub.status.busy": "2022-08-29T23:47:05.351571Z",
     "iopub.status.idle": "2022-08-29T23:47:07.261231Z",
     "shell.execute_reply": "2022-08-29T23:47:07.260442Z"
    },
    "origin_pos": 11,
    "tab": [
     "tensorflow"
    ]
   },
   "outputs": [
    {
     "data": {
      "text/plain": [
       "(<tensorflow.python.eager.context._EagerDeviceContext at 0x7f5138482040>,\n",
       " <tensorflow.python.eager.context._EagerDeviceContext at 0x7f5138559b00>,\n",
       " <tensorflow.python.eager.context._EagerDeviceContext at 0x7f5139bdd540>)"
      ]
     },
     "execution_count": 3,
     "metadata": {},
     "output_type": "execute_result"
    }
   ],
   "source": [
    "def cpu():  #@save\n",
    "    return tf.device('/CPU:0')\n",
    "\n",
    "def gpu(i=0):  #@save\n",
    "    return tf.device(f'/GPU:{i}')\n",
    "\n",
    "cpu(), gpu(), gpu(1)"
   ]
  },
  {
   "cell_type": "markdown",
   "id": "f18888fc",
   "metadata": {
    "origin_pos": 12
   },
   "source": [
    "We can (**query the number of available GPUs.**)\n"
   ]
  },
  {
   "cell_type": "code",
   "execution_count": 4,
   "id": "7e250853",
   "metadata": {
    "execution": {
     "iopub.execute_input": "2022-08-29T23:47:07.264917Z",
     "iopub.status.busy": "2022-08-29T23:47:07.264449Z",
     "iopub.status.idle": "2022-08-29T23:47:07.270062Z",
     "shell.execute_reply": "2022-08-29T23:47:07.269322Z"
    },
    "origin_pos": 13,
    "tab": [
     "tensorflow"
    ]
   },
   "outputs": [
    {
     "data": {
      "text/plain": [
       "2"
      ]
     },
     "execution_count": 4,
     "metadata": {},
     "output_type": "execute_result"
    }
   ],
   "source": [
    "def num_gpus():  #@save\n",
    "    return len(tf.config.experimental.list_physical_devices('GPU'))\n",
    "\n",
    "num_gpus()"
   ]
  },
  {
   "cell_type": "markdown",
   "id": "146b3431",
   "metadata": {
    "origin_pos": 14
   },
   "source": [
    "Now we [**define two convenient functions that allow us\n",
    "to run code even if the requested GPUs do not exist.**]\n"
   ]
  },
  {
   "cell_type": "code",
   "execution_count": 5,
   "id": "067cfd55",
   "metadata": {
    "execution": {
     "iopub.execute_input": "2022-08-29T23:47:07.296486Z",
     "iopub.status.busy": "2022-08-29T23:47:07.295899Z",
     "iopub.status.idle": "2022-08-29T23:47:07.303399Z",
     "shell.execute_reply": "2022-08-29T23:47:07.302626Z"
    },
    "origin_pos": 15,
    "tab": [
     "tensorflow"
    ]
   },
   "outputs": [
    {
     "data": {
      "text/plain": [
       "(<tensorflow.python.eager.context._EagerDeviceContext at 0x7f5138500240>,\n",
       " <tensorflow.python.eager.context._EagerDeviceContext at 0x7f51381f92c0>,\n",
       " [<tensorflow.python.eager.context._EagerDeviceContext at 0x7f51381f9180>,\n",
       "  <tensorflow.python.eager.context._EagerDeviceContext at 0x7f51381f93c0>])"
      ]
     },
     "execution_count": 5,
     "metadata": {},
     "output_type": "execute_result"
    }
   ],
   "source": [
    "def try_gpu(i=0):  #@save\n",
    "    \"\"\"Return gpu(i) if exists, otherwise return cpu().\"\"\"\n",
    "    if num_gpus() >= i + 1:\n",
    "        return gpu(i)\n",
    "    return cpu()\n",
    "\n",
    "def try_all_gpus():  #@save\n",
    "    \"\"\"Return all available GPUs, or [cpu(),] if no GPU exists.\"\"\"\n",
    "    return [gpu(i) for i in range(num_gpus())]\n",
    "\n",
    "try_gpu(), try_gpu(10), try_all_gpus()"
   ]
  },
  {
   "cell_type": "markdown",
   "id": "09a665c0",
   "metadata": {
    "origin_pos": 16
   },
   "source": [
    "## Tensors and GPUs\n",
    "\n",
    "By default, tensors are created on the CPU.\n",
    "We can [**query the device where the tensor is located.**]\n"
   ]
  },
  {
   "cell_type": "code",
   "execution_count": 6,
   "id": "dd185aa0",
   "metadata": {
    "execution": {
     "iopub.execute_input": "2022-08-29T23:47:07.307018Z",
     "iopub.status.busy": "2022-08-29T23:47:07.306470Z",
     "iopub.status.idle": "2022-08-29T23:47:07.314989Z",
     "shell.execute_reply": "2022-08-29T23:47:07.314207Z"
    },
    "origin_pos": 19,
    "tab": [
     "tensorflow"
    ]
   },
   "outputs": [
    {
     "data": {
      "text/plain": [
       "'/job:localhost/replica:0/task:0/device:GPU:0'"
      ]
     },
     "execution_count": 6,
     "metadata": {},
     "output_type": "execute_result"
    }
   ],
   "source": [
    "x = tf.constant([1, 2, 3])\n",
    "x.device"
   ]
  },
  {
   "cell_type": "markdown",
   "id": "1d394cb8",
   "metadata": {
    "origin_pos": 20
   },
   "source": [
    "It is important to note that whenever we want\n",
    "to operate on multiple terms,\n",
    "they need to be on the same device.\n",
    "For instance, if we sum two tensors,\n",
    "we need to make sure that both arguments\n",
    "live on the same device---otherwise the framework\n",
    "would not know where to store the result\n",
    "or even how to decide where to perform the computation.\n",
    "\n",
    "### Storage on the GPU\n",
    "\n",
    "There are several ways to [**store a tensor on the GPU.**]\n",
    "For example, we can specify a storage device when creating a tensor.\n",
    "Next, we create the tensor variable `X` on the first `gpu`.\n",
    "The tensor created on a GPU only consumes the memory of this GPU.\n",
    "We can use the `nvidia-smi` command to view GPU memory usage.\n",
    "In general, we need to make sure that we do not create data that exceeds the GPU memory limit.\n"
   ]
  },
  {
   "cell_type": "code",
   "execution_count": 7,
   "id": "8e0cb862",
   "metadata": {
    "execution": {
     "iopub.execute_input": "2022-08-29T23:47:07.318358Z",
     "iopub.status.busy": "2022-08-29T23:47:07.317936Z",
     "iopub.status.idle": "2022-08-29T23:47:07.324611Z",
     "shell.execute_reply": "2022-08-29T23:47:07.323861Z"
    },
    "origin_pos": 23,
    "tab": [
     "tensorflow"
    ]
   },
   "outputs": [
    {
     "data": {
      "text/plain": [
       "<tf.Tensor: shape=(2, 3), dtype=float32, numpy=\n",
       "array([[1., 1., 1.],\n",
       "       [1., 1., 1.]], dtype=float32)>"
      ]
     },
     "execution_count": 7,
     "metadata": {},
     "output_type": "execute_result"
    }
   ],
   "source": [
    "with try_gpu():\n",
    "    X = tf.ones((2, 3))\n",
    "X"
   ]
  },
  {
   "cell_type": "markdown",
   "id": "801ed236",
   "metadata": {
    "origin_pos": 24
   },
   "source": [
    "Assuming that you have at least two GPUs, the following code will (**create a random tensor on the second GPU.**)\n"
   ]
  },
  {
   "cell_type": "code",
   "execution_count": 8,
   "id": "b43d3ddf",
   "metadata": {
    "execution": {
     "iopub.execute_input": "2022-08-29T23:47:07.328005Z",
     "iopub.status.busy": "2022-08-29T23:47:07.327575Z",
     "iopub.status.idle": "2022-08-29T23:47:07.334616Z",
     "shell.execute_reply": "2022-08-29T23:47:07.333875Z"
    },
    "origin_pos": 27,
    "tab": [
     "tensorflow"
    ]
   },
   "outputs": [
    {
     "data": {
      "text/plain": [
       "<tf.Tensor: shape=(2, 3), dtype=float32, numpy=\n",
       "array([[0.87347054, 0.4167322 , 0.06983936],\n",
       "       [0.37522686, 0.3176515 , 0.2823031 ]], dtype=float32)>"
      ]
     },
     "execution_count": 8,
     "metadata": {},
     "output_type": "execute_result"
    }
   ],
   "source": [
    "with try_gpu(1):\n",
    "    Y = tf.random.uniform((2, 3))\n",
    "Y"
   ]
  },
  {
   "cell_type": "markdown",
   "id": "3926f2da",
   "metadata": {
    "origin_pos": 28
   },
   "source": [
    "### Copying\n",
    "\n",
    "[**If we want to compute `X + Y`,\n",
    "we need to decide where to perform this operation.**]\n",
    "For instance, as shown in :numref:`fig_copyto`,\n",
    "we can transfer `X` to the second GPU\n",
    "and perform the operation there.\n",
    "*Do not* simply add `X` and `Y`,\n",
    "since this will result in an exception.\n",
    "The runtime engine would not know what to do:\n",
    "it cannot find data on the same device and it fails.\n",
    "Since `Y` lives on the second GPU,\n",
    "we need to move `X` there before we can add the two.\n",
    "\n",
    "![Copy data to perform an operation on the same device.](../img/copyto.svg)\n",
    ":label:`fig_copyto`\n"
   ]
  },
  {
   "cell_type": "code",
   "execution_count": 9,
   "id": "de093ff9",
   "metadata": {
    "execution": {
     "iopub.execute_input": "2022-08-29T23:47:07.338021Z",
     "iopub.status.busy": "2022-08-29T23:47:07.337599Z",
     "iopub.status.idle": "2022-08-29T23:47:07.342617Z",
     "shell.execute_reply": "2022-08-29T23:47:07.341854Z"
    },
    "origin_pos": 31,
    "tab": [
     "tensorflow"
    ]
   },
   "outputs": [
    {
     "name": "stdout",
     "output_type": "stream",
     "text": [
      "tf.Tensor(\n",
      "[[1. 1. 1.]\n",
      " [1. 1. 1.]], shape=(2, 3), dtype=float32)\n",
      "tf.Tensor(\n",
      "[[1. 1. 1.]\n",
      " [1. 1. 1.]], shape=(2, 3), dtype=float32)\n"
     ]
    }
   ],
   "source": [
    "with try_gpu(1):\n",
    "    Z = X\n",
    "print(X)\n",
    "print(Z)"
   ]
  },
  {
   "cell_type": "markdown",
   "id": "5d1a7d16",
   "metadata": {
    "origin_pos": 32
   },
   "source": [
    "Now that [**the data is on the same GPU\n",
    "(both `Z` and `Y` are),\n",
    "we can add them up.**]\n"
   ]
  },
  {
   "cell_type": "code",
   "execution_count": 10,
   "id": "828a9ea5",
   "metadata": {
    "execution": {
     "iopub.execute_input": "2022-08-29T23:47:07.346190Z",
     "iopub.status.busy": "2022-08-29T23:47:07.345672Z",
     "iopub.status.idle": "2022-08-29T23:47:07.351552Z",
     "shell.execute_reply": "2022-08-29T23:47:07.350792Z"
    },
    "origin_pos": 33,
    "tab": [
     "tensorflow"
    ]
   },
   "outputs": [
    {
     "data": {
      "text/plain": [
       "<tf.Tensor: shape=(2, 3), dtype=float32, numpy=\n",
       "array([[1.8734705, 1.4167322, 1.0698394],\n",
       "       [1.3752269, 1.3176515, 1.2823031]], dtype=float32)>"
      ]
     },
     "execution_count": 10,
     "metadata": {},
     "output_type": "execute_result"
    }
   ],
   "source": [
    "Y + Z"
   ]
  },
  {
   "cell_type": "markdown",
   "id": "1db7dc0d",
   "metadata": {
    "origin_pos": 36,
    "tab": [
     "tensorflow"
    ]
   },
   "source": [
    "Imagine that your variable `Z` already lives on your second GPU.\n",
    "What happens if we still call `Z2 = Z` under the same device scope?\n",
    "It will return `Z` instead of making a copy and allocating new memory.\n"
   ]
  },
  {
   "cell_type": "code",
   "execution_count": 11,
   "id": "d203ff10",
   "metadata": {
    "execution": {
     "iopub.execute_input": "2022-08-29T23:47:07.355107Z",
     "iopub.status.busy": "2022-08-29T23:47:07.354559Z",
     "iopub.status.idle": "2022-08-29T23:47:07.359754Z",
     "shell.execute_reply": "2022-08-29T23:47:07.358995Z"
    },
    "origin_pos": 39,
    "tab": [
     "tensorflow"
    ]
   },
   "outputs": [
    {
     "data": {
      "text/plain": [
       "True"
      ]
     },
     "execution_count": 11,
     "metadata": {},
     "output_type": "execute_result"
    }
   ],
   "source": [
    "with try_gpu(1):\n",
    "    Z2 = Z\n",
    "Z2 is Z"
   ]
  },
  {
   "cell_type": "markdown",
   "id": "23d64826",
   "metadata": {
    "origin_pos": 40
   },
   "source": [
    "### Side Notes\n",
    "\n",
    "People use GPUs to do machine learning\n",
    "because they expect them to be fast.\n",
    "But transferring variables between devices is slow.\n",
    "So we want you to be 100% certain\n",
    "that you want to do something slow before we let you do it.\n",
    "If the deep learning framework just did the copy automatically\n",
    "without crashing then you might not realize\n",
    "that you had written some slow code.\n",
    "\n",
    "Also, transferring data between devices (CPU, GPUs, and other machines)\n",
    "is something that is much slower than computation.\n",
    "It also makes parallelization a lot more difficult,\n",
    "since we have to wait for data to be sent (or rather to be received)\n",
    "before we can proceed with more operations.\n",
    "This is why copy operations should be taken with great care.\n",
    "As a rule of thumb, many small operations\n",
    "are much worse than one big operation.\n",
    "Moreover, several operations at a time\n",
    "are much better than many single operations interspersed in the code\n",
    "unless you know what you are doing.\n",
    "This is the case since such operations can block if one device\n",
    "has to wait for the other before it can do something else.\n",
    "It is a bit like ordering your coffee in a queue\n",
    "rather than pre-ordering it by phone\n",
    "and finding out that it is ready when you are.\n",
    "\n",
    "Last, when we print tensors or convert tensors to the NumPy format,\n",
    "if the data is not in the main memory,\n",
    "the framework will copy it to the main memory first,\n",
    "resulting in additional transmission overhead.\n",
    "Even worse, it is now subject to the dreaded global interpreter lock\n",
    "that makes everything wait for Python to complete.\n",
    "\n",
    "\n",
    "## [**Neural Networks and GPUs**]\n",
    "\n",
    "Similarly, a neural network model can specify devices.\n",
    "The following code puts the model parameters on the GPU.\n"
   ]
  },
  {
   "cell_type": "code",
   "execution_count": 12,
   "id": "f1670de5",
   "metadata": {
    "execution": {
     "iopub.execute_input": "2022-08-29T23:47:07.363221Z",
     "iopub.status.busy": "2022-08-29T23:47:07.362700Z",
     "iopub.status.idle": "2022-08-29T23:47:07.383888Z",
     "shell.execute_reply": "2022-08-29T23:47:07.383054Z"
    },
    "origin_pos": 43,
    "tab": [
     "tensorflow"
    ]
   },
   "outputs": [
    {
     "name": "stdout",
     "output_type": "stream",
     "text": [
      "INFO:tensorflow:Using MirroredStrategy with devices ('/job:localhost/replica:0/task:0/device:GPU:0', '/job:localhost/replica:0/task:0/device:GPU:1')\n"
     ]
    }
   ],
   "source": [
    "strategy = tf.distribute.MirroredStrategy()\n",
    "with strategy.scope():\n",
    "    net = tf.keras.models.Sequential([\n",
    "        tf.keras.layers.Dense(1)])"
   ]
  },
  {
   "cell_type": "markdown",
   "id": "271cf31d",
   "metadata": {
    "origin_pos": 44
   },
   "source": [
    "We will see many more examples of\n",
    "how to run models on GPUs in the following chapters,\n",
    "simply since they will become somewhat more computationally intensive.\n",
    "\n",
    "When the input is a tensor on the GPU, the model will calculate the result on the same GPU.\n"
   ]
  },
  {
   "cell_type": "code",
   "execution_count": 13,
   "id": "d561ed33",
   "metadata": {
    "execution": {
     "iopub.execute_input": "2022-08-29T23:47:07.387582Z",
     "iopub.status.busy": "2022-08-29T23:47:07.387135Z",
     "iopub.status.idle": "2022-08-29T23:47:07.960532Z",
     "shell.execute_reply": "2022-08-29T23:47:07.959729Z"
    },
    "origin_pos": 45,
    "tab": [
     "tensorflow"
    ]
   },
   "outputs": [
    {
     "data": {
      "text/plain": [
       "<tf.Tensor: shape=(2, 1), dtype=float32, numpy=\n",
       "array([[0.59118944],\n",
       "       [0.59118944]], dtype=float32)>"
      ]
     },
     "execution_count": 13,
     "metadata": {},
     "output_type": "execute_result"
    }
   ],
   "source": [
    "net(X)"
   ]
  },
  {
   "cell_type": "markdown",
   "id": "b9dc3ffe",
   "metadata": {
    "origin_pos": 46
   },
   "source": [
    "Let's (**confirm that the model parameters are stored on the same GPU.**)\n"
   ]
  },
  {
   "cell_type": "code",
   "execution_count": 14,
   "id": "f719de29",
   "metadata": {
    "execution": {
     "iopub.execute_input": "2022-08-29T23:47:07.964366Z",
     "iopub.status.busy": "2022-08-29T23:47:07.963793Z",
     "iopub.status.idle": "2022-08-29T23:47:07.969495Z",
     "shell.execute_reply": "2022-08-29T23:47:07.968763Z"
    },
    "origin_pos": 49,
    "tab": [
     "tensorflow"
    ]
   },
   "outputs": [
    {
     "data": {
      "text/plain": [
       "('/job:localhost/replica:0/task:0/device:GPU:0',\n",
       " '/job:localhost/replica:0/task:0/device:GPU:0')"
      ]
     },
     "execution_count": 14,
     "metadata": {},
     "output_type": "execute_result"
    }
   ],
   "source": [
    "net.layers[0].weights[0].device, net.layers[0].weights[1].device"
   ]
  },
  {
   "cell_type": "markdown",
   "id": "49f2024d",
   "metadata": {
    "origin_pos": 50
   },
   "source": [
    "Let the trainer support GPU.\n"
   ]
  },
  {
   "cell_type": "markdown",
   "id": "04d7a5ca",
   "metadata": {
    "origin_pos": 53
   },
   "source": [
    "In short, as long as all data and parameters are on the same device, we can learn models efficiently. In the following chapters we will see several such examples.\n",
    "\n",
    "## Summary\n",
    "\n",
    "* We can specify devices for storage and calculation, such as the CPU or GPU.\n",
    "  By default, data is created in the main memory\n",
    "  and then uses the CPU for calculations.\n",
    "* The deep learning framework requires all input data for calculation\n",
    "  to be on the same device,\n",
    "  be it CPU or the same GPU.\n",
    "* You can lose significant performance by moving data without care.\n",
    "  A typical mistake is as follows: computing the loss\n",
    "  for every minibatch on the GPU and reporting it back\n",
    "  to the user on the command line (or logging it in a NumPy `ndarray`)\n",
    "  will trigger a global interpreter lock which stalls all GPUs.\n",
    "  It is much better to allocate memory\n",
    "  for logging inside the GPU and only move larger logs.\n",
    "\n",
    "## Exercises\n",
    "\n",
    "1. Try a larger computation task, such as the multiplication of large matrices,\n",
    "   and see the difference in speed between the CPU and GPU.\n",
    "   What about a task with a small amount of calculations?\n",
    "1. How should we read and write model parameters on the GPU?\n",
    "1. Measure the time it takes to compute 1000\n",
    "   matrix-matrix multiplications of $100 \\times 100$ matrices\n",
    "   and log the Frobenius norm of the output matrix one result at a time\n",
    "   vs. keeping a log on the GPU and transferring only the final result.\n",
    "1. Measure how much time it takes to perform two matrix-matrix multiplications\n",
    "   on two GPUs at the same time vs. in sequence\n",
    "   on one GPU. Hint: you should see almost linear scaling.\n"
   ]
  },
  {
   "cell_type": "markdown",
   "id": "5d3ffa54",
   "metadata": {
    "origin_pos": 56,
    "tab": [
     "tensorflow"
    ]
   },
   "source": [
    "[Discussions](https://discuss.d2l.ai/t/270)\n"
   ]
  }
 ],
 "metadata": {
  "kernelspec": {
   "display_name": "conda_tensorflow_p36",
   "name": "conda_tensorflow_p36"
  },
  "language_info": {
   "name": "python"
  }
 },
 "nbformat": 4,
 "nbformat_minor": 5
}