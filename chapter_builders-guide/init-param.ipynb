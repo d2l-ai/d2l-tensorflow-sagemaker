{
 "cells": [
  {
   "cell_type": "markdown",
   "id": "d8fa5ca3",
   "metadata": {
    "origin_pos": 0
   },
   "source": [
    "# Parameter Initialization\n",
    "\n",
    "Now that we know how to access the parameters,\n",
    "let's look at how to initialize them properly.\n",
    "We discussed the need for proper initialization in :numref:`sec_numerical_stability`.\n",
    "The deep learning framework provides default random initializations to its layers.\n",
    "However, we often want to initialize our weights\n",
    "according to various other protocols. The framework provides most commonly\n",
    "used protocols, and also allows to create a custom initializer.\n"
   ]
  },
  {
   "cell_type": "markdown",
   "id": "19c22f09",
   "metadata": {
    "origin_pos": 3,
    "tab": [
     "tensorflow"
    ]
   },
   "source": [
    "By default, Keras initializes weight matrices uniformly by drawing from a range that is computed according to the input and output dimension, and the bias parameters are all set to zero.\n",
    "TensorFlow provides a variety of initialization methods both in the root module and the `keras.initializers` module.\n"
   ]
  },
  {
   "cell_type": "code",
   "execution_count": 1,
   "id": "63abe784",
   "metadata": {
    "attributes": {
     "classes": [],
     "id": "",
     "n": "4"
    },
    "execution": {
     "iopub.execute_input": "2022-08-30T00:19:21.069329Z",
     "iopub.status.busy": "2022-08-30T00:19:21.068571Z",
     "iopub.status.idle": "2022-08-30T00:19:23.275881Z",
     "shell.execute_reply": "2022-08-30T00:19:23.274384Z"
    },
    "origin_pos": 7,
    "tab": [
     "tensorflow"
    ]
   },
   "outputs": [
    {
     "data": {
      "text/plain": [
       "TensorShape([2, 1])"
      ]
     },
     "execution_count": 1,
     "metadata": {},
     "output_type": "execute_result"
    }
   ],
   "source": [
    "import tensorflow as tf\n",
    "\n",
    "net = tf.keras.models.Sequential([\n",
    "    tf.keras.layers.Flatten(),\n",
    "    tf.keras.layers.Dense(4, activation=tf.nn.relu),\n",
    "    tf.keras.layers.Dense(1),\n",
    "])\n",
    "\n",
    "X = tf.random.uniform((2, 4))\n",
    "net(X).shape"
   ]
  },
  {
   "cell_type": "markdown",
   "id": "74667bb0",
   "metadata": {
    "origin_pos": 8
   },
   "source": [
    "## [**Built-in Initialization**]\n",
    "\n",
    "Let's begin by calling on built-in initializers.\n",
    "The code below initializes all weight parameters\n",
    "as Gaussian random variables\n",
    "with standard deviation 0.01, while bias parameters cleared to zero.\n"
   ]
  },
  {
   "cell_type": "code",
   "execution_count": 2,
   "id": "8682ece3",
   "metadata": {
    "attributes": {
     "classes": [],
     "id": "",
     "n": "7"
    },
    "execution": {
     "iopub.execute_input": "2022-08-30T00:19:23.280283Z",
     "iopub.status.busy": "2022-08-30T00:19:23.279647Z",
     "iopub.status.idle": "2022-08-30T00:19:23.314741Z",
     "shell.execute_reply": "2022-08-30T00:19:23.313544Z"
    },
    "origin_pos": 11,
    "tab": [
     "tensorflow"
    ]
   },
   "outputs": [
    {
     "data": {
      "text/plain": [
       "(<tf.Variable 'dense_2/kernel:0' shape=(4, 4) dtype=float32, numpy=\n",
       " array([[-4.3637343e-03,  1.4685265e-02,  1.1814130e-02,  1.0973577e-02],\n",
       "        [ 4.1117594e-03, -1.4918787e-02, -2.7245909e-03,  2.2734334e-03],\n",
       "        [-2.3910873e-02, -2.1292072e-02, -1.7594380e-02,  2.9788772e-03],\n",
       "        [-2.9245612e-05,  1.7144383e-03,  2.0546305e-03,  1.0586854e-03]],\n",
       "       dtype=float32)>,\n",
       " <tf.Variable 'dense_2/bias:0' shape=(4,) dtype=float32, numpy=array([0., 0., 0., 0.], dtype=float32)>)"
      ]
     },
     "execution_count": 2,
     "metadata": {},
     "output_type": "execute_result"
    }
   ],
   "source": [
    "net = tf.keras.models.Sequential([\n",
    "    tf.keras.layers.Flatten(),\n",
    "    tf.keras.layers.Dense(\n",
    "        4, activation=tf.nn.relu,\n",
    "        kernel_initializer=tf.random_normal_initializer(mean=0, stddev=0.01),\n",
    "        bias_initializer=tf.zeros_initializer()),\n",
    "    tf.keras.layers.Dense(1)])\n",
    "\n",
    "net(X)\n",
    "net.weights[0], net.weights[1]"
   ]
  },
  {
   "cell_type": "markdown",
   "id": "d406e622",
   "metadata": {
    "origin_pos": 12
   },
   "source": [
    "We can also initialize all the parameters\n",
    "to a given constant value (say, 1).\n"
   ]
  },
  {
   "cell_type": "code",
   "execution_count": 3,
   "id": "425ab732",
   "metadata": {
    "attributes": {
     "classes": [],
     "id": "",
     "n": "10"
    },
    "execution": {
     "iopub.execute_input": "2022-08-30T00:19:23.318810Z",
     "iopub.status.busy": "2022-08-30T00:19:23.318241Z",
     "iopub.status.idle": "2022-08-30T00:19:23.351895Z",
     "shell.execute_reply": "2022-08-30T00:19:23.350728Z"
    },
    "origin_pos": 15,
    "tab": [
     "tensorflow"
    ]
   },
   "outputs": [
    {
     "data": {
      "text/plain": [
       "(<tf.Variable 'dense_4/kernel:0' shape=(4, 4) dtype=float32, numpy=\n",
       " array([[1., 1., 1., 1.],\n",
       "        [1., 1., 1., 1.],\n",
       "        [1., 1., 1., 1.],\n",
       "        [1., 1., 1., 1.]], dtype=float32)>,\n",
       " <tf.Variable 'dense_4/bias:0' shape=(4,) dtype=float32, numpy=array([0., 0., 0., 0.], dtype=float32)>)"
      ]
     },
     "execution_count": 3,
     "metadata": {},
     "output_type": "execute_result"
    }
   ],
   "source": [
    "net = tf.keras.models.Sequential([\n",
    "    tf.keras.layers.Flatten(),\n",
    "    tf.keras.layers.Dense(\n",
    "        4, activation=tf.nn.relu,\n",
    "        kernel_initializer=tf.keras.initializers.Constant(1),\n",
    "        bias_initializer=tf.zeros_initializer()),\n",
    "    tf.keras.layers.Dense(1),\n",
    "])\n",
    "\n",
    "net(X)\n",
    "net.weights[0], net.weights[1]"
   ]
  },
  {
   "cell_type": "markdown",
   "id": "0fa5ab26",
   "metadata": {
    "origin_pos": 16
   },
   "source": [
    "[**We can also apply different initializers for certain blocks.**]\n",
    "For example, below we initialize the first layer\n",
    "with the Xavier initializer\n",
    "and initialize the second layer\n",
    "to a constant value of 42.\n"
   ]
  },
  {
   "cell_type": "code",
   "execution_count": 4,
   "id": "0fd5680f",
   "metadata": {
    "attributes": {
     "classes": [],
     "id": "",
     "n": "13"
    },
    "execution": {
     "iopub.execute_input": "2022-08-30T00:19:23.355967Z",
     "iopub.status.busy": "2022-08-30T00:19:23.355333Z",
     "iopub.status.idle": "2022-08-30T00:19:23.388085Z",
     "shell.execute_reply": "2022-08-30T00:19:23.386885Z"
    },
    "origin_pos": 19,
    "tab": [
     "tensorflow"
    ]
   },
   "outputs": [
    {
     "name": "stdout",
     "output_type": "stream",
     "text": [
      "<tf.Variable 'dense_6/kernel:0' shape=(4, 4) dtype=float32, numpy=\n",
      "array([[ 0.62105197,  0.0110271 ,  0.77947575,  0.42430252],\n",
      "       [ 0.7728824 , -0.06041008,  0.7212722 ,  0.3408653 ],\n",
      "       [-0.23351735, -0.16163725,  0.8497241 , -0.29418987],\n",
      "       [-0.52923286, -0.5558266 , -0.1514526 , -0.73771775]],\n",
      "      dtype=float32)>\n",
      "<tf.Variable 'dense_7/kernel:0' shape=(4, 1) dtype=float32, numpy=\n",
      "array([[42.],\n",
      "       [42.],\n",
      "       [42.],\n",
      "       [42.]], dtype=float32)>\n"
     ]
    }
   ],
   "source": [
    "net = tf.keras.models.Sequential([\n",
    "    tf.keras.layers.Flatten(),\n",
    "    tf.keras.layers.Dense(\n",
    "        4,\n",
    "        activation=tf.nn.relu,\n",
    "        kernel_initializer=tf.keras.initializers.GlorotUniform()),\n",
    "    tf.keras.layers.Dense(\n",
    "        1, kernel_initializer=tf.keras.initializers.Constant(42)),\n",
    "])\n",
    "\n",
    "net(X)\n",
    "print(net.layers[1].weights[0])\n",
    "print(net.layers[2].weights[0])"
   ]
  },
  {
   "cell_type": "markdown",
   "id": "620df184",
   "metadata": {
    "origin_pos": 20
   },
   "source": [
    "### [**Custom Initialization**]\n",
    "\n",
    "Sometimes, the initialization methods we need\n",
    "are not provided by the deep learning framework.\n",
    "In the example below, we define an initializer\n",
    "for any weight parameter $w$ using the following strange distribution:\n",
    "\n",
    "$$\n",
    "\\begin{aligned}\n",
    "    w \\sim \\begin{cases}\n",
    "        U(5, 10) & \\text{ with probability } \\frac{1}{4} \\\\\n",
    "            0    & \\text{ with probability } \\frac{1}{2} \\\\\n",
    "        U(-10, -5) & \\text{ with probability } \\frac{1}{4}\n",
    "    \\end{cases}\n",
    "\\end{aligned}\n",
    "$$\n"
   ]
  },
  {
   "cell_type": "markdown",
   "id": "71f0e1e3",
   "metadata": {
    "origin_pos": 23,
    "tab": [
     "tensorflow"
    ]
   },
   "source": [
    "Here we define a subclass of `Initializer` and implement the `__call__`\n",
    "function that return a desired tensor given the shape and data type.\n"
   ]
  },
  {
   "cell_type": "code",
   "execution_count": 5,
   "id": "86629a67",
   "metadata": {
    "attributes": {
     "classes": [],
     "id": "",
     "n": "16"
    },
    "execution": {
     "iopub.execute_input": "2022-08-30T00:19:23.392832Z",
     "iopub.status.busy": "2022-08-30T00:19:23.391866Z",
     "iopub.status.idle": "2022-08-30T00:19:23.425608Z",
     "shell.execute_reply": "2022-08-30T00:19:23.424394Z"
    },
    "origin_pos": 26,
    "tab": [
     "tensorflow"
    ]
   },
   "outputs": [
    {
     "name": "stdout",
     "output_type": "stream",
     "text": [
      "<tf.Variable 'dense_8/kernel:0' shape=(4, 4) dtype=float32, numpy=\n",
      "array([[ 6.262211 ,  0.       ,  0.       ,  7.670639 ],\n",
      "       [ 8.288603 ,  8.044296 ,  6.477192 , -0.       ],\n",
      "       [-0.       ,  0.       , -0.       , -0.       ],\n",
      "       [-0.       , -0.       , -7.4122763, -5.566807 ]], dtype=float32)>\n"
     ]
    }
   ],
   "source": [
    "class MyInit(tf.keras.initializers.Initializer):\n",
    "    def __call__(self, shape, dtype=None):\n",
    "        data=tf.random.uniform(shape, -10, 10, dtype=dtype)\n",
    "        factor=(tf.abs(data) >= 5)\n",
    "        factor=tf.cast(factor, tf.float32)\n",
    "        return data * factor\n",
    "\n",
    "net = tf.keras.models.Sequential([\n",
    "    tf.keras.layers.Flatten(),\n",
    "    tf.keras.layers.Dense(\n",
    "        4,\n",
    "        activation=tf.nn.relu,\n",
    "        kernel_initializer=MyInit()),\n",
    "    tf.keras.layers.Dense(1),\n",
    "])\n",
    "\n",
    "net(X)\n",
    "print(net.layers[1].weights[0])"
   ]
  },
  {
   "cell_type": "markdown",
   "id": "fbb3b1a2",
   "metadata": {
    "origin_pos": 27
   },
   "source": [
    "Note that we always have the option\n",
    "of setting parameters directly.\n"
   ]
  },
  {
   "cell_type": "code",
   "execution_count": 6,
   "id": "0630469f",
   "metadata": {
    "attributes": {
     "classes": [],
     "id": "",
     "n": "19"
    },
    "execution": {
     "iopub.execute_input": "2022-08-30T00:19:23.430042Z",
     "iopub.status.busy": "2022-08-30T00:19:23.429117Z",
     "iopub.status.idle": "2022-08-30T00:19:23.440811Z",
     "shell.execute_reply": "2022-08-30T00:19:23.439626Z"
    },
    "origin_pos": 30,
    "tab": [
     "tensorflow"
    ]
   },
   "outputs": [
    {
     "data": {
      "text/plain": [
       "<tf.Variable 'dense_8/kernel:0' shape=(4, 4) dtype=float32, numpy=\n",
       "array([[42.       ,  1.       ,  1.       ,  8.670639 ],\n",
       "       [ 9.288603 ,  9.044296 ,  7.477192 ,  1.       ],\n",
       "       [ 1.       ,  1.       ,  1.       ,  1.       ],\n",
       "       [ 1.       ,  1.       , -6.4122763, -4.566807 ]], dtype=float32)>"
      ]
     },
     "execution_count": 6,
     "metadata": {},
     "output_type": "execute_result"
    }
   ],
   "source": [
    "net.layers[1].weights[0][:].assign(net.layers[1].weights[0] + 1)\n",
    "net.layers[1].weights[0][0, 0].assign(42)\n",
    "net.layers[1].weights[0]"
   ]
  },
  {
   "cell_type": "markdown",
   "id": "548201b7",
   "metadata": {
    "origin_pos": 31
   },
   "source": [
    "## Summary\n",
    "\n",
    "We can initialize parameters using built-in and custom initializers.\n",
    "\n",
    "## Exercises\n",
    "\n",
    "Look up the online documentation for more built-in initializers.\n"
   ]
  },
  {
   "cell_type": "markdown",
   "id": "6ed079cd",
   "metadata": {
    "origin_pos": 34,
    "tab": [
     "tensorflow"
    ]
   },
   "source": [
    "[Discussions](https://discuss.d2l.ai/t/8091)\n"
   ]
  }
 ],
 "metadata": {
  "kernelspec": {
   "display_name": "conda_tensorflow_p36",
   "name": "conda_tensorflow_p36"
  },
  "language_info": {
   "name": "python"
  }
 },
 "nbformat": 4,
 "nbformat_minor": 5
}