{
 "cells": [
  {
   "cell_type": "markdown",
   "id": "6fd343d1",
   "metadata": {
    "origin_pos": 1
   },
   "source": [
    "# Parameter Initialization\n",
    "\n",
    "Now that we know how to access the parameters,\n",
    "let's look at how to initialize them properly.\n",
    "We discussed the need for proper initialization in :numref:`sec_numerical_stability`.\n",
    "The deep learning framework provides default random initializations to its layers.\n",
    "However, we often want to initialize our weights\n",
    "according to various other protocols. The framework provides most commonly\n",
    "used protocols, and also allows to create a custom initializer.\n"
   ]
  },
  {
   "cell_type": "code",
   "execution_count": 1,
   "id": "7a66dace",
   "metadata": {
    "execution": {
     "iopub.execute_input": "2023-08-18T19:57:04.423732Z",
     "iopub.status.busy": "2023-08-18T19:57:04.423229Z",
     "iopub.status.idle": "2023-08-18T19:57:07.188213Z",
     "shell.execute_reply": "2023-08-18T19:57:07.187270Z"
    },
    "origin_pos": 4,
    "tab": [
     "tensorflow"
    ]
   },
   "outputs": [],
   "source": [
    "import tensorflow as tf"
   ]
  },
  {
   "cell_type": "markdown",
   "id": "25287653",
   "metadata": {
    "origin_pos": 8,
    "tab": [
     "tensorflow"
    ]
   },
   "source": [
    "By default, Keras initializes weight matrices uniformly by drawing from a range that is computed according to the input and output dimension, and the bias parameters are all set to zero.\n",
    "TensorFlow provides a variety of initialization methods both in the root module and the `keras.initializers` module.\n"
   ]
  },
  {
   "cell_type": "code",
   "execution_count": 2,
   "id": "9dd47f97",
   "metadata": {
    "execution": {
     "iopub.execute_input": "2023-08-18T19:57:07.192629Z",
     "iopub.status.busy": "2023-08-18T19:57:07.191704Z",
     "iopub.status.idle": "2023-08-18T19:57:08.411691Z",
     "shell.execute_reply": "2023-08-18T19:57:08.410646Z"
    },
    "origin_pos": 12,
    "tab": [
     "tensorflow"
    ]
   },
   "outputs": [
    {
     "data": {
      "text/plain": [
       "TensorShape([2, 1])"
      ]
     },
     "execution_count": 2,
     "metadata": {},
     "output_type": "execute_result"
    }
   ],
   "source": [
    "net = tf.keras.models.Sequential([\n",
    "    tf.keras.layers.Flatten(),\n",
    "    tf.keras.layers.Dense(4, activation=tf.nn.relu),\n",
    "    tf.keras.layers.Dense(1),\n",
    "])\n",
    "\n",
    "X = tf.random.uniform((2, 4))\n",
    "net(X).shape"
   ]
  },
  {
   "cell_type": "markdown",
   "id": "de91e2e7",
   "metadata": {
    "origin_pos": 14
   },
   "source": [
    "## [**Built-in Initialization**]\n",
    "\n",
    "Let's begin by calling on built-in initializers.\n",
    "The code below initializes all weight parameters\n",
    "as Gaussian random variables\n",
    "with standard deviation 0.01, while bias parameters are cleared to zero.\n"
   ]
  },
  {
   "cell_type": "code",
   "execution_count": 3,
   "id": "3acefe07",
   "metadata": {
    "execution": {
     "iopub.execute_input": "2023-08-18T19:57:08.415979Z",
     "iopub.status.busy": "2023-08-18T19:57:08.415286Z",
     "iopub.status.idle": "2023-08-18T19:57:08.467318Z",
     "shell.execute_reply": "2023-08-18T19:57:08.466491Z"
    },
    "origin_pos": 17,
    "tab": [
     "tensorflow"
    ]
   },
   "outputs": [
    {
     "data": {
      "text/plain": [
       "(<tf.Variable 'dense_2/kernel:0' shape=(4, 4) dtype=float32, numpy=\n",
       " array([[-0.02287503, -0.00437018, -0.00140329, -0.00622254],\n",
       "        [ 0.00495972,  0.00324918, -0.00965284, -0.00612193],\n",
       "        [-0.00183808, -0.00826601, -0.00676942,  0.00917007],\n",
       "        [ 0.00847368, -0.00507652, -0.00761351, -0.00762984]],\n",
       "       dtype=float32)>,\n",
       " <tf.Variable 'dense_2/bias:0' shape=(4,) dtype=float32, numpy=array([0., 0., 0., 0.], dtype=float32)>)"
      ]
     },
     "execution_count": 3,
     "metadata": {},
     "output_type": "execute_result"
    }
   ],
   "source": [
    "net = tf.keras.models.Sequential([\n",
    "    tf.keras.layers.Flatten(),\n",
    "    tf.keras.layers.Dense(\n",
    "        4, activation=tf.nn.relu,\n",
    "        kernel_initializer=tf.random_normal_initializer(mean=0, stddev=0.01),\n",
    "        bias_initializer=tf.zeros_initializer()),\n",
    "    tf.keras.layers.Dense(1)])\n",
    "\n",
    "net(X)\n",
    "net.weights[0], net.weights[1]"
   ]
  },
  {
   "cell_type": "markdown",
   "id": "b7fe50e1",
   "metadata": {
    "origin_pos": 19
   },
   "source": [
    "We can also initialize all the parameters\n",
    "to a given constant value (say, 1).\n"
   ]
  },
  {
   "cell_type": "code",
   "execution_count": 4,
   "id": "72981093",
   "metadata": {
    "execution": {
     "iopub.execute_input": "2023-08-18T19:57:08.470775Z",
     "iopub.status.busy": "2023-08-18T19:57:08.470225Z",
     "iopub.status.idle": "2023-08-18T19:57:08.503817Z",
     "shell.execute_reply": "2023-08-18T19:57:08.503004Z"
    },
    "origin_pos": 22,
    "tab": [
     "tensorflow"
    ]
   },
   "outputs": [
    {
     "data": {
      "text/plain": [
       "(<tf.Variable 'dense_4/kernel:0' shape=(4, 4) dtype=float32, numpy=\n",
       " array([[1., 1., 1., 1.],\n",
       "        [1., 1., 1., 1.],\n",
       "        [1., 1., 1., 1.],\n",
       "        [1., 1., 1., 1.]], dtype=float32)>,\n",
       " <tf.Variable 'dense_4/bias:0' shape=(4,) dtype=float32, numpy=array([0., 0., 0., 0.], dtype=float32)>)"
      ]
     },
     "execution_count": 4,
     "metadata": {},
     "output_type": "execute_result"
    }
   ],
   "source": [
    "net = tf.keras.models.Sequential([\n",
    "    tf.keras.layers.Flatten(),\n",
    "    tf.keras.layers.Dense(\n",
    "        4, activation=tf.nn.relu,\n",
    "        kernel_initializer=tf.keras.initializers.Constant(1),\n",
    "        bias_initializer=tf.zeros_initializer()),\n",
    "    tf.keras.layers.Dense(1),\n",
    "])\n",
    "\n",
    "net(X)\n",
    "net.weights[0], net.weights[1]"
   ]
  },
  {
   "cell_type": "markdown",
   "id": "6b49046d",
   "metadata": {
    "origin_pos": 24
   },
   "source": [
    "[**We can also apply different initializers for certain blocks.**]\n",
    "For example, below we initialize the first layer\n",
    "with the Xavier initializer\n",
    "and initialize the second layer\n",
    "to a constant value of 42.\n"
   ]
  },
  {
   "cell_type": "code",
   "execution_count": 5,
   "id": "c403f258",
   "metadata": {
    "execution": {
     "iopub.execute_input": "2023-08-18T19:57:08.507120Z",
     "iopub.status.busy": "2023-08-18T19:57:08.506587Z",
     "iopub.status.idle": "2023-08-18T19:57:08.538074Z",
     "shell.execute_reply": "2023-08-18T19:57:08.537267Z"
    },
    "origin_pos": 27,
    "tab": [
     "tensorflow"
    ]
   },
   "outputs": [
    {
     "name": "stdout",
     "output_type": "stream",
     "text": [
      "<tf.Variable 'dense_6/kernel:0' shape=(4, 4) dtype=float32, numpy=\n",
      "array([[ 0.54234487,  0.2669801 , -0.2516024 ,  0.1076265 ],\n",
      "       [ 0.30622882,  0.30598146, -0.4484879 ,  0.07192796],\n",
      "       [ 0.36688513,  0.3838529 ,  0.40699893,  0.577269  ],\n",
      "       [-0.2649538 ,  0.43839508, -0.3203209 ,  0.29825717]],\n",
      "      dtype=float32)>\n",
      "<tf.Variable 'dense_7/kernel:0' shape=(4, 1) dtype=float32, numpy=\n",
      "array([[42.],\n",
      "       [42.],\n",
      "       [42.],\n",
      "       [42.]], dtype=float32)>\n"
     ]
    }
   ],
   "source": [
    "net = tf.keras.models.Sequential([\n",
    "    tf.keras.layers.Flatten(),\n",
    "    tf.keras.layers.Dense(\n",
    "        4,\n",
    "        activation=tf.nn.relu,\n",
    "        kernel_initializer=tf.keras.initializers.GlorotUniform()),\n",
    "    tf.keras.layers.Dense(\n",
    "        1, kernel_initializer=tf.keras.initializers.Constant(42)),\n",
    "])\n",
    "\n",
    "net(X)\n",
    "print(net.layers[1].weights[0])\n",
    "print(net.layers[2].weights[0])"
   ]
  },
  {
   "cell_type": "markdown",
   "id": "d69997a4",
   "metadata": {
    "origin_pos": 29
   },
   "source": [
    "### [**Custom Initialization**]\n",
    "\n",
    "Sometimes, the initialization methods we need\n",
    "are not provided by the deep learning framework.\n",
    "In the example below, we define an initializer\n",
    "for any weight parameter $w$ using the following strange distribution:\n",
    "\n",
    "$$\n",
    "\\begin{aligned}\n",
    "    w \\sim \\begin{cases}\n",
    "        U(5, 10) & \\textrm{ with probability } \\frac{1}{4} \\\\\n",
    "            0    & \\textrm{ with probability } \\frac{1}{2} \\\\\n",
    "        U(-10, -5) & \\textrm{ with probability } \\frac{1}{4}\n",
    "    \\end{cases}\n",
    "\\end{aligned}\n",
    "$$\n"
   ]
  },
  {
   "cell_type": "markdown",
   "id": "99ed7128",
   "metadata": {
    "origin_pos": 32,
    "tab": [
     "tensorflow"
    ]
   },
   "source": [
    "Here we define a subclass of `Initializer` and implement the `__call__`\n",
    "function that return a desired tensor given the shape and data type.\n"
   ]
  },
  {
   "cell_type": "code",
   "execution_count": 6,
   "id": "fb264aeb",
   "metadata": {
    "execution": {
     "iopub.execute_input": "2023-08-18T19:57:08.541404Z",
     "iopub.status.busy": "2023-08-18T19:57:08.540836Z",
     "iopub.status.idle": "2023-08-18T19:57:08.578303Z",
     "shell.execute_reply": "2023-08-18T19:57:08.577520Z"
    },
    "origin_pos": 36,
    "tab": [
     "tensorflow"
    ]
   },
   "outputs": [
    {
     "name": "stdout",
     "output_type": "stream",
     "text": [
      "<tf.Variable 'dense_8/kernel:0' shape=(4, 4) dtype=float32, numpy=\n",
      "array([[-8.454213 , -0.       ,  0.       , -0.       ],\n",
      "       [-9.362183 ,  0.       ,  0.       ,  0.       ],\n",
      "       [-0.       , -9.406505 , -0.       , -0.       ],\n",
      "       [ 6.2464294, -0.       , -0.       , -9.80323  ]], dtype=float32)>\n"
     ]
    }
   ],
   "source": [
    "class MyInit(tf.keras.initializers.Initializer):\n",
    "    def __call__(self, shape, dtype=None):\n",
    "        data=tf.random.uniform(shape, -10, 10, dtype=dtype)\n",
    "        factor=(tf.abs(data) >= 5)\n",
    "        factor=tf.cast(factor, tf.float32)\n",
    "        return data * factor\n",
    "\n",
    "net = tf.keras.models.Sequential([\n",
    "    tf.keras.layers.Flatten(),\n",
    "    tf.keras.layers.Dense(\n",
    "        4,\n",
    "        activation=tf.nn.relu,\n",
    "        kernel_initializer=MyInit()),\n",
    "    tf.keras.layers.Dense(1),\n",
    "])\n",
    "\n",
    "net(X)\n",
    "print(net.layers[1].weights[0])"
   ]
  },
  {
   "cell_type": "markdown",
   "id": "8c2a8929",
   "metadata": {
    "origin_pos": 38,
    "tab": [
     "tensorflow"
    ]
   },
   "source": [
    "Note that we always have the option\n",
    "of setting parameters directly.\n"
   ]
  },
  {
   "cell_type": "code",
   "execution_count": 7,
   "id": "1ecd205e",
   "metadata": {
    "execution": {
     "iopub.execute_input": "2023-08-18T19:57:08.581513Z",
     "iopub.status.busy": "2023-08-18T19:57:08.580953Z",
     "iopub.status.idle": "2023-08-18T19:57:08.593940Z",
     "shell.execute_reply": "2023-08-18T19:57:08.593148Z"
    },
    "origin_pos": 42,
    "tab": [
     "tensorflow"
    ]
   },
   "outputs": [
    {
     "data": {
      "text/plain": [
       "<tf.Variable 'dense_8/kernel:0' shape=(4, 4) dtype=float32, numpy=\n",
       "array([[42.       ,  1.       ,  1.       ,  1.       ],\n",
       "       [-8.362183 ,  1.       ,  1.       ,  1.       ],\n",
       "       [ 1.       , -8.406505 ,  1.       ,  1.       ],\n",
       "       [ 7.2464294,  1.       ,  1.       , -8.80323  ]], dtype=float32)>"
      ]
     },
     "execution_count": 7,
     "metadata": {},
     "output_type": "execute_result"
    }
   ],
   "source": [
    "net.layers[1].weights[0][:].assign(net.layers[1].weights[0] + 1)\n",
    "net.layers[1].weights[0][0, 0].assign(42)\n",
    "net.layers[1].weights[0]"
   ]
  },
  {
   "cell_type": "markdown",
   "id": "bf3e9694",
   "metadata": {
    "origin_pos": 43
   },
   "source": [
    "## Summary\n",
    "\n",
    "We can initialize parameters using built-in and custom initializers.\n",
    "\n",
    "## Exercises\n",
    "\n",
    "Look up the online documentation for more built-in initializers.\n"
   ]
  },
  {
   "cell_type": "markdown",
   "id": "a516b04e",
   "metadata": {
    "origin_pos": 46,
    "tab": [
     "tensorflow"
    ]
   },
   "source": [
    "[Discussions](https://discuss.d2l.ai/t/8091)\n"
   ]
  }
 ],
 "metadata": {
  "kernelspec": {
   "display_name": "conda_tensorflow_p36",
   "name": "conda_tensorflow_p36"
  },
  "language_info": {
   "name": "python"
  },
  "required_libs": []
 },
 "nbformat": 4,
 "nbformat_minor": 5
}