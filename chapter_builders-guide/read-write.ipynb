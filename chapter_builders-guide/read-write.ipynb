{
 "cells": [
  {
   "cell_type": "markdown",
   "id": "dcf151f8",
   "metadata": {
    "origin_pos": 0
   },
   "source": [
    "# File I/O\n",
    "\n",
    "So far we discussed how to process data and how\n",
    "to build, train, and test deep learning models.\n",
    "However, at some point, we will hopefully be happy enough\n",
    "with the learned models that we will want\n",
    "to save the results for later use in various contexts\n",
    "(perhaps even to make predictions in deployment).\n",
    "Additionally, when running a long training process,\n",
    "the best practice is to periodically save intermediate results (checkpointing)\n",
    "to ensure that we do not lose several days worth of computation\n",
    "if we trip over the power cord of our server.\n",
    "Thus it is time to learn how to load and store\n",
    "both individual weight vectors and entire models.\n",
    "This section addresses both issues.\n",
    "\n",
    "## (**Loading and Saving Tensors**)\n",
    "\n",
    "For individual tensors, we can directly\n",
    "invoke the `load` and `save` functions\n",
    "to read and write them respectively.\n",
    "Both functions require that we supply a name,\n",
    "and `save` requires as input the variable to be saved.\n"
   ]
  },
  {
   "cell_type": "code",
   "execution_count": 1,
   "id": "42b0d6d3",
   "metadata": {
    "execution": {
     "iopub.execute_input": "2022-08-29T10:00:47.987756Z",
     "iopub.status.busy": "2022-08-29T10:00:47.987192Z",
     "iopub.status.idle": "2022-08-29T10:00:50.100324Z",
     "shell.execute_reply": "2022-08-29T10:00:50.099464Z"
    },
    "origin_pos": 4,
    "tab": [
     "tensorflow"
    ]
   },
   "outputs": [],
   "source": [
    "import numpy as np\n",
    "import tensorflow as tf\n",
    "\n",
    "x = tf.range(4)\n",
    "np.save('x-file.npy', x)"
   ]
  },
  {
   "cell_type": "markdown",
   "id": "adb08360",
   "metadata": {
    "origin_pos": 5
   },
   "source": [
    "We can now read the data from the stored file back into memory.\n"
   ]
  },
  {
   "cell_type": "code",
   "execution_count": 2,
   "id": "e9e8e47d",
   "metadata": {
    "execution": {
     "iopub.execute_input": "2022-08-29T10:00:50.104941Z",
     "iopub.status.busy": "2022-08-29T10:00:50.104318Z",
     "iopub.status.idle": "2022-08-29T10:00:50.116092Z",
     "shell.execute_reply": "2022-08-29T10:00:50.115344Z"
    },
    "origin_pos": 8,
    "tab": [
     "tensorflow"
    ]
   },
   "outputs": [
    {
     "data": {
      "text/plain": [
       "array([0, 1, 2, 3], dtype=int32)"
      ]
     },
     "execution_count": 2,
     "metadata": {},
     "output_type": "execute_result"
    }
   ],
   "source": [
    "x2 = np.load('x-file.npy', allow_pickle=True)\n",
    "x2"
   ]
  },
  {
   "cell_type": "markdown",
   "id": "796a11e6",
   "metadata": {
    "origin_pos": 9
   },
   "source": [
    "We can [**store a list of tensors and read them back into memory.**]\n"
   ]
  },
  {
   "cell_type": "code",
   "execution_count": 3,
   "id": "ad9bf148",
   "metadata": {
    "execution": {
     "iopub.execute_input": "2022-08-29T10:00:50.160242Z",
     "iopub.status.busy": "2022-08-29T10:00:50.159714Z",
     "iopub.status.idle": "2022-08-29T10:00:50.166731Z",
     "shell.execute_reply": "2022-08-29T10:00:50.165964Z"
    },
    "origin_pos": 12,
    "tab": [
     "tensorflow"
    ]
   },
   "outputs": [
    {
     "data": {
      "text/plain": [
       "(array([0., 1., 2., 3.]), array([0., 0., 0., 0.]))"
      ]
     },
     "execution_count": 3,
     "metadata": {},
     "output_type": "execute_result"
    }
   ],
   "source": [
    "y = tf.zeros(4)\n",
    "np.save('xy-files.npy', [x, y])\n",
    "x2, y2 = np.load('xy-files.npy', allow_pickle=True)\n",
    "(x2, y2)"
   ]
  },
  {
   "cell_type": "markdown",
   "id": "0bf9f97d",
   "metadata": {
    "origin_pos": 13
   },
   "source": [
    "We can even [**write and read a dictionary that maps\n",
    "from strings to tensors.**]\n",
    "This is convenient when we want\n",
    "to read or write all the weights in a model.\n"
   ]
  },
  {
   "cell_type": "code",
   "execution_count": 4,
   "id": "e23eb93a",
   "metadata": {
    "execution": {
     "iopub.execute_input": "2022-08-29T10:00:50.170181Z",
     "iopub.status.busy": "2022-08-29T10:00:50.169723Z",
     "iopub.status.idle": "2022-08-29T10:00:50.176542Z",
     "shell.execute_reply": "2022-08-29T10:00:50.175811Z"
    },
    "origin_pos": 16,
    "tab": [
     "tensorflow"
    ]
   },
   "outputs": [
    {
     "data": {
      "text/plain": [
       "array({'x': <tf.Tensor: shape=(4,), dtype=int32, numpy=array([0, 1, 2, 3], dtype=int32)>, 'y': <tf.Tensor: shape=(4,), dtype=float32, numpy=array([0., 0., 0., 0.], dtype=float32)>},\n",
       "      dtype=object)"
      ]
     },
     "execution_count": 4,
     "metadata": {},
     "output_type": "execute_result"
    }
   ],
   "source": [
    "mydict = {'x': x, 'y': y}\n",
    "np.save('mydict.npy', mydict)\n",
    "mydict2 = np.load('mydict.npy', allow_pickle=True)\n",
    "mydict2"
   ]
  },
  {
   "cell_type": "markdown",
   "id": "4d13275b",
   "metadata": {
    "origin_pos": 17
   },
   "source": [
    "## [**Loading and Saving Model Parameters**]\n",
    "\n",
    "Saving individual weight vectors (or other tensors) is useful,\n",
    "but it gets very tedious if we want to save\n",
    "(and later load) an entire model.\n",
    "After all, we might have hundreds of\n",
    "parameter groups sprinkled throughout.\n",
    "For this reason the deep learning framework provides built-in functionalities\n",
    "to load and save entire networks.\n",
    "An important detail to note is that this\n",
    "saves model *parameters* and not the entire model.\n",
    "For example, if we have a 3-layer MLP,\n",
    "we need to specify the architecture separately.\n",
    "The reason for this is that the models themselves can contain arbitrary code,\n",
    "hence they cannot be serialized as naturally.\n",
    "Thus, in order to reinstate a model, we need\n",
    "to generate the architecture in code\n",
    "and then load the parameters from disk.\n",
    "(**Let's start with our familiar MLP.**)\n"
   ]
  },
  {
   "cell_type": "code",
   "execution_count": 5,
   "id": "4cc2f1ea",
   "metadata": {
    "execution": {
     "iopub.execute_input": "2022-08-29T10:00:50.179867Z",
     "iopub.status.busy": "2022-08-29T10:00:50.179420Z",
     "iopub.status.idle": "2022-08-29T10:00:50.224711Z",
     "shell.execute_reply": "2022-08-29T10:00:50.223948Z"
    },
    "origin_pos": 20,
    "tab": [
     "tensorflow"
    ]
   },
   "outputs": [],
   "source": [
    "class MLP(tf.keras.Model):\n",
    "    def __init__(self):\n",
    "        super().__init__()\n",
    "        self.flatten = tf.keras.layers.Flatten()\n",
    "        self.hidden = tf.keras.layers.Dense(units=256, activation=tf.nn.relu)\n",
    "        self.out = tf.keras.layers.Dense(units=10)\n",
    "\n",
    "    def call(self, inputs):\n",
    "        x = self.flatten(inputs)\n",
    "        x = self.hidden(x)\n",
    "        return self.out(x)\n",
    "\n",
    "net = MLP()\n",
    "X = tf.random.uniform((2, 20))\n",
    "Y = net(X)"
   ]
  },
  {
   "cell_type": "markdown",
   "id": "8cc047f3",
   "metadata": {
    "origin_pos": 21
   },
   "source": [
    "Next, we [**store the parameters of the model as a file**] with the name \"mlp.params\".\n"
   ]
  },
  {
   "cell_type": "code",
   "execution_count": 6,
   "id": "2f704bc6",
   "metadata": {
    "execution": {
     "iopub.execute_input": "2022-08-29T10:00:50.228040Z",
     "iopub.status.busy": "2022-08-29T10:00:50.227612Z",
     "iopub.status.idle": "2022-08-29T10:00:50.237477Z",
     "shell.execute_reply": "2022-08-29T10:00:50.236734Z"
    },
    "origin_pos": 24,
    "tab": [
     "tensorflow"
    ]
   },
   "outputs": [],
   "source": [
    "net.save_weights('mlp.params')"
   ]
  },
  {
   "cell_type": "markdown",
   "id": "9709d800",
   "metadata": {
    "origin_pos": 25
   },
   "source": [
    "To recover the model, we instantiate a clone\n",
    "of the original MLP model.\n",
    "Instead of randomly initializing the model parameters,\n",
    "we [**read the parameters stored in the file directly**].\n"
   ]
  },
  {
   "cell_type": "code",
   "execution_count": 7,
   "id": "cb0a837d",
   "metadata": {
    "execution": {
     "iopub.execute_input": "2022-08-29T10:00:50.240848Z",
     "iopub.status.busy": "2022-08-29T10:00:50.240427Z",
     "iopub.status.idle": "2022-08-29T10:00:50.250696Z",
     "shell.execute_reply": "2022-08-29T10:00:50.249946Z"
    },
    "origin_pos": 28,
    "tab": [
     "tensorflow"
    ]
   },
   "outputs": [
    {
     "data": {
      "text/plain": [
       "<tensorflow.python.training.tracking.util.CheckpointLoadStatus at 0x7f8ddfac1730>"
      ]
     },
     "execution_count": 7,
     "metadata": {},
     "output_type": "execute_result"
    }
   ],
   "source": [
    "clone = MLP()\n",
    "clone.load_weights('mlp.params')"
   ]
  },
  {
   "cell_type": "markdown",
   "id": "bba72191",
   "metadata": {
    "origin_pos": 29
   },
   "source": [
    "Since both instances have the same model parameters,\n",
    "the computational result of the same input `X` should be the same.\n",
    "Let's verify this.\n"
   ]
  },
  {
   "cell_type": "code",
   "execution_count": 8,
   "id": "d6c62354",
   "metadata": {
    "execution": {
     "iopub.execute_input": "2022-08-29T10:00:50.253990Z",
     "iopub.status.busy": "2022-08-29T10:00:50.253574Z",
     "iopub.status.idle": "2022-08-29T10:00:50.264969Z",
     "shell.execute_reply": "2022-08-29T10:00:50.264237Z"
    },
    "origin_pos": 30,
    "tab": [
     "tensorflow"
    ]
   },
   "outputs": [
    {
     "data": {
      "text/plain": [
       "<tf.Tensor: shape=(2, 10), dtype=bool, numpy=\n",
       "array([[ True,  True,  True,  True,  True,  True,  True,  True,  True,\n",
       "         True],\n",
       "       [ True,  True,  True,  True,  True,  True,  True,  True,  True,\n",
       "         True]])>"
      ]
     },
     "execution_count": 8,
     "metadata": {},
     "output_type": "execute_result"
    }
   ],
   "source": [
    "Y_clone = clone(X)\n",
    "Y_clone == Y"
   ]
  },
  {
   "cell_type": "markdown",
   "id": "919b219e",
   "metadata": {
    "origin_pos": 31
   },
   "source": [
    "## Summary\n",
    "\n",
    "* The `save` and `load` functions can be used to perform file I/O for tensor objects.\n",
    "* We can save and load the entire sets of parameters for a network via a parameter dictionary.\n",
    "* Saving the architecture has to be done in code rather than in parameters.\n",
    "\n",
    "## Exercises\n",
    "\n",
    "1. Even if there is no need to deploy trained models to a different device, what are the practical benefits of storing model parameters?\n",
    "1. Assume that we want to reuse only parts of a network to be incorporated into a network of a different architecture. How would you go about using, say the first two layers from a previous network in a new network?\n",
    "1. How would you go about saving the network architecture and parameters? What restrictions would you impose on the architecture?\n"
   ]
  },
  {
   "cell_type": "markdown",
   "id": "252b5355",
   "metadata": {
    "origin_pos": 34,
    "tab": [
     "tensorflow"
    ]
   },
   "source": [
    "[Discussions](https://discuss.d2l.ai/t/327)\n"
   ]
  }
 ],
 "metadata": {
  "kernelspec": {
   "display_name": "conda_tensorflow_p36",
   "name": "conda_tensorflow_p36"
  },
  "language_info": {
   "name": "python"
  }
 },
 "nbformat": 4,
 "nbformat_minor": 5
}